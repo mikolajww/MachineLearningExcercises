{
 "cells": [
  {
   "cell_type": "markdown",
   "metadata": {},
   "source": [
    "# Machine Learning (laboratory instruction)\n",
    "## Linear regression (part 3)\n",
    "\n",
    "### Submission\n",
    "\n",
    "<u>Submission:</u>\n",
    "\n",
    "Compress all files into **single zip** archive and submit via Wikamp. See below the content of the archive (replace the `name` and `surname` with proper values):\n",
    "```\n",
    "📂 name.surname.zip\n",
    "+-- 📜 02-Linear regression (part 3).ipynb\n",
    "+-- 🖼 dataset.npz\n",
    "```\n",
    "\n",
    "<u>Grades</u>\n",
    "\n",
    "| Percentage of all points | mark |\n",
    "| :----                    | ---: |\n",
    "| [0-50)   | 2   |\n",
    "| [50-60)  | 3   |\n",
    "| [60-70)  | 3.5 |\n",
    "| [70-80)  | 4   |\n",
    "| [80-90)  | 4.5 |\n",
    "| [90-100] | 5   |\n",
    "\n",
    "<u>Penalties</u>\n",
    "\n",
    "* `mark - 0.5` if tasks are submitted after laboratory (but less than 7 days); \n",
    "* `mark - 1` if tasks are submitted after one week (>=7 days but < 14 days);\n",
    "* `mark - 1.5` if tasks are submitted later than two weeks (>=14 days).\n",
    "\n",
    "<u>Warning:</u>\n",
    "\n",
    "It is NOT allowed to share your .ipynb file with other students nor Internet. All students should download the exercise files directly from WIKAMP. Group work is considered as plagiarism.\n",
    "\n",
    "<u>Plagiarism Disclaimer:</u>\n",
    "\n",
    "I hereby declare that this exercise is my own and autonomous work. I am aware of the consequences and I am familiar with the university regulations."
   ]
  },
  {
   "cell_type": "markdown",
   "metadata": {},
   "source": [
    "### The goal\n",
    "Your goal is to implement the regression algorithm that will be able to predict the weekly employee salary.\n",
    "\n",
    "### Task 1. Read the dataset from file.\n",
    "Read the data from `dataset.npz` file. This is a univariate data with information about the weekly salary of the employees. The function of the data is unknown.\n",
    "\n",
    "**Tip**: You can use below code to read the data:\n",
    "\n",
    "```python\n",
    "with open('dataset.npz', 'rb') as f:\n",
    "    data = np.load(f)\n",
    "    x, y = data['x'], data['y']\n",
    "```"
   ]
  },
  {
   "cell_type": "code",
   "execution_count": 2,
   "metadata": {},
   "outputs": [],
   "source": [
    "# >>> WRITE YOUR CODE IN THIS CELL <<<\n",
    "import numpy as np\n",
    "with open('dataset.npz', 'rb') as f:\n",
    "    data = np.load(f)\n",
    "    x, y = data['x'], data['y']"
   ]
  },
  {
   "cell_type": "markdown",
   "metadata": {},
   "source": [
    "### Task 2. Display the data.\n",
    "\n",
    "Display the data and try to guess what function approximates the data."
   ]
  },
  {
   "cell_type": "code",
   "execution_count": null,
   "metadata": {},
   "outputs": [],
   "source": [
    "# >>> WRITE YOUR CODE IN THIS CELL <<<\n"
   ]
  },
  {
   "cell_type": "markdown",
   "metadata": {},
   "source": [
    "### Task 3. Implement the function.\n",
    "Implement function $f$ that approximates the data. The $a$ and $b$ are the hyperparameters of the function.\n",
    "\n",
    "$$\n",
    "f(x) = ax + b\n",
    "$$"
   ]
  },
  {
   "cell_type": "code",
   "execution_count": null,
   "metadata": {},
   "outputs": [],
   "source": [
    "# >>> WRITE YOUR CODE IN THIS CELL <<<\n"
   ]
  },
  {
   "cell_type": "markdown",
   "metadata": {},
   "source": [
    "### Task 4. Implement cost function.\n",
    "\n",
    "Implement mean squared error (MSE) function and its derivatives with respect to hyperparameters of the function $f$ (implemented in previous task). This is the cost function that you will have to minimize.\n",
    "\n",
    "* MSE formula:\n",
    "    $MSE = \\frac{1}{m}\\sum(f(x) - y)^2$\n",
    "\n",
    "* MSE derivative:\n",
    "    $MSE' = \\frac{2}{m}\\sum(f(x) - y)$\n",
    "\n",
    "* MSE partial derivatives (if $f(x) = ax + b$):\n",
    "    * $MSE'(a) = \\frac{2}{m}\\sum(f(x) - y)x$\n",
    "    * $MSE'(b) = \\frac{2}{m}\\sum(f(x) - y)$\n"
   ]
  },
  {
   "cell_type": "code",
   "execution_count": null,
   "metadata": {},
   "outputs": [],
   "source": [
    "# >>> WRITE YOUR CODE IN THIS CELL <<<\n"
   ]
  },
  {
   "cell_type": "markdown",
   "metadata": {},
   "source": [
    "### Task 5. Train the model.\n",
    "\n",
    "Train the model using Gradient Descent algorithm. Find proper learning rate $\\alpha$ (if the cost function is growing it means that the learning rage is too high, try to decrease it).\n",
    "\n",
    "*Note: Training may take time. Do not hesitate to set the number of iterations to high value e.g. 50000.*"
   ]
  },
  {
   "cell_type": "code",
   "execution_count": null,
   "metadata": {},
   "outputs": [],
   "source": [
    "# >>> WRITE YOUR CODE IN THIS CELL <<<\n"
   ]
  },
  {
   "cell_type": "markdown",
   "metadata": {},
   "source": [
    "### Task 6. Display the results.\n",
    "Display the data and function on the same chart."
   ]
  },
  {
   "cell_type": "code",
   "execution_count": null,
   "metadata": {},
   "outputs": [],
   "source": [
    "# >>> WRITE YOUR CODE IN THIS CELL <<<\n"
   ]
  },
  {
   "cell_type": "markdown",
   "metadata": {},
   "source": [
    "### Task 7. Prediction.\n",
    "Predict at least 3 results for different numbers. Present the prediction and original data (with different colors) at the same chart.\n",
    "\n",
    "Example:\n",
    "\n",
    "<img width=\"250\" src=\"data:image/png;base64,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\" />"
   ]
  },
  {
   "cell_type": "code",
   "execution_count": null,
   "metadata": {},
   "outputs": [],
   "source": [
    "# >>> WRITE YOUR CODE IN THIS CELL <<<\n"
   ]
  }
 ],
 "metadata": {
  "author": {
   "emails": [
    "robert.susik@p.lodz.pl",
    "rsusik@kis.p.lodz.pl"
   ],
   "name": "Robert Susik"
  },
  "kernelspec": {
   "display_name": "Python 3",
   "language": "python",
   "name": "python3"
  },
  "language_info": {
   "codemirror_mode": {
    "name": "ipython",
    "version": 3
   },
   "file_extension": ".py",
   "mimetype": "text/x-python",
   "name": "python",
   "nbconvert_exporter": "python",
   "pygments_lexer": "ipython3",
   "version": "3.8.1"
  },
  "toc": {
   "base_numbering": 1,
   "nav_menu": {},
   "number_sections": true,
   "sideBar": true,
   "skip_h1_title": false,
   "title_cell": "Table of Contents",
   "title_sidebar": "Contents",
   "toc_cell": false,
   "toc_position": {},
   "toc_section_display": true,
   "toc_window_display": false
  }
 },
 "nbformat": 4,
 "nbformat_minor": 4
}
