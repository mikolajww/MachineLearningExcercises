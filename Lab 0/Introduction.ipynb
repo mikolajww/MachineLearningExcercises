{
 "cells": [
  {
   "cell_type": "markdown",
   "metadata": {},
   "source": [
    "# Machine Learning\n",
    "(02 58 6162 01)\n",
    "\n",
    "\n",
    "## Organisation\n",
    "\n",
    "### The laboratories\n",
    "1st part of semester\n",
    "\n",
    "#### WIKAMP\n",
    "All tasks should be submitted via WIKAMP platform\n",
    "\n",
    "#### MS Teams\n",
    "The laboratories are conducted via MS Teams.\n",
    "\n",
    "\n",
    "### Grade\n",
    "Average of all marks.\n",
    "\n",
    "#### Marks:\n",
    "* Tasks during the laboratories.\n",
    "* Activity - control questions during the laboratory.\n",
    "* Tests - there may be a verbal or written test during the laboratory.\n",
    "\n",
    "##### Penalties:\n",
    "* -0.5 if task is not submitted during the laboratory\n",
    "* -1 if task is submitted within the week\n",
    "* -1.5 if task is submitted later\n",
    "* 2 if task is submitted after the last laboratory.\n",
    "\n",
    "Student get Grade 2 if:\n",
    "- plagiarism is detected in any of the given tasks,\n",
    "- the work is not independent (the individual task is done in group).\n",
    "\n",
    "Student should be prepared to each laboratory, thus should have:\n",
    "- PC\n",
    "- camera (if needed - test)\n",
    "- headset (or equivalent).\n",
    "\n",
    "\n",
    "## Environment setup\n",
    "\n",
    "1. Install Miniconda\n",
    "    - Windows\n",
    "        * Follow the instruction: https://docs.conda.io/projects/conda/en/latest/user-guide/install/windows.html\n",
    "    - Lunix\n",
    "        * Execute below commands from terminal:\n",
    "            * `wget https://repo.anaconda.com/miniconda/Miniconda3-latest-Linux-x86_64.sh`\n",
    "            * `bash Miniconda3-latest-Linux-x86_64.sh`\n",
    "        * or follow the instruction: https://docs.conda.io/projects/conda/en/latest/user-guide/install/linux.html\n",
    "2. Open terminal/command line:\n",
    "    - Windows\n",
    "        * Start -> Anaconda Prompt\n",
    "3. Create virtual environment by running below command:<br />\n",
    "    ```conda create -n ml python=3.8 notebook numpy pandas matplotlib scikit-learn```\n",
    "\n",
    "\n",
    "4. Activate virtual environment:<br />\n",
    "    ```conda activate ml```\n",
    "\n",
    "\n",
    "5. Run Jupyter Notebook:<br />\n",
    "    ```jupyter notebook```\n",
    "\n",
    "\n",
    "*Note: you may replace `ml` with your own environment name.*\n",
    "\n",
    "The mentioned above commands installed following python packages:\n",
    "- notebook (Jupyer Notebook)\n",
    "- numpy (numerical computing tools)\n",
    "- pandas (Python data analysis library)\n",
    "- matplotlib (library for creating visualizations)\n",
    "- scikit-learn (machine learning tools)\n",
    "\n",
    "## Tasks\n",
    "\n",
    "<u>Submission:</u>\n",
    "\n",
    "Compress all files into **single zip** archive and submit via Wikamp. See below the content of the archive (replace the `name` and `surname` with proper values):\n",
    "```\n",
    "📂 name.surname.zip\n",
    "+-- 📜 Instroduction.ipynb\n",
    "```\n",
    "\n",
    "<u>WARNING:</u>\n",
    "\n",
    "It is NOT allowed to share your .ipynb file with other students. All students should download the exercise files directly from WIKAMP.\n",
    "\n",
    "<u>Plagiarism Disclaimer:</u>\n",
    "\n",
    "I hereby declare that this exercise is my own and autonomous work. I am aware of the consequences and I am familiar with the university regulations.\n",
    "\n"
   ]
  },
  {
   "cell_type": "code",
   "execution_count": 1,
   "metadata": {},
   "outputs": [
    {
     "data": {
      "text/plain": [
       "pandas.core.frame.DataFrame"
      ]
     },
     "execution_count": 1,
     "metadata": {},
     "output_type": "execute_result"
    }
   ],
   "source": [
    "import pandas as pd\n",
    "pd.DataFrame"
   ]
  },
  {
   "cell_type": "code",
   "execution_count": null,
   "metadata": {},
   "outputs": [],
   "source": []
  }
 ],
 "metadata": {
  "author": {
   "emails": [
    "robert.susik@p.lodz.pl",
    "rsusik@kis.p.lodz.pl"
   ],
   "name": "Robert Susik"
  },
  "kernelspec": {
   "display_name": "Python 3",
   "language": "python",
   "name": "python3"
  },
  "language_info": {
   "codemirror_mode": {
    "name": "ipython",
    "version": 3
   },
   "file_extension": ".py",
   "mimetype": "text/x-python",
   "name": "python",
   "nbconvert_exporter": "python",
   "pygments_lexer": "ipython3",
   "version": "3.8.8"
  },
  "toc": {
   "base_numbering": 1,
   "nav_menu": {},
   "number_sections": true,
   "sideBar": true,
   "skip_h1_title": false,
   "title_cell": "Table of Contents",
   "title_sidebar": "Contents",
   "toc_cell": false,
   "toc_position": {},
   "toc_section_display": true,
   "toc_window_display": false
  }
 },
 "nbformat": 4,
 "nbformat_minor": 4
}
