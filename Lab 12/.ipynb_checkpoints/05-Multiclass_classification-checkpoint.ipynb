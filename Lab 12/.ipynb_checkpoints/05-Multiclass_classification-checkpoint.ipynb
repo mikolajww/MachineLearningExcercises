{
 "cells": [
  {
   "cell_type": "markdown",
   "metadata": {},
   "source": [
    "# Machine Learning (laboratory instruction)\n",
    "## Classification metrics\n",
    "\n",
    "### Submission\n",
    "\n",
    "<u>Submission:</u>\n",
    "\n",
    "Compress all files into **single zip** archive and submit via Wikamp. See below the content of the archive (replace the `name` and `surname` with proper values):\n",
    "```\n",
    "📂 name.surname.zip\n",
    "+-- 📜 05-Multiclass classification.ipynb\n",
    "```\n",
    "\n",
    "<u>Grades</u>\n",
    "\n",
    "| Percentage of all points | mark |\n",
    "| :----                    | ---: |\n",
    "| [0-50)   | 2   |\n",
    "| [50-60)  | 3   |\n",
    "| [60-70)  | 3.5 |\n",
    "| [70-80)  | 4   |\n",
    "| [80-90)  | 4.5 |\n",
    "| [90-100] | 5   |\n",
    "\n",
    "<u>Penalties</u>\n",
    "\n",
    "* `mark - 0.5` if tasks are submitted after laboratory (but less than 7 days); \n",
    "* `mark - 1` if tasks are submitted after one week (>=7 days but < 14 days);\n",
    "* `mark - 1.5` if tasks are submitted later than two weeks (>=14 days).\n",
    "\n",
    "<u>Warning:</u>\n",
    "\n",
    "It is NOT allowed to share your .ipynb file with other students nor Internet. All students should download the exercise files directly from WIKAMP. Group work is considered as plagiarism.\n",
    "\n",
    "<u>Plagiarism Disclaimer:</u>\n",
    "\n",
    "I hereby declare that this exercise is my own and autonomous work. I am aware of the consequences and I am familiar with the university regulations."
   ]
  },
  {
   "cell_type": "markdown",
   "metadata": {},
   "source": [
    "### The goal.\n",
    "\n",
    "Multi-class classification.\n",
    "\n",
    "In previous laboratory you made a binary classifier. Such classifier assigns one of two labels to samples. In many machine learning applications there is a need to classify samples into more than two groups. This kind of classification is called multi-class classification.\n",
    "\n",
    "### Task 0. Read the data.\n",
    "\n",
    "Read the data from file `animals.npz`.\n",
    "It is a data read from 20 sensors attached to the animal head. The sensors were put on multiple animals, and data has been collected and annotated.\n",
    "\n",
    "**Tip**: You can use below code to read the data:\n",
    "\n",
    "```python\n",
    "import sklearn.datasets\n",
    "import numpy as np\n",
    "from tqdm import tqdm\n",
    "\n",
    "with open('animals.npz', 'rb') as f:\n",
    "    data = np.load(f)\n",
    "    x_train, x_test, y_train, y_test, classes = data['x_train'], data['x_test'], data['y_train'], data['y_test'], data['classes']\n",
    "```\n",
    "```\n",
    "\n"
   ]
  },
  {
   "cell_type": "code",
   "execution_count": 1,
   "metadata": {},
   "outputs": [
    {
     "ename": "FileNotFoundError",
     "evalue": "[Errno 2] No such file or directory: 'animals.npz'",
     "output_type": "error",
     "traceback": [
      "\u001b[1;31m---------------------------------------------------------------------------\u001b[0m",
      "\u001b[1;31mFileNotFoundError\u001b[0m                         Traceback (most recent call last)",
      "\u001b[1;32m<ipython-input-1-be72119a6409>\u001b[0m in \u001b[0;36m<module>\u001b[1;34m\u001b[0m\n\u001b[0;32m      4\u001b[0m \u001b[1;32mimport\u001b[0m \u001b[0mmatplotlib\u001b[0m\u001b[1;33m.\u001b[0m\u001b[0mpyplot\u001b[0m \u001b[1;32mas\u001b[0m \u001b[0mplt\u001b[0m\u001b[1;33m\u001b[0m\u001b[1;33m\u001b[0m\u001b[0m\n\u001b[0;32m      5\u001b[0m \u001b[1;33m\u001b[0m\u001b[0m\n\u001b[1;32m----> 6\u001b[1;33m \u001b[1;32mwith\u001b[0m \u001b[0mopen\u001b[0m\u001b[1;33m(\u001b[0m\u001b[1;34m'animals.npz'\u001b[0m\u001b[1;33m,\u001b[0m \u001b[1;34m'rb'\u001b[0m\u001b[1;33m)\u001b[0m \u001b[1;32mas\u001b[0m \u001b[0mf\u001b[0m\u001b[1;33m:\u001b[0m\u001b[1;33m\u001b[0m\u001b[1;33m\u001b[0m\u001b[0m\n\u001b[0m\u001b[0;32m      7\u001b[0m     \u001b[0mdata\u001b[0m \u001b[1;33m=\u001b[0m \u001b[0mnp\u001b[0m\u001b[1;33m.\u001b[0m\u001b[0mload\u001b[0m\u001b[1;33m(\u001b[0m\u001b[0mf\u001b[0m\u001b[1;33m)\u001b[0m\u001b[1;33m\u001b[0m\u001b[1;33m\u001b[0m\u001b[0m\n\u001b[0;32m      8\u001b[0m     \u001b[0mx_train\u001b[0m\u001b[1;33m,\u001b[0m \u001b[0mx_test\u001b[0m\u001b[1;33m,\u001b[0m \u001b[0my_train\u001b[0m\u001b[1;33m,\u001b[0m \u001b[0my_test\u001b[0m\u001b[1;33m,\u001b[0m \u001b[0mclasses\u001b[0m \u001b[1;33m=\u001b[0m \u001b[0mdata\u001b[0m\u001b[1;33m[\u001b[0m\u001b[1;34m'x_train'\u001b[0m\u001b[1;33m]\u001b[0m\u001b[1;33m,\u001b[0m \u001b[0mdata\u001b[0m\u001b[1;33m[\u001b[0m\u001b[1;34m'x_test'\u001b[0m\u001b[1;33m]\u001b[0m\u001b[1;33m,\u001b[0m \u001b[0mdata\u001b[0m\u001b[1;33m[\u001b[0m\u001b[1;34m'y_train'\u001b[0m\u001b[1;33m]\u001b[0m\u001b[1;33m,\u001b[0m \u001b[0mdata\u001b[0m\u001b[1;33m[\u001b[0m\u001b[1;34m'y_test'\u001b[0m\u001b[1;33m]\u001b[0m\u001b[1;33m,\u001b[0m \u001b[0mdata\u001b[0m\u001b[1;33m[\u001b[0m\u001b[1;34m'classes'\u001b[0m\u001b[1;33m]\u001b[0m\u001b[1;33m\u001b[0m\u001b[1;33m\u001b[0m\u001b[0m\n",
      "\u001b[1;31mFileNotFoundError\u001b[0m: [Errno 2] No such file or directory: 'animals.npz'"
     ]
    }
   ],
   "source": [
    "import sklearn.datasets\n",
    "import numpy as np\n",
    "from tqdm import tqdm\n",
    "import matplotlib.pyplot as plt\n",
    "\n",
    "with open('animals.npz', 'rb') as f:\n",
    "    data = np.load(f)\n",
    "    x_train, x_test, y_train, y_test, classes = data['x_train'], data['x_test'], data['y_train'], data['y_test'], data['classes']"
   ]
  },
  {
   "cell_type": "markdown",
   "metadata": {},
   "source": [
    "\n",
    "### Task 1. Data preprocessing - one-hot encoding.\n",
    "To perform multi-class classification we need to prepare the data. We are about to predict the probability that particular sample belongs to one of $k$ classes. In this case, we expect that the result contains $k$ numbers where each tells the probability that the sample belongs to such class. Perfectly, if the sample belongs to the class the model returns 1 and zeros for other classes.\n",
    "\n",
    "Before we start training the data should be prepared properly. For this case implement one-hot encoding function that will perform the below operation:\n",
    "\n",
    "$$\n",
    "\\begin{align}\n",
    "z_{i=0 \\cdots k-1}(x) = \\begin{cases}\n",
    "1&\\text{if $x=i$}\\\\\n",
    "0&\\text{if otherwise}\\\\\n",
    "\\end{cases}\n",
    "\\end{align}\n",
    "$$\n",
    "\n",
    ", where $k$ is the number of classes, $z$ if the one-hot vector and x if the number (index) of class.\n",
    "\n",
    "Example ($k=6$):\n",
    "\n",
    "| x     | z           |\n",
    "| :---- |       ---:  |\n",
    "| 2     | 0 0 1 0 0 0 |\n",
    "| 5     | 0 0 0 0 0 1 |\n",
    "| 1     | 0 1 0 0 0 0 |\n",
    "| 0     | 1 0 0 0 0 0 |\n",
    "\n",
    "*Note: it is worth to add bias feature at this point.*"
   ]
  },
  {
   "cell_type": "code",
   "execution_count": 2,
   "metadata": {},
   "outputs": [],
   "source": [
    "def one_hot_encoding(label, class_n) :\n",
    "    output = np.zeros( (len(label), class_n) )\n",
    "    \n",
    "    for _ in range(len(label)) :\n",
    "        output[_][label[_]] = 1\n",
    "    \n",
    "    return output"
   ]
  },
  {
   "cell_type": "code",
   "execution_count": 3,
   "metadata": {},
   "outputs": [
    {
     "name": "stdout",
     "output_type": "stream",
     "text": [
      "[[0. 1. 0. 0.]\n",
      " [0. 0. 1. 0.]\n",
      " [0. 0. 1. 0.]\n",
      " ...\n",
      " [0. 0. 1. 0.]\n",
      " [0. 0. 1. 0.]\n",
      " [1. 0. 0. 0.]]\n",
      "[[0. 1. 0. 0.]\n",
      " [0. 0. 0. 1.]\n",
      " [0. 0. 0. 1.]\n",
      " ...\n",
      " [0. 0. 0. 1.]\n",
      " [0. 1. 0. 0.]\n",
      " [0. 0. 0. 1.]]\n"
     ]
    }
   ],
   "source": [
    "y_train = one_hot_encoding(y_train, len(classes))\n",
    "y_test = one_hot_encoding(y_test, len(classes))\n",
    "print(y_train)\n",
    "print(y_test)"
   ]
  },
  {
   "cell_type": "markdown",
   "metadata": {},
   "source": [
    "### Task 2. Softmax.\n",
    "\n",
    "The logistic regression uses the sigmoid function to classify the sample into one of two groups. This time we want to assign one of >2 labels to sample. For this case, implement the softmax function that returns a vector of probabilities:\n",
    "\n",
    "$$\n",
    "\\sigma(z)_i = \\frac{e^{z_i}}{\\sum_{j}^{k-1}e^{z_j}}\n",
    "$$\n",
    "\n",
    ", where $z$ is the vector that contains the scores, and $k$ is the number of classes.\n",
    "\n",
    "*Note: $\\sum\\sigma(z) = 1$.*"
   ]
  },
  {
   "cell_type": "code",
   "execution_count": 4,
   "metadata": {},
   "outputs": [],
   "source": [
    "def softmax(x) :\n",
    "    e_x = np.exp(x - np.max(x))\n",
    "    return e_x / e_x.sum(axis=0)"
   ]
  },
  {
   "cell_type": "markdown",
   "metadata": {},
   "source": [
    "### Task 3. Train the model.\n",
    "\n",
    "To train the model we will use the cross-entropy cost function:\n",
    "\n",
    "$$\n",
    "c(\\theta) =\n",
    "- \\dfrac{1}{m}\\sum\\limits_{i}^{m-1}\\sum\\limits_{k}^{K-1}{t_k^{(i)}\\log\\left(y_k^{(i)}\\right)}\n",
    "$$\n",
    "\n",
    ", where $K$ is the number of classes, $m$ is the number of samples, $t$ is the ground truth (expected) values, $y$ is the prediction (predicted values).\n",
    "\n",
    "The equation for the gradient:\n",
    "\n",
    "$$\n",
    "\\nabla_{\\mathbf{\\theta}^{(k)}} \\, c(\\theta) = \\dfrac{1}{m} \\sum\\limits_{i}^{m-1}{ \\left ( y^{(i)}_k - t_k^{(i)} \\right ) \\mathbf{x}^{(i)}}\n",
    "$$\n",
    "\n",
    "*Note: the $log(0)$ returns `-inf`, so you may need to add tiny value to avoid it.*\n",
    "\n",
    "*Note 2: for vectorized form you may need to specify the `axis` parameter for functions such as `sum` or `mean`.*"
   ]
  },
  {
   "cell_type": "code",
   "execution_count": 7,
   "metadata": {},
   "outputs": [
    {
     "name": "stdout",
     "output_type": "stream",
     "text": [
      "DONE\n"
     ]
    }
   ],
   "source": [
    "def cross_entropy_cost(x, y, w, alpha) :\n",
    "    return ( -1 / len(x) ) * sum( sum( y * np.log(softmax(x @ w) + 1e-9 ) ) ) + ( alpha * np.square( np.linalg.norm(w) ) )\n",
    "\n",
    "def gradient(x, y, w, alpha) :\n",
    "    return ( 1 / len(x) ) * sux.T @ np.subtract(softmax(x @ w), y) + ( 2 * alpha * w )\n",
    "    \n",
    "def gradient_descent(x, y, w, lr, alpha) :\n",
    "    return w - lr * gradient(x, y, w, alpha)\n",
    "\n",
    "def accuracy(tested, target) :\n",
    "    t = np.argmax(tested, axis=1)\n",
    "    n = np.argmax(target, axis=1)\n",
    "    \n",
    "    return sum(t == n) / len(target)\n",
    "\n",
    "w = np.random.randn(20, len(classes))\n",
    "\n",
    "lr      = 1e-3\n",
    "epochs  = 10000\n",
    "alpha   = 0.8\n",
    "\n",
    "train   = []\n",
    "test    = []\n",
    "\n",
    "accuracy_test  = []\n",
    "accuracy_train = []\n",
    "\n",
    "for _ in range(epochs) :\n",
    "    w = gradient_descent( x_train, y_train, w, lr, alpha )\n",
    "    \n",
    "    train.append( cross_entropy_cost(x_train, y_train, w, alpha) )\n",
    "    test.append(  cross_entropy_cost(x_test, y_test, w, alpha) )\n",
    "    \n",
    "    accuracy_train.append( accuracy(softmax(x_train @ w), y_train) )\n",
    "    accuracy_test.append( accuracy(softmax(x_test @ w),  y_test) )\n",
    "    \n",
    "print('DONE')"
   ]
  },
  {
   "cell_type": "markdown",
   "metadata": {},
   "source": [
    "### Task 4. Results.\n",
    "\n",
    "* Display the training and testing loss.\n",
    "* Calculate the accuracy score."
   ]
  },
  {
   "cell_type": "code",
   "execution_count": 8,
   "metadata": {},
   "outputs": [
    {
     "data": {
      "image/png": "[encoded data removed]",
      "text/plain": [
       "<Figure size 432x288 with 1 Axes>"
      ]
     },
     "metadata": {
      "needs_background": "light"
     },
     "output_type": "display_data"
    },
    {
     "data": {
      "image/png": "[encoded data removed]",
      "text/plain": [
       "<Figure size 432x288 with 1 Axes>"
      ]
     },
     "metadata": {
      "needs_background": "light"
     },
     "output_type": "display_data"
    }
   ],
   "source": [
    "plt.plot(train, label='train loss')\n",
    "plt.plot(test,  label='test loss' )\n",
    "plt.legend()\n",
    "plt.show()\n",
    "\n",
    "plt.plot(accuracy_train, label='train accuracy')\n",
    "plt.plot(accuracy_test,  label='test accuracy' )\n",
    "plt.legend()\n",
    "plt.show()"
   ]
  },
  {
   "cell_type": "code",
   "execution_count": null,
   "metadata": {},
   "outputs": [],
   "source": []
  }
 ],
 "metadata": {
  "author": {
   "emails": [
    "robert.susik@p.lodz.pl",
    "rsusik@kis.p.lodz.pl"
   ],
   "name": "Robert Susik"
  },
  "kernelspec": {
   "display_name": "Python 3",
   "language": "python",
   "name": "python3"
  },
  "language_info": {
   "codemirror_mode": {
    "name": "ipython",
    "version": 3
   },
   "file_extension": ".py",
   "mimetype": "text/x-python",
   "name": "python",
   "nbconvert_exporter": "python",
   "pygments_lexer": "ipython3",
   "version": "3.8.1"
  },
  "toc": {
   "base_numbering": 1,
   "nav_menu": {},
   "number_sections": true,
   "sideBar": true,
   "skip_h1_title": false,
   "title_cell": "Table of Contents",
   "title_sidebar": "Contents",
   "toc_cell": false,
   "toc_position": {},
   "toc_section_display": true,
   "toc_window_display": true
  }
 },
 "nbformat": 4,
 "nbformat_minor": 4
}
