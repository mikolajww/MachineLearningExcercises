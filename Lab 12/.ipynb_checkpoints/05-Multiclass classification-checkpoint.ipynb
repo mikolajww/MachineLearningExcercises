{
 "cells": [
  {
   "cell_type": "markdown",
   "metadata": {},
   "source": [
    "# Machine Learning (laboratory instruction)\n",
    "## Classification metrics\n",
    "\n",
    "### Submission\n",
    "\n",
    "<u>Submission:</u>\n",
    "\n",
    "Compress all files into **single zip** archive and submit via Wikamp. See below the content of the archive (replace the `name` and `surname` with proper values):\n",
    "```\n",
    "📂 name.surname.zip\n",
    "+-- 📜 05-Multiclass classification.ipynb\n",
    "```\n",
    "\n",
    "<u>Grades</u>\n",
    "\n",
    "| Percentage of all points | mark |\n",
    "| :----                    | ---: |\n",
    "| [0-50)   | 2   |\n",
    "| [50-60)  | 3   |\n",
    "| [60-70)  | 3.5 |\n",
    "| [70-80)  | 4   |\n",
    "| [80-90)  | 4.5 |\n",
    "| [90-100] | 5   |\n",
    "\n",
    "<u>Penalties</u>\n",
    "\n",
    "* `mark - 0.5` if tasks are submitted after laboratory (but less than 7 days); \n",
    "* `mark - 1` if tasks are submitted after one week (>=7 days but < 14 days);\n",
    "* `mark - 1.5` if tasks are submitted later than two weeks (>=14 days).\n",
    "\n",
    "<u>Warning:</u>\n",
    "\n",
    "It is NOT allowed to share your .ipynb file with other students nor Internet. All students should download the exercise files directly from WIKAMP. Group work is considered as plagiarism.\n",
    "\n",
    "<u>Plagiarism Disclaimer:</u>\n",
    "\n",
    "I hereby declare that this exercise is my own and autonomous work. I am aware of the consequences and I am familiar with the university regulations."
   ]
  },
  {
   "cell_type": "markdown",
   "metadata": {},
   "source": [
    "### The goal.\n",
    "\n",
    "Multi-class classification.\n",
    "\n",
    "In previous laboratory you made a binary classifier. Such classifier assigns one of two labels to samples. In many machine learning applications there is a need to classify samples into more than two groups. This kind of classification is called multi-class classification.\n",
    "\n",
    "### Task 0. Read the data.\n",
    "\n",
    "Read the data from file `animals.npz`.\n",
    "It is a data read from 20 sensors attached to the animal head. The sensors were put on multiple animals, and data has been collected and annotated.\n",
    "\n",
    "**Tip**: You can use below code to read the data:\n",
    "\n",
    "```python\n",
    "import sklearn.datasets\n",
    "import numpy as np\n",
    "from tqdm import tqdm\n",
    "\n",
    "with open('animals.npz', 'rb') as f:\n",
    "    data = np.load(f)\n",
    "    x_train, x_test, y_train, y_test, classes = data['x_train'], data['x_test'], data['y_train'], data['y_test'], data['classes']\n",
    "```\n",
    "```\n",
    "\n"
   ]
  },
  {
   "cell_type": "code",
   "execution_count": 1,
   "metadata": {},
   "outputs": [
    {
     "name": "stdout",
     "output_type": "stream",
     "text": [
      "['cat' 'dog' 'mouse' 'monkey']\n",
      "(500, 20)\n"
     ]
    }
   ],
   "source": [
    "# >>> WRITE YOUR CODE BELOW <<<\n",
    "import sklearn.datasets\n",
    "import numpy as np\n",
    "from tqdm import tqdm\n",
    "\n",
    "with open('animals.npz', 'rb') as f:\n",
    "    data = np.load(f)\n",
    "    x_train, x_test, y_train, y_test, classes = data['x_train'], data['x_test'], data['y_train'], data['y_test'], data['classes']\n",
    "print(classes)\n",
    "print(x_train.shape)\n",
    "x_train = np.hstack((np.ones(len(x_train)).reshape(-1, 1), x_train))\n",
    "x_test = np.hstack((np.ones(len(x_test)).reshape(-1, 1), x_test))"
   ]
  },
  {
   "cell_type": "markdown",
   "metadata": {},
   "source": [
    "\n",
    "### Task 1. Data preprocessing - one-hot encoding.\n",
    "To perform multi-class classification we need to prepare the data. We are about to predict the probability that particular sample belongs to one of $k$ classes. In this case, we expect that the result contains $k$ numbers where each tells the probability that the sample belongs to such class. Perfectly, if the sample belongs to the class the model returns 1 and zeros for other classes.\n",
    "\n",
    "Before we start training the data should be prepared properly. For this case implement one-hot encoding function that will perform the below operation:\n",
    "\n",
    "$$\n",
    "\\begin{align}\n",
    "z_{i=0 \\cdots k-1}(x) = \\begin{cases}\n",
    "1&\\text{if $x=i$}\\\\\n",
    "0&\\text{if otherwise}\\\\\n",
    "\\end{cases}\n",
    "\\end{align}\n",
    "$$\n",
    "\n",
    ", where $k$ is the number of classes, $z$ if the one-hot vector and x if the number (index) of class.\n",
    "\n",
    "Example ($k=6$):\n",
    "\n",
    "| x     | z           |\n",
    "| :---- |       ---:  |\n",
    "| 2     | 0 0 1 0 0 0 |\n",
    "| 5     | 0 0 0 0 0 1 |\n",
    "| 1     | 0 1 0 0 0 0 |\n",
    "| 0     | 1 0 0 0 0 0 |\n",
    "\n",
    "*Note: it is worth to add bias feature at this point.*"
   ]
  },
  {
   "cell_type": "code",
   "execution_count": 2,
   "metadata": {},
   "outputs": [
    {
     "name": "stdout",
     "output_type": "stream",
     "text": [
      "[[0. 1. 0. 0.]\n",
      " [0. 0. 1. 0.]\n",
      " [0. 0. 1. 0.]\n",
      " ...\n",
      " [0. 0. 1. 0.]\n",
      " [0. 0. 1. 0.]\n",
      " [1. 0. 0. 0.]] [[0. 1. 0. 0.]\n",
      " [0. 0. 0. 1.]\n",
      " [0. 0. 0. 1.]\n",
      " ...\n",
      " [0. 0. 0. 1.]\n",
      " [0. 1. 0. 0.]\n",
      " [0. 0. 0. 1.]]\n"
     ]
    }
   ],
   "source": [
    "# >>> WRITE YOUR CODE BELOW <<<\n",
    "def to_one_hot(labels, n_classes):\n",
    "    one_hot = np.zeros(shape=(labels.shape[0], n_classes))\n",
    "    for i, label in enumerate(labels):\n",
    "        one_hot[i][label] = 1\n",
    "    return one_hot\n",
    "\n",
    "y_train = to_one_hot(y_train, len(classes))\n",
    "y_test = to_one_hot(y_test, len(classes))\n",
    "print(y_train, y_test)"
   ]
  },
  {
   "cell_type": "markdown",
   "metadata": {},
   "source": [
    "### Task 2. Softmax.\n",
    "\n",
    "The logistic regression uses the sigmoid function to classify the sample into one of two groups. This time we want to assign one of >2 labels to sample. For this case, implement the softmax function that returns a vector of probabilities:\n",
    "\n",
    "$$\n",
    "\\sigma(z)_i = \\frac{e^{z_i}}{\\sum_{j}^{k-1}e^{z_j}}\n",
    "$$\n",
    "\n",
    ", where $z$ is the vector that contains the scores, and $k$ is the number of classes.\n",
    "\n",
    "*Note: $\\sum\\sigma(z) = 1$.*"
   ]
  },
  {
   "cell_type": "code",
   "execution_count": 13,
   "metadata": {},
   "outputs": [],
   "source": [
    "# >>> WRITE YOUR CODE BELOW <<<\n",
    "def softmax(x):\n",
    "    e_x = np.exp(x - np.max(x)) #prevent overflow\n",
    "    out = e_x / e_x.sum(axis=0)\n",
    "    return out\n",
    "\n"
   ]
  },
  {
   "cell_type": "markdown",
   "metadata": {},
   "source": [
    "### Task 3. Train the model.\n",
    "\n",
    "To train the model we will use the cross-entropy cost function:\n",
    "\n",
    "$$\n",
    "c(\\theta) =\n",
    "- \\dfrac{1}{m}\\sum\\limits_{i=0}^{m-1}\\sum\\limits_{k=0}^{K-1}{t_k^{(i)}\\log\\left(y_k^{(i)}\\right)}\n",
    "$$\n",
    "\n",
    ", where $K$ is the number of classes, $m$ is the number of samples, $t$ is the ground truth (expected) values, $y$ is the prediction (predicted values).\n",
    "\n",
    "The equation for the gradient:\n",
    "\n",
    "$$\n",
    "\\nabla_{\\mathbf{\\theta}^{(k)}} \\, c(\\theta) = \\dfrac{1}{m} \\sum\\limits_{i}^{m-1}{ \\left ( y^{(i)}_k - t_k^{(i)} \\right ) \\mathbf{x}^{(i)}}\n",
    "$$\n",
    "\n",
    "*Note: the $log(0)$ returns `-inf`, so you may need to add tiny value to avoid it.*\n",
    "\n",
    "*Note 2: for vectorized form you may need to specify the `axis` parameter for functions such as `sum` or `mean`.*"
   ]
  },
  {
   "cell_type": "code",
   "execution_count": 57,
   "metadata": {},
   "outputs": [],
   "source": [
    "# >>> WRITE YOUR CODE BELOW <<<\n",
    "def crossentropy(predictions, targets, l2=0, weights=0):\n",
    "    m = predictions.shape[0]\n",
    "    entropy = np.sum(targets*np.log(predictions + 1e-9)) #epsilon to prevent -inf\n",
    "    return (-1 / m) * entropy + l2 * np.linalg.norm(weights)**2\n",
    "\n",
    "def grad(x, predictions, targets, l2=0, weights=0):\n",
    "    m = predictions.shape[0]\n",
    "    s = (1 / m) * (x.T @ np.subtract(predictions, targets)) \n",
    "    return s + (2 * l2 * weights)\n",
    "\n",
    "def accuracy(predictions, targets):\n",
    "    z = np.argmax(predictions, axis = 1)\n",
    "    t = np.argmax(targets, axis = 1)\n",
    "    #print(np.count_nonzero((z==t) == True), len(t))\n",
    "    return np.mean(z == t)"
   ]
  },
  {
   "cell_type": "markdown",
   "metadata": {},
   "source": [
    "### Task 4. Results.\n",
    "\n",
    "* Display the training and testing loss.\n",
    "* Calculate the accuracy score."
   ]
  },
  {
   "cell_type": "code",
   "execution_count": 59,
   "metadata": {
    "scrolled": false
   },
   "outputs": [
    {
     "name": "stdout",
     "output_type": "stream",
     "text": [
      "Final error (train): 7.0955973883392875 | Final error (test): 7.145669922556907 \n",
      "Final weights: [[ 1.87142938e-01  1.84285907e-01  1.77143182e-01  1.60000066e-01]\n",
      " [-2.65295322e-02  4.73299952e-03 -1.14380605e-02 -4.03054620e-03]\n",
      " [-1.81826627e-01  1.98271179e-01  1.01647292e-02  8.46142895e-03]\n",
      " [ 2.04824212e-02 -5.91479513e-06  1.79299399e-02  9.89255704e-04]\n",
      " [-1.49346869e-02 -1.91312454e-02 -5.75457130e-03  1.16248830e-02]\n",
      " [-1.44704970e-02 -2.11821604e-01  1.88494216e-01 -1.22524865e-02]\n",
      " [ 5.51752921e-03  4.29570486e-03 -2.37555120e-02  1.15421864e-02]\n",
      " [ 5.84510404e-03  1.11633413e-02 -6.59319857e-03  2.33642120e-02]\n",
      " [-1.27279342e-01  2.02409471e-01 -1.48157640e-01 -2.80098135e-01]\n",
      " [ 2.19462459e-03  1.45232343e-01 -7.50744949e-03 -3.41840730e-02]\n",
      " [ 4.23849217e-03  1.66097724e-02  7.29112818e-03  2.07956666e-02]\n",
      " [-2.08685912e-01  1.26154609e-02 -1.67426099e-01 -1.02107942e-02]\n",
      " [-1.88926364e-01  1.89626046e-03 -1.59959446e-01  5.53821389e-03]\n",
      " [-1.20064787e-02 -1.47060146e-01 -2.68142838e-02  1.87869069e-01]\n",
      " [ 3.41073811e-03 -2.24872236e-02  5.71762058e-03 -1.32900334e-02]\n",
      " [-1.84383856e-01  6.56190742e-02 -3.48098447e-01  4.09523414e-02]\n",
      " [-7.61635086e-02 -5.40496739e-02 -3.84211631e-02 -1.40497391e-01]\n",
      " [ 1.41198936e-01  3.30267933e-02  1.96610451e-01 -1.91741470e-01]\n",
      " [ 1.72214600e-01  1.47289906e-01  1.42963642e-01  6.55640614e-02]\n",
      " [ 3.80095615e-02 -2.72477784e-02 -2.61791869e-02  4.37362880e-02]\n",
      " [ 1.18015275e-02  1.85666945e-02  2.19960916e-02 -1.67672900e-03]]\n"
     ]
    },
    {
     "data": {
      "image/png": "[encoded data removed]",
      "text/plain": [
       "<Figure size 432x288 with 1 Axes>"
      ]
     },
     "metadata": {
      "needs_background": "light"
     },
     "output_type": "display_data"
    },
    {
     "data": {
      "image/png": "[encoded data removed]",
      "text/plain": [
       "<Figure size 432x288 with 1 Axes>"
      ]
     },
     "metadata": {
      "needs_background": "light"
     },
     "output_type": "display_data"
    }
   ],
   "source": [
    "# >>> WRITE YOUR CODE BELOW <<<\n",
    "import matplotlib.pyplot as plt\n",
    "\n",
    "w = np.random.uniform(size=(21, len(classes)))\n",
    "lr = 1e-3\n",
    "epochs = 10_000\n",
    "l = 0.7\n",
    "history = {'train': [], 'test': []}\n",
    "acc = {'train': [], 'test': []}\n",
    "for i in range(epochs):\n",
    "    z = x_train @ w\n",
    "    train_predictions = softmax(z)\n",
    "    error = crossentropy(train_predictions, y_train, l2=l, weights=w)\n",
    "    w -= lr * grad(x_train, train_predictions, y_train, l2=l, weights=w)\n",
    "    history['train'].append(error)\n",
    "    acc['train'].append(accuracy(train_predictions, y_train))\n",
    "    \n",
    "\n",
    "    z = x_test @ w\n",
    "    test_predictions = softmax(z)\n",
    "    test_error = crossentropy(test_predictions, y_test, l2=l, weights=w)\n",
    "    history['test'].append(test_error)\n",
    "    acc['test'].append(accuracy(test_predictions, y_test))\n",
    "    \n",
    "print(f'Final error (train): {history[\"train\"][-1]} | Final error (test): {history[\"test\"][-1]} ')\n",
    "print(f'Final weights: {w}')\n",
    "plt.plot(history['train'], label='Train Loss')\n",
    "plt.plot(history['test'], label='Test Loss')\n",
    "plt.legend()\n",
    "plt.show()\n",
    "\n",
    "plt.plot(acc['train'], label='Train Accuracy')\n",
    "plt.plot(acc['test'], label='Test Accuracy')\n",
    "plt.legend()\n",
    "plt.show()\n"
   ]
  },
  {
   "cell_type": "code",
   "execution_count": null,
   "metadata": {},
   "outputs": [],
   "source": []
  },
  {
   "cell_type": "code",
   "execution_count": null,
   "metadata": {},
   "outputs": [],
   "source": []
  }
 ],
 "metadata": {
  "author": {
   "emails": [
    "robert.susik@p.lodz.pl",
    "rsusik@kis.p.lodz.pl"
   ],
   "name": "Robert Susik"
  },
  "kernelspec": {
   "display_name": "Python 3",
   "language": "python",
   "name": "python3"
  },
  "language_info": {
   "codemirror_mode": {
    "name": "ipython",
    "version": 3
   },
   "file_extension": ".py",
   "mimetype": "text/x-python",
   "name": "python",
   "nbconvert_exporter": "python",
   "pygments_lexer": "ipython3",
   "version": "3.8.1"
  },
  "toc": {
   "base_numbering": 1,
   "nav_menu": {},
   "number_sections": true,
   "sideBar": true,
   "skip_h1_title": false,
   "title_cell": "Table of Contents",
   "title_sidebar": "Contents",
   "toc_cell": false,
   "toc_position": {},
   "toc_section_display": true,
   "toc_window_display": true
  }
 },
 "nbformat": 4,
 "nbformat_minor": 4
}
