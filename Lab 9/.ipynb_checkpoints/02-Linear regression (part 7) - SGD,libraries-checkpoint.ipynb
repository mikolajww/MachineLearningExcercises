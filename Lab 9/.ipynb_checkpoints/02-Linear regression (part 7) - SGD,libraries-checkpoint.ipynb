{
 "cells": [
  {
   "cell_type": "markdown",
   "metadata": {},
   "source": [
    "# Machine Learning (laboratory instruction)\n",
    "## Linear regression (part 7)\n",
    "\n",
    "### Submission\n",
    "\n",
    "<u>Submission:</u>\n",
    "\n",
    "Compress all files into **single zip** archive and submit via Wikamp. See below the content of the archive (replace the `name` and `surname` with proper values):\n",
    "```\n",
    "📂 name.surname.zip\n",
    "+-- 📜 02-Linear regression (part 7).ipynb\n",
    "```\n",
    "\n",
    "<u>Grades</u>\n",
    "\n",
    "| Percentage of all points | mark |\n",
    "| :----                    | ---: |\n",
    "| [0-50)   | 2   |\n",
    "| [50-60)  | 3   |\n",
    "| [60-70)  | 3.5 |\n",
    "| [70-80)  | 4   |\n",
    "| [80-90)  | 4.5 |\n",
    "| [90-100] | 5   |\n",
    "\n",
    "<u>Penalties</u>\n",
    "\n",
    "* `mark - 0.5` if tasks are submitted after laboratory (but less than 7 days); \n",
    "* `mark - 1` if tasks are submitted after one week (>=7 days but < 14 days);\n",
    "* `mark - 1.5` if tasks are submitted later than two weeks (>=14 days).\n",
    "\n",
    "<u>Warning:</u>\n",
    "\n",
    "It is NOT allowed to share your .ipynb file with other students nor Internet. All students should download the exercise files directly from WIKAMP. Group work is considered as plagiarism.\n",
    "\n",
    "<u>Plagiarism Disclaimer:</u>\n",
    "\n",
    "I hereby declare that this exercise is my own and autonomous work. I am aware of the consequences and I am familiar with the university regulations."
   ]
  },
  {
   "cell_type": "markdown",
   "metadata": {},
   "source": [
    "### The goal\n",
    "There are two goals of this laboratory:\n",
    "\n",
    "1. Implement Stochastic Gradient Descent (Mini-batch Gradient Descent).\n",
    "2. Use ML libraries to perform Linear Regression.\n",
    "\n",
    "\n",
    "### Task 0. Read the dataset from file (*0 points*).\n",
    "Read the boston houses dataset using scikit-learn library.\n",
    "\n",
    "**Tip**: You can use below code to read the data:\n",
    "\n",
    "```python\n",
    "import sklearn\n",
    "import sklearn.datasets\n",
    "import sklearn.model_selection\n",
    "\n",
    "dataset = sklearn.datasets.load_boston()\n",
    "\n",
    "x_train, x_test, y_train, y_test = sklearn.model_selection.train_test_split(dataset['data'], dataset['target'], test_size=0.5, random_state=123, shuffle=True)\n",
    "```\n",
    "\n"
   ]
  },
  {
   "cell_type": "code",
   "execution_count": 2,
   "metadata": {},
   "outputs": [
    {
     "name": "stdout",
     "output_type": "stream",
     "text": [
      "(253, 13) (253, 13)\n"
     ]
    }
   ],
   "source": [
    "# >>> WRITE YOUR CODE BELOW <<<\n",
    "import sklearn\n",
    "import sklearn.datasets\n",
    "import sklearn.model_selection\n",
    "\n",
    "dataset = sklearn.datasets.load_boston()\n",
    "\n",
    "x_train, x_test, y_train, y_test = sklearn.model_selection.train_test_split(dataset['data'], dataset['target'], test_size=0.5, random_state=123, shuffle=True)\n",
    "\n",
    "print(x_train.shape, x_test.shape)"
   ]
  },
  {
   "cell_type": "markdown",
   "metadata": {},
   "source": [
    "### Task 1. Implement Stochastic Gradient Descent (Mini-batch Gradient Descent).\n",
    "\n",
    "**Tasks**: \n",
    "* 2.1. Implement the Mini-batch GD\n",
    "* 2.2. Prepare the data (if needed).\n",
    "* 2.3. Visualize: \n",
    "    * a) the data, \n",
    "    * b) results, \n",
    "    * c) cost functions.\n",
    "* 2.4. Check how the algorithm behaves for different batch sizes.\n",
    "\n",
    "Till now your Gradient Descent algorithm more or less looks like below:\n",
    "\n",
    "```python\n",
    "for i in range(epochs):\n",
    "    yp = fun(x)\n",
    "    c  = cost(yp, yt)\n",
    "    w -= eta * grad(x, yt, yp)\n",
    "    # ...\n",
    "```\n",
    "\n",
    "Gradient Descent performs the update for all samples at once, one time in the epoch. It may not be possible if the training dataset is large (i.e. the dataset is larger than the \\[V\\] RAM). The Stochastic Gradient Descent (SGD) helps with that by processing the data one-by-one and updating the weights at each iteration:\n",
    "\n",
    "```python\n",
    "for i in range(epochs):\n",
    "    for j in range(len(x)):\n",
    "        bx = x[j]\n",
    "        by = y[j]\n",
    "        yp = fun(bx)\n",
    "        c  = cost(yp, by)\n",
    "        w -= eta * grad(x, by, yp)\n",
    "    # ...\n",
    "```\n",
    "\n",
    "Another variant is the Mini-batch Gradient Descent that uses a couple (a batch) samples at each iteration (the number of iterations equals $\\lceil m / b \\rceil$, where $m$ is the number of samples and $b$ is the batch size):\n",
    "\n",
    "```python\n",
    "for i in range(epochs):\n",
    "    for j in range(int(np.ceil(len(x_train)/batch_size))):\n",
    "        bx = x[j*batch_size:(j+1)*batch_size]\n",
    "        by = y[j*batch_size:(j+1)*batch_size]\n",
    "        yp = fun(bx)\n",
    "        c  = cost(yp, by)\n",
    "        w -= eta * grad(x, by, yp)\n",
    "    # ...\n",
    "```\n",
    "\n",
    "Remarks: The Mini-batch Gradient Descent is the same as SGD if $b=1$."
   ]
  },
  {
   "cell_type": "code",
   "execution_count": 6,
   "metadata": {},
   "outputs": [
    {
     "name": "stderr",
     "output_type": "stream",
     "text": [
      "<ipython-input-6-581adb1e65b5>:26: RuntimeWarning: invalid value encountered in subtract\n",
      "  w -= lr * grad(batch_x, predictions, batch_y)\n"
     ]
    },
    {
     "data": {
      "image/png": "[encoded data removed]",
      "text/plain": [
       "<Figure size 432x288 with 1 Axes>"
      ]
     },
     "metadata": {
      "needs_background": "light"
     },
     "output_type": "display_data"
    }
   ],
   "source": [
    "# >>> WRITE YOUR CODE BELOW <<<\n",
    "from numba import njit\n",
    "import numpy as np\n",
    "import matplotlib.pyplot as plt\n",
    "\n",
    "@njit\n",
    "def mse(predictions, targets):\n",
    "    return np.square(np.subtract(predictions, targets)).mean()\n",
    "@njit\n",
    "def grad(x, predictions, targets):\n",
    "    return (2 / targets.shape[0]) * (x.T @ np.subtract(predictions, targets))\n",
    "\n",
    "#w = np.random.uniform(size=(3,))\n",
    "w = np.zeros(shape=(13,))\n",
    "lr = 1e-2\n",
    "epochs = 100000\n",
    "history = {'train': [], 'test': []}\n",
    "batch_size = 32\n",
    "\n",
    "from sklearn.preprocessing import MinMaxScaler\n",
    "\n",
    "for i in range(epochs):\n",
    "    for j in range(int(np.ceil(len(x_train)/batch_size))):\n",
    "        batch_x = x_train[j*batch_size:(j+1)*batch_size]\n",
    "        batch_y = y_train[j*batch_size:(j+1)*batch_size]\n",
    "        predictions = batch_x @ w.T\n",
    "        train_error = mse(predictions, batch_y)\n",
    "        w -= lr * grad(batch_x, predictions, batch_y)\n",
    "        history['train'].append(train_error)\n",
    "        \n",
    "        \n",
    "        #test_predictions = x_test @ w.T\n",
    "        #test_error = mse(test_predictions, y_test)\n",
    "        #history['test'].append(test_error)\n",
    "\n",
    "plt.plot(history['train'], label='Train Loss')\n",
    "#plt.plot(history['test'], label='Test Loss')\n",
    "plt.legend(loc='upper right')\n",
    "plt.show()\n"
   ]
  },
  {
   "cell_type": "markdown",
   "metadata": {},
   "source": [
    "### Task 2. Train linear regression model.\n",
    "\n",
    "2. Use at least two widely used ML libraries to perform Linear Regression (you may also use those that are not mentioned in the list below) and describe the differences between them:\n",
    "    * Scikit-learn, a couple of options available:\n",
    "        * LinearRegression \n",
    "        * SGDRegressor\n",
    "        * Ridge\n",
    "        * Lasso\n",
    "        * ElasticNet\n",
    "    * Scipy\n",
    "        * scipy.linalg.lstsq\n",
    "        * scipy.stats.linregress\n",
    "    * Tensorflow\n",
    "    * Pytorch\n",
    "    * JAX\n",
    "\n"
   ]
  },
  {
   "cell_type": "code",
   "execution_count": null,
   "metadata": {},
   "outputs": [],
   "source": [
    "# >>> WRITE YOUR CODE BELOW <<<\n"
   ]
  }
 ],
 "metadata": {
  "author": {
   "emails": [
    "robert.susik@p.lodz.pl",
    "rsusik@kis.p.lodz.pl"
   ],
   "name": "Robert Susik"
  },
  "kernelspec": {
   "display_name": "Python 3",
   "language": "python",
   "name": "python3"
  },
  "language_info": {
   "codemirror_mode": {
    "name": "ipython",
    "version": 3
   },
   "file_extension": ".py",
   "mimetype": "text/x-python",
   "name": "python",
   "nbconvert_exporter": "python",
   "pygments_lexer": "ipython3",
   "version": "3.8.1"
  },
  "toc": {
   "base_numbering": 1,
   "nav_menu": {},
   "number_sections": true,
   "sideBar": true,
   "skip_h1_title": false,
   "title_cell": "Table of Contents",
   "title_sidebar": "Contents",
   "toc_cell": false,
   "toc_position": {},
   "toc_section_display": true,
   "toc_window_display": true
  }
 },
 "nbformat": 4,
 "nbformat_minor": 4
}
