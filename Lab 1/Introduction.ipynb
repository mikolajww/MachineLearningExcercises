{
 "cells": [
  {
   "cell_type": "markdown",
   "metadata": {},
   "source": [
    "# Machine Learning\n",
    "(02 58 6162 01)\n",
    "\n",
    "\n",
    "## Organisation\n",
    "\n",
    "### The laboratories\n",
    "1st part of semester\n",
    "\n",
    "#### WIKAMP\n",
    "All tasks should be submitted via WIKAMP platform\n",
    "\n",
    "#### MS Teams\n",
    "The laboratories are conducted via MS Teams.\n",
    "\n",
    "\n",
    "### Grade\n",
    "Average of all marks.\n",
    "\n",
    "#### Marks:\n",
    "* Tasks during the laboratories.\n",
    "* Activity - control questions during the laboratory.\n",
    "* Tests - there may be a verbal or written test during the laboratory.\n",
    "\n",
    "##### Penalties:\n",
    "* -0.5 if task is not submitted during the laboratory\n",
    "* -1 if task is submitted within the week\n",
    "* -1.5 if task is submitted later\n",
    "* 2 if task is submitted after the last laboratory.\n",
    "\n",
    "Student get Grade 2 if:\n",
    "- plagiarism is detected in any of the given tasks,\n",
    "- the work is not independent (the individual task is done in group).\n",
    "\n",
    "Student should be prepared to each laboratory, thus should have:\n",
    "- PC\n",
    "- camera (if needed - test)\n",
    "- headset (or equivalent).\n",
    "\n",
    "\n",
    "## Environment setup\n",
    "\n",
    "1. Install Miniconda\n",
    "    - Windows\n",
    "        * Follow the instruction: https://docs.conda.io/projects/conda/en/latest/user-guide/install/windows.html\n",
    "    - Lunix\n",
    "        * Execute below commands from terminal:\n",
    "            * `wget https://repo.anaconda.com/miniconda/Miniconda3-latest-Linux-x86_64.sh`\n",
    "            * `bash Miniconda3-latest-Linux-x86_64.sh`\n",
    "        * or follow the instruction: https://docs.conda.io/projects/conda/en/latest/user-guide/install/linux.html\n",
    "2. Open terminal/command line:\n",
    "    - Windows\n",
    "        * Start -> Anaconda Prompt\n",
    "3. Create virtual environment by running below command:<br />\n",
    "    ```conda create -n ml python=3.8 notebook numpy pandas matplotlib scikit-learn```\n",
    "\n",
    "\n",
    "4. Activate virtual environment:<br />\n",
    "    ```conda activate ml```\n",
    "\n",
    "\n",
    "5. Run Jupyter Notebook:<br />\n",
    "    ```jupyter notebook```\n",
    "\n",
    "\n",
    "*Note: you may replace `ml` with your own environment name.*\n",
    "\n",
    "The mentioned above commands installed following python packages:\n",
    "- notebook (Jupyer Notebook)\n",
    "- numpy (numerical computing tools)\n",
    "- pandas (Python data analysis library)\n",
    "- matplotlib (library for creating visualizations)\n",
    "- scikit-learn (machine learning tools)\n",
    "\n",
    "## Tasks\n",
    "\n",
    "<u>Submission:</u>\n",
    "\n",
    "Compress all files into **single zip** archive and submit via Wikamp. See below the content of the archive (replace the `name` and `surname` with proper values):\n",
    "```\n",
    "📂 name.surname.zip\n",
    "+-- 📜 Instroduction.ipynb\n",
    "```\n",
    "\n",
    "<u>WARNING:</u>\n",
    "\n",
    "It is NOT allowed to share your .ipynb file with other students. All students should download the exercise files directly from WIKAMP.\n",
    "\n",
    "<u>Plagiarism Disclaimer:</u>\n",
    "\n",
    "I hereby declare that this exercise is my own and autonomous work. I am aware of the consequences and I am familiar with the university regulations.\n",
    "\n"
   ]
  },
  {
   "cell_type": "code",
   "execution_count": 1,
   "metadata": {},
   "outputs": [],
   "source": [
    "a = 'asasdsad'"
   ]
  },
  {
   "cell_type": "code",
   "execution_count": 2,
   "metadata": {},
   "outputs": [],
   "source": [
    "a = 123"
   ]
  },
  {
   "cell_type": "code",
   "execution_count": 3,
   "metadata": {},
   "outputs": [
    {
     "data": {
      "text/plain": [
       "123"
      ]
     },
     "execution_count": 3,
     "metadata": {},
     "output_type": "execute_result"
    }
   ],
   "source": [
    "a"
   ]
  },
  {
   "cell_type": "code",
   "execution_count": 4,
   "metadata": {},
   "outputs": [
    {
     "name": "stdout",
     "output_type": "stream",
     "text": [
      "123\n"
     ]
    }
   ],
   "source": [
    "print(a)"
   ]
  },
  {
   "cell_type": "code",
   "execution_count": 5,
   "metadata": {},
   "outputs": [
    {
     "name": "stdout",
     "output_type": "stream",
     "text": [
      "123\n"
     ]
    }
   ],
   "source": [
    "print(f'{a}')"
   ]
  },
  {
   "cell_type": "code",
   "execution_count": 6,
   "metadata": {},
   "outputs": [
    {
     "name": "stdout",
     "output_type": "stream",
     "text": [
      "value of a is: 123\n"
     ]
    }
   ],
   "source": [
    "print(f'value of a is: {a}')"
   ]
  },
  {
   "cell_type": "code",
   "execution_count": 7,
   "metadata": {},
   "outputs": [
    {
     "name": "stdout",
     "output_type": "stream",
     "text": [
      "binary value of a is: 1111011\n"
     ]
    }
   ],
   "source": [
    "print(f'binary value of a is: {a:b}')"
   ]
  },
  {
   "cell_type": "code",
   "execution_count": 8,
   "metadata": {},
   "outputs": [
    {
     "name": "stdout",
     "output_type": "stream",
     "text": [
      "binary value of a is: 01111011\n"
     ]
    }
   ],
   "source": [
    "print(f'binary value of a is: {a:08b}')"
   ]
  },
  {
   "cell_type": "code",
   "execution_count": 9,
   "metadata": {},
   "outputs": [
    {
     "name": "stdout",
     "output_type": "stream",
     "text": [
      "binary value of a is: 0000000001111011\n"
     ]
    }
   ],
   "source": [
    "print(f'binary value of a is: {a:016b}')"
   ]
  },
  {
   "cell_type": "code",
   "execution_count": 13,
   "metadata": {},
   "outputs": [
    {
     "name": "stdout",
     "output_type": "stream",
     "text": [
      "less than 200\n",
      "another text\n"
     ]
    }
   ],
   "source": [
    "a = 150\n",
    "if a < 200 and a > 10:\n",
    "    print('less than 200')\n",
    "print('another text')\n"
   ]
  },
  {
   "cell_type": "code",
   "execution_count": 14,
   "metadata": {},
   "outputs": [
    {
     "name": "stdout",
     "output_type": "stream",
     "text": [
      "0\n",
      "1\n",
      "2\n",
      "3\n",
      "4\n",
      "5\n",
      "6\n",
      "7\n",
      "8\n",
      "9\n"
     ]
    }
   ],
   "source": [
    "for i in range(10):\n",
    "    print(i)"
   ]
  },
  {
   "cell_type": "code",
   "execution_count": 15,
   "metadata": {},
   "outputs": [
    {
     "data": {
      "text/plain": [
       "[1, 2, 3, 4, 5]"
      ]
     },
     "execution_count": 15,
     "metadata": {},
     "output_type": "execute_result"
    }
   ],
   "source": [
    "[1, 2, 3, 4, 5]"
   ]
  },
  {
   "cell_type": "code",
   "execution_count": 16,
   "metadata": {},
   "outputs": [
    {
     "data": {
      "text/plain": [
       "['start', 1, 2, 3, 'end']"
      ]
     },
     "execution_count": 16,
     "metadata": {},
     "output_type": "execute_result"
    }
   ],
   "source": [
    "['start', 1, 2, 3, 'end']"
   ]
  },
  {
   "cell_type": "code",
   "execution_count": 18,
   "metadata": {},
   "outputs": [
    {
     "name": "stdout",
     "output_type": "stream",
     "text": [
      "[0, 1, 2, 3, 4, 5, 6, 7, 8, 9]\n"
     ]
    }
   ],
   "source": [
    "l = [i for i in range(10)]\n",
    "print(l)"
   ]
  },
  {
   "cell_type": "code",
   "execution_count": 19,
   "metadata": {},
   "outputs": [
    {
     "name": "stdout",
     "output_type": "stream",
     "text": [
      "[0, 1, 2, 3, 4, 5, 6, 7, 8, 9]\n"
     ]
    }
   ],
   "source": [
    "l = []\n",
    "for i in range(10):\n",
    "    l.append(i)\n",
    "print(l)"
   ]
  },
  {
   "cell_type": "code",
   "execution_count": 20,
   "metadata": {},
   "outputs": [
    {
     "data": {
      "text/plain": [
       "[0, 1, 2, 3, 4, 5, 6, 7, 8, 9]"
      ]
     },
     "execution_count": 20,
     "metadata": {},
     "output_type": "execute_result"
    }
   ],
   "source": [
    "list(range(10))"
   ]
  },
  {
   "cell_type": "code",
   "execution_count": 21,
   "metadata": {},
   "outputs": [
    {
     "data": {
      "text/plain": [
       "[0, 2, 4, 6, 8]"
      ]
     },
     "execution_count": 21,
     "metadata": {},
     "output_type": "execute_result"
    }
   ],
   "source": [
    "[i for i in range(10) if i % 2 == 0]"
   ]
  },
  {
   "cell_type": "code",
   "execution_count": 22,
   "metadata": {},
   "outputs": [
    {
     "name": "stdout",
     "output_type": "stream",
     "text": [
      "[0, 2, 4, 6, 8]\n"
     ]
    }
   ],
   "source": [
    "l = []\n",
    "\n",
    "for i in range(10): \n",
    "    if i % 2 == 0:\n",
    "        l.append(i)\n",
    "\n",
    "print(l)"
   ]
  },
  {
   "cell_type": "code",
   "execution_count": 23,
   "metadata": {},
   "outputs": [
    {
     "data": {
      "text/plain": [
       "[[0, 0], [0, 1], [0, 2], [1, 0], [1, 1], [1, 2], [2, 0], [2, 1], [2, 2]]"
      ]
     },
     "execution_count": 23,
     "metadata": {},
     "output_type": "execute_result"
    }
   ],
   "source": [
    "[[i, j] for i in range(3) for j in range(3)]"
   ]
  },
  {
   "cell_type": "code",
   "execution_count": 24,
   "metadata": {},
   "outputs": [
    {
     "name": "stdout",
     "output_type": "stream",
     "text": [
      "[[0, 0], [0, 1], [0, 2], [1, 0], [1, 1], [1, 2], [2, 0], [2, 1], [2, 2]]\n"
     ]
    }
   ],
   "source": [
    "l = []\n",
    "\n",
    "for i in range(3):\n",
    "    for j in range(3):\n",
    "        l.append([i, j])\n",
    "\n",
    "print(l)"
   ]
  },
  {
   "cell_type": "code",
   "execution_count": 27,
   "metadata": {},
   "outputs": [],
   "source": [
    "import numpy as np"
   ]
  },
  {
   "cell_type": "code",
   "execution_count": 28,
   "metadata": {},
   "outputs": [
    {
     "data": {
      "text/plain": [
       "array([1, 2, 3])"
      ]
     },
     "execution_count": 28,
     "metadata": {},
     "output_type": "execute_result"
    }
   ],
   "source": [
    "np.array([1, 2, 3])"
   ]
  },
  {
   "cell_type": "code",
   "execution_count": 31,
   "metadata": {},
   "outputs": [
    {
     "data": {
      "text/plain": [
       "array([[0., 0., 0.],\n",
       "       [0., 0., 0.],\n",
       "       [0., 0., 0.]])"
      ]
     },
     "execution_count": 31,
     "metadata": {},
     "output_type": "execute_result"
    }
   ],
   "source": [
    "np.zeros((3, 3))"
   ]
  },
  {
   "cell_type": "code",
   "execution_count": 34,
   "metadata": {},
   "outputs": [
    {
     "data": {
      "text/plain": [
       "array([[  1.,   2.,   3.,   4.,   5.,   6.,   7.,   8.,   9.,  10.],\n",
       "       [  2.,   4.,   6.,   8.,  10.,  12.,  14.,  16.,  18.,  20.],\n",
       "       [  3.,   6.,   9.,  12.,  15.,  18.,  21.,  24.,  27.,  30.],\n",
       "       [  4.,   8.,  12.,  16.,  20.,  24.,  28.,  32.,  36.,  40.],\n",
       "       [  5.,  10.,  15.,  20.,  25.,  30.,  35.,  40.,  45.,  50.],\n",
       "       [  6.,  12.,  18.,  24.,  30.,  36.,  42.,  48.,  54.,  60.],\n",
       "       [  7.,  14.,  21.,  28.,  35.,  42.,  49.,  56.,  63.,  70.],\n",
       "       [  8.,  16.,  24.,  32.,  40.,  48.,  56.,  64.,  72.,  80.],\n",
       "       [  9.,  18.,  27.,  36.,  45.,  54.,  63.,  72.,  81.,  90.],\n",
       "       [ 10.,  20.,  30.,  40.,  50.,  60.,  70.,  80.,  90., 100.]])"
      ]
     },
     "execution_count": 34,
     "metadata": {},
     "output_type": "execute_result"
    }
   ],
   "source": [
    "def fun(i, j):\n",
    "    return (i+1)*(j+1)\n",
    "np.fromfunction(fun, (10, 10))"
   ]
  },
  {
   "cell_type": "code",
   "execution_count": 40,
   "metadata": {},
   "outputs": [
    {
     "data": {
      "text/plain": [
       "array([[ 0.,  1.,  2.],\n",
       "       [10., 11., 12.],\n",
       "       [20., 21., 22.]])"
      ]
     },
     "execution_count": 40,
     "metadata": {},
     "output_type": "execute_result"
    }
   ],
   "source": [
    "def fun(i, j):\n",
    "    return i*10+j\n",
    "\n",
    "m = np.fromfunction(fun, (3, 3))\n",
    "m"
   ]
  },
  {
   "cell_type": "code",
   "execution_count": 41,
   "metadata": {},
   "outputs": [
    {
     "data": {
      "text/plain": [
       "array([[ 0., 10., 20.],\n",
       "       [ 1., 11., 21.],\n",
       "       [ 2., 12., 22.]])"
      ]
     },
     "execution_count": 41,
     "metadata": {},
     "output_type": "execute_result"
    }
   ],
   "source": [
    "m2 = m.T\n",
    "m2"
   ]
  },
  {
   "cell_type": "code",
   "execution_count": 42,
   "metadata": {},
   "outputs": [
    {
     "data": {
      "text/plain": [
       "array([[ 0., 11., 22.],\n",
       "       [11., 22., 33.],\n",
       "       [22., 33., 44.]])"
      ]
     },
     "execution_count": 42,
     "metadata": {},
     "output_type": "execute_result"
    }
   ],
   "source": [
    "m + m2"
   ]
  },
  {
   "cell_type": "code",
   "execution_count": 43,
   "metadata": {},
   "outputs": [
    {
     "data": {
      "text/plain": [
       "array([[  0.,  10.,  40.],\n",
       "       [ 10., 121., 252.],\n",
       "       [ 40., 252., 484.]])"
      ]
     },
     "execution_count": 43,
     "metadata": {},
     "output_type": "execute_result"
    }
   ],
   "source": [
    "m * m2"
   ]
  },
  {
   "cell_type": "code",
   "execution_count": 44,
   "metadata": {},
   "outputs": [
    {
     "data": {
      "text/plain": [
       "array([[   5.,   35.,   65.],\n",
       "       [  35.,  365.,  695.],\n",
       "       [  65.,  695., 1325.]])"
      ]
     },
     "execution_count": 44,
     "metadata": {},
     "output_type": "execute_result"
    }
   ],
   "source": [
    "m.dot(m2)"
   ]
  },
  {
   "cell_type": "code",
   "execution_count": 45,
   "metadata": {},
   "outputs": [
    {
     "data": {
      "text/plain": [
       "array([[   5.,   35.,   65.],\n",
       "       [  35.,  365.,  695.],\n",
       "       [  65.,  695., 1325.]])"
      ]
     },
     "execution_count": 45,
     "metadata": {},
     "output_type": "execute_result"
    }
   ],
   "source": [
    "m @ m2"
   ]
  },
  {
   "cell_type": "code",
   "execution_count": 46,
   "metadata": {},
   "outputs": [],
   "source": [
    "import pandas as pd"
   ]
  },
  {
   "cell_type": "code",
   "execution_count": 53,
   "metadata": {},
   "outputs": [
    {
     "data": {
      "text/html": [
       "<div>\n",
       "<style scoped>\n",
       "    .dataframe tbody tr th:only-of-type {\n",
       "        vertical-align: middle;\n",
       "    }\n",
       "\n",
       "    .dataframe tbody tr th {\n",
       "        vertical-align: top;\n",
       "    }\n",
       "\n",
       "    .dataframe thead th {\n",
       "        text-align: right;\n",
       "    }\n",
       "</style>\n",
       "<table border=\"1\" class=\"dataframe\">\n",
       "  <thead>\n",
       "    <tr style=\"text-align: right;\">\n",
       "      <th></th>\n",
       "      <th>bill</th>\n",
       "      <th>day_of_month</th>\n",
       "      <th>year</th>\n",
       "      <th>client</th>\n",
       "    </tr>\n",
       "  </thead>\n",
       "  <tbody>\n",
       "    <tr>\n",
       "      <th>0</th>\n",
       "      <td>0.798902</td>\n",
       "      <td>0.137357</td>\n",
       "      <td>0.822943</td>\n",
       "      <td>0.204411</td>\n",
       "    </tr>\n",
       "    <tr>\n",
       "      <th>1</th>\n",
       "      <td>0.952091</td>\n",
       "      <td>0.900022</td>\n",
       "      <td>0.099532</td>\n",
       "      <td>0.013470</td>\n",
       "    </tr>\n",
       "    <tr>\n",
       "      <th>2</th>\n",
       "      <td>0.531222</td>\n",
       "      <td>0.779087</td>\n",
       "      <td>0.360579</td>\n",
       "      <td>0.655694</td>\n",
       "    </tr>\n",
       "    <tr>\n",
       "      <th>3</th>\n",
       "      <td>0.423680</td>\n",
       "      <td>0.222543</td>\n",
       "      <td>0.507229</td>\n",
       "      <td>0.613689</td>\n",
       "    </tr>\n",
       "    <tr>\n",
       "      <th>4</th>\n",
       "      <td>0.396219</td>\n",
       "      <td>0.439980</td>\n",
       "      <td>0.368283</td>\n",
       "      <td>0.605300</td>\n",
       "    </tr>\n",
       "    <tr>\n",
       "      <th>5</th>\n",
       "      <td>0.241255</td>\n",
       "      <td>0.274822</td>\n",
       "      <td>0.679226</td>\n",
       "      <td>0.924541</td>\n",
       "    </tr>\n",
       "    <tr>\n",
       "      <th>6</th>\n",
       "      <td>0.256555</td>\n",
       "      <td>0.261357</td>\n",
       "      <td>0.277393</td>\n",
       "      <td>0.064282</td>\n",
       "    </tr>\n",
       "    <tr>\n",
       "      <th>7</th>\n",
       "      <td>0.154774</td>\n",
       "      <td>0.968693</td>\n",
       "      <td>0.867439</td>\n",
       "      <td>0.528972</td>\n",
       "    </tr>\n",
       "    <tr>\n",
       "      <th>8</th>\n",
       "      <td>0.042938</td>\n",
       "      <td>0.541353</td>\n",
       "      <td>0.905787</td>\n",
       "      <td>0.614918</td>\n",
       "    </tr>\n",
       "    <tr>\n",
       "      <th>9</th>\n",
       "      <td>0.281812</td>\n",
       "      <td>0.040548</td>\n",
       "      <td>0.821270</td>\n",
       "      <td>0.135716</td>\n",
       "    </tr>\n",
       "    <tr>\n",
       "      <th>10</th>\n",
       "      <td>0.920984</td>\n",
       "      <td>0.665847</td>\n",
       "      <td>0.629710</td>\n",
       "      <td>0.349116</td>\n",
       "    </tr>\n",
       "    <tr>\n",
       "      <th>11</th>\n",
       "      <td>0.553183</td>\n",
       "      <td>0.325510</td>\n",
       "      <td>0.032243</td>\n",
       "      <td>0.551564</td>\n",
       "    </tr>\n",
       "    <tr>\n",
       "      <th>12</th>\n",
       "      <td>0.188131</td>\n",
       "      <td>0.481790</td>\n",
       "      <td>0.100462</td>\n",
       "      <td>0.663710</td>\n",
       "    </tr>\n",
       "    <tr>\n",
       "      <th>13</th>\n",
       "      <td>0.385827</td>\n",
       "      <td>0.580434</td>\n",
       "      <td>0.918433</td>\n",
       "      <td>0.916614</td>\n",
       "    </tr>\n",
       "    <tr>\n",
       "      <th>14</th>\n",
       "      <td>0.178108</td>\n",
       "      <td>0.513070</td>\n",
       "      <td>0.424362</td>\n",
       "      <td>0.929507</td>\n",
       "    </tr>\n",
       "    <tr>\n",
       "      <th>15</th>\n",
       "      <td>0.395013</td>\n",
       "      <td>0.562494</td>\n",
       "      <td>0.296710</td>\n",
       "      <td>0.551993</td>\n",
       "    </tr>\n",
       "    <tr>\n",
       "      <th>16</th>\n",
       "      <td>0.362863</td>\n",
       "      <td>0.771039</td>\n",
       "      <td>0.488993</td>\n",
       "      <td>0.769957</td>\n",
       "    </tr>\n",
       "    <tr>\n",
       "      <th>17</th>\n",
       "      <td>0.886347</td>\n",
       "      <td>0.783568</td>\n",
       "      <td>0.975974</td>\n",
       "      <td>0.402125</td>\n",
       "    </tr>\n",
       "    <tr>\n",
       "      <th>18</th>\n",
       "      <td>0.413012</td>\n",
       "      <td>0.137962</td>\n",
       "      <td>0.213591</td>\n",
       "      <td>0.151759</td>\n",
       "    </tr>\n",
       "    <tr>\n",
       "      <th>19</th>\n",
       "      <td>0.324366</td>\n",
       "      <td>0.127771</td>\n",
       "      <td>0.353539</td>\n",
       "      <td>0.267387</td>\n",
       "    </tr>\n",
       "    <tr>\n",
       "      <th>20</th>\n",
       "      <td>0.683636</td>\n",
       "      <td>0.426140</td>\n",
       "      <td>0.259138</td>\n",
       "      <td>0.075119</td>\n",
       "    </tr>\n",
       "    <tr>\n",
       "      <th>21</th>\n",
       "      <td>0.364575</td>\n",
       "      <td>0.633548</td>\n",
       "      <td>0.779292</td>\n",
       "      <td>0.752240</td>\n",
       "    </tr>\n",
       "    <tr>\n",
       "      <th>22</th>\n",
       "      <td>0.502535</td>\n",
       "      <td>0.760440</td>\n",
       "      <td>0.468546</td>\n",
       "      <td>0.091895</td>\n",
       "    </tr>\n",
       "    <tr>\n",
       "      <th>23</th>\n",
       "      <td>0.405749</td>\n",
       "      <td>0.771449</td>\n",
       "      <td>0.774548</td>\n",
       "      <td>0.653538</td>\n",
       "    </tr>\n",
       "    <tr>\n",
       "      <th>24</th>\n",
       "      <td>0.607500</td>\n",
       "      <td>0.247647</td>\n",
       "      <td>0.898718</td>\n",
       "      <td>0.550673</td>\n",
       "    </tr>\n",
       "    <tr>\n",
       "      <th>25</th>\n",
       "      <td>0.085131</td>\n",
       "      <td>0.249632</td>\n",
       "      <td>0.695825</td>\n",
       "      <td>0.878234</td>\n",
       "    </tr>\n",
       "    <tr>\n",
       "      <th>26</th>\n",
       "      <td>0.553873</td>\n",
       "      <td>0.435629</td>\n",
       "      <td>0.598822</td>\n",
       "      <td>0.248025</td>\n",
       "    </tr>\n",
       "    <tr>\n",
       "      <th>27</th>\n",
       "      <td>0.643550</td>\n",
       "      <td>0.312867</td>\n",
       "      <td>0.752813</td>\n",
       "      <td>0.200438</td>\n",
       "    </tr>\n",
       "    <tr>\n",
       "      <th>28</th>\n",
       "      <td>0.415840</td>\n",
       "      <td>0.036677</td>\n",
       "      <td>0.453450</td>\n",
       "      <td>0.636452</td>\n",
       "    </tr>\n",
       "    <tr>\n",
       "      <th>29</th>\n",
       "      <td>0.857720</td>\n",
       "      <td>0.049679</td>\n",
       "      <td>0.042692</td>\n",
       "      <td>0.577435</td>\n",
       "    </tr>\n",
       "  </tbody>\n",
       "</table>\n",
       "</div>"
      ],
      "text/plain": [
       "        bill  day_of_month      year    client\n",
       "0   0.798902      0.137357  0.822943  0.204411\n",
       "1   0.952091      0.900022  0.099532  0.013470\n",
       "2   0.531222      0.779087  0.360579  0.655694\n",
       "3   0.423680      0.222543  0.507229  0.613689\n",
       "4   0.396219      0.439980  0.368283  0.605300\n",
       "5   0.241255      0.274822  0.679226  0.924541\n",
       "6   0.256555      0.261357  0.277393  0.064282\n",
       "7   0.154774      0.968693  0.867439  0.528972\n",
       "8   0.042938      0.541353  0.905787  0.614918\n",
       "9   0.281812      0.040548  0.821270  0.135716\n",
       "10  0.920984      0.665847  0.629710  0.349116\n",
       "11  0.553183      0.325510  0.032243  0.551564\n",
       "12  0.188131      0.481790  0.100462  0.663710\n",
       "13  0.385827      0.580434  0.918433  0.916614\n",
       "14  0.178108      0.513070  0.424362  0.929507\n",
       "15  0.395013      0.562494  0.296710  0.551993\n",
       "16  0.362863      0.771039  0.488993  0.769957\n",
       "17  0.886347      0.783568  0.975974  0.402125\n",
       "18  0.413012      0.137962  0.213591  0.151759\n",
       "19  0.324366      0.127771  0.353539  0.267387\n",
       "20  0.683636      0.426140  0.259138  0.075119\n",
       "21  0.364575      0.633548  0.779292  0.752240\n",
       "22  0.502535      0.760440  0.468546  0.091895\n",
       "23  0.405749      0.771449  0.774548  0.653538\n",
       "24  0.607500      0.247647  0.898718  0.550673\n",
       "25  0.085131      0.249632  0.695825  0.878234\n",
       "26  0.553873      0.435629  0.598822  0.248025\n",
       "27  0.643550      0.312867  0.752813  0.200438\n",
       "28  0.415840      0.036677  0.453450  0.636452\n",
       "29  0.857720      0.049679  0.042692  0.577435"
      ]
     },
     "execution_count": 53,
     "metadata": {},
     "output_type": "execute_result"
    }
   ],
   "source": [
    "\n",
    "df = pd.DataFrame(np.random.rand(30, 4), columns=['bill', 'day_of_month', 'year', 'client'])\n",
    "df"
   ]
  },
  {
   "cell_type": "code",
   "execution_count": 51,
   "metadata": {},
   "outputs": [],
   "source": [
    "clients = ['IBM', 'Citigroup', 'Google', 'LG']"
   ]
  },
  {
   "cell_type": "code",
   "execution_count": 54,
   "metadata": {},
   "outputs": [
    {
     "data": {
      "text/html": [
       "<div>\n",
       "<style scoped>\n",
       "    .dataframe tbody tr th:only-of-type {\n",
       "        vertical-align: middle;\n",
       "    }\n",
       "\n",
       "    .dataframe tbody tr th {\n",
       "        vertical-align: top;\n",
       "    }\n",
       "\n",
       "    .dataframe thead th {\n",
       "        text-align: right;\n",
       "    }\n",
       "</style>\n",
       "<table border=\"1\" class=\"dataframe\">\n",
       "  <thead>\n",
       "    <tr style=\"text-align: right;\">\n",
       "      <th></th>\n",
       "      <th>bill</th>\n",
       "      <th>day_of_month</th>\n",
       "      <th>year</th>\n",
       "      <th>client</th>\n",
       "    </tr>\n",
       "  </thead>\n",
       "  <tbody>\n",
       "    <tr>\n",
       "      <th>0</th>\n",
       "      <td>0.798902</td>\n",
       "      <td>0.137357</td>\n",
       "      <td>0.822943</td>\n",
       "      <td>IBM</td>\n",
       "    </tr>\n",
       "    <tr>\n",
       "      <th>1</th>\n",
       "      <td>0.952091</td>\n",
       "      <td>0.900022</td>\n",
       "      <td>0.099532</td>\n",
       "      <td>IBM</td>\n",
       "    </tr>\n",
       "    <tr>\n",
       "      <th>2</th>\n",
       "      <td>0.531222</td>\n",
       "      <td>0.779087</td>\n",
       "      <td>0.360579</td>\n",
       "      <td>Google</td>\n",
       "    </tr>\n",
       "    <tr>\n",
       "      <th>3</th>\n",
       "      <td>0.423680</td>\n",
       "      <td>0.222543</td>\n",
       "      <td>0.507229</td>\n",
       "      <td>Google</td>\n",
       "    </tr>\n",
       "    <tr>\n",
       "      <th>4</th>\n",
       "      <td>0.396219</td>\n",
       "      <td>0.439980</td>\n",
       "      <td>0.368283</td>\n",
       "      <td>Google</td>\n",
       "    </tr>\n",
       "    <tr>\n",
       "      <th>5</th>\n",
       "      <td>0.241255</td>\n",
       "      <td>0.274822</td>\n",
       "      <td>0.679226</td>\n",
       "      <td>LG</td>\n",
       "    </tr>\n",
       "    <tr>\n",
       "      <th>6</th>\n",
       "      <td>0.256555</td>\n",
       "      <td>0.261357</td>\n",
       "      <td>0.277393</td>\n",
       "      <td>IBM</td>\n",
       "    </tr>\n",
       "    <tr>\n",
       "      <th>7</th>\n",
       "      <td>0.154774</td>\n",
       "      <td>0.968693</td>\n",
       "      <td>0.867439</td>\n",
       "      <td>Google</td>\n",
       "    </tr>\n",
       "    <tr>\n",
       "      <th>8</th>\n",
       "      <td>0.042938</td>\n",
       "      <td>0.541353</td>\n",
       "      <td>0.905787</td>\n",
       "      <td>Google</td>\n",
       "    </tr>\n",
       "    <tr>\n",
       "      <th>9</th>\n",
       "      <td>0.281812</td>\n",
       "      <td>0.040548</td>\n",
       "      <td>0.821270</td>\n",
       "      <td>IBM</td>\n",
       "    </tr>\n",
       "    <tr>\n",
       "      <th>10</th>\n",
       "      <td>0.920984</td>\n",
       "      <td>0.665847</td>\n",
       "      <td>0.629710</td>\n",
       "      <td>Citigroup</td>\n",
       "    </tr>\n",
       "    <tr>\n",
       "      <th>11</th>\n",
       "      <td>0.553183</td>\n",
       "      <td>0.325510</td>\n",
       "      <td>0.032243</td>\n",
       "      <td>Google</td>\n",
       "    </tr>\n",
       "    <tr>\n",
       "      <th>12</th>\n",
       "      <td>0.188131</td>\n",
       "      <td>0.481790</td>\n",
       "      <td>0.100462</td>\n",
       "      <td>Google</td>\n",
       "    </tr>\n",
       "    <tr>\n",
       "      <th>13</th>\n",
       "      <td>0.385827</td>\n",
       "      <td>0.580434</td>\n",
       "      <td>0.918433</td>\n",
       "      <td>LG</td>\n",
       "    </tr>\n",
       "    <tr>\n",
       "      <th>14</th>\n",
       "      <td>0.178108</td>\n",
       "      <td>0.513070</td>\n",
       "      <td>0.424362</td>\n",
       "      <td>LG</td>\n",
       "    </tr>\n",
       "    <tr>\n",
       "      <th>15</th>\n",
       "      <td>0.395013</td>\n",
       "      <td>0.562494</td>\n",
       "      <td>0.296710</td>\n",
       "      <td>Google</td>\n",
       "    </tr>\n",
       "    <tr>\n",
       "      <th>16</th>\n",
       "      <td>0.362863</td>\n",
       "      <td>0.771039</td>\n",
       "      <td>0.488993</td>\n",
       "      <td>LG</td>\n",
       "    </tr>\n",
       "    <tr>\n",
       "      <th>17</th>\n",
       "      <td>0.886347</td>\n",
       "      <td>0.783568</td>\n",
       "      <td>0.975974</td>\n",
       "      <td>Citigroup</td>\n",
       "    </tr>\n",
       "    <tr>\n",
       "      <th>18</th>\n",
       "      <td>0.413012</td>\n",
       "      <td>0.137962</td>\n",
       "      <td>0.213591</td>\n",
       "      <td>IBM</td>\n",
       "    </tr>\n",
       "    <tr>\n",
       "      <th>19</th>\n",
       "      <td>0.324366</td>\n",
       "      <td>0.127771</td>\n",
       "      <td>0.353539</td>\n",
       "      <td>Citigroup</td>\n",
       "    </tr>\n",
       "    <tr>\n",
       "      <th>20</th>\n",
       "      <td>0.683636</td>\n",
       "      <td>0.426140</td>\n",
       "      <td>0.259138</td>\n",
       "      <td>IBM</td>\n",
       "    </tr>\n",
       "    <tr>\n",
       "      <th>21</th>\n",
       "      <td>0.364575</td>\n",
       "      <td>0.633548</td>\n",
       "      <td>0.779292</td>\n",
       "      <td>LG</td>\n",
       "    </tr>\n",
       "    <tr>\n",
       "      <th>22</th>\n",
       "      <td>0.502535</td>\n",
       "      <td>0.760440</td>\n",
       "      <td>0.468546</td>\n",
       "      <td>IBM</td>\n",
       "    </tr>\n",
       "    <tr>\n",
       "      <th>23</th>\n",
       "      <td>0.405749</td>\n",
       "      <td>0.771449</td>\n",
       "      <td>0.774548</td>\n",
       "      <td>Google</td>\n",
       "    </tr>\n",
       "    <tr>\n",
       "      <th>24</th>\n",
       "      <td>0.607500</td>\n",
       "      <td>0.247647</td>\n",
       "      <td>0.898718</td>\n",
       "      <td>Google</td>\n",
       "    </tr>\n",
       "    <tr>\n",
       "      <th>25</th>\n",
       "      <td>0.085131</td>\n",
       "      <td>0.249632</td>\n",
       "      <td>0.695825</td>\n",
       "      <td>LG</td>\n",
       "    </tr>\n",
       "    <tr>\n",
       "      <th>26</th>\n",
       "      <td>0.553873</td>\n",
       "      <td>0.435629</td>\n",
       "      <td>0.598822</td>\n",
       "      <td>IBM</td>\n",
       "    </tr>\n",
       "    <tr>\n",
       "      <th>27</th>\n",
       "      <td>0.643550</td>\n",
       "      <td>0.312867</td>\n",
       "      <td>0.752813</td>\n",
       "      <td>IBM</td>\n",
       "    </tr>\n",
       "    <tr>\n",
       "      <th>28</th>\n",
       "      <td>0.415840</td>\n",
       "      <td>0.036677</td>\n",
       "      <td>0.453450</td>\n",
       "      <td>Google</td>\n",
       "    </tr>\n",
       "    <tr>\n",
       "      <th>29</th>\n",
       "      <td>0.857720</td>\n",
       "      <td>0.049679</td>\n",
       "      <td>0.042692</td>\n",
       "      <td>Google</td>\n",
       "    </tr>\n",
       "  </tbody>\n",
       "</table>\n",
       "</div>"
      ],
      "text/plain": [
       "        bill  day_of_month      year     client\n",
       "0   0.798902      0.137357  0.822943        IBM\n",
       "1   0.952091      0.900022  0.099532        IBM\n",
       "2   0.531222      0.779087  0.360579     Google\n",
       "3   0.423680      0.222543  0.507229     Google\n",
       "4   0.396219      0.439980  0.368283     Google\n",
       "5   0.241255      0.274822  0.679226         LG\n",
       "6   0.256555      0.261357  0.277393        IBM\n",
       "7   0.154774      0.968693  0.867439     Google\n",
       "8   0.042938      0.541353  0.905787     Google\n",
       "9   0.281812      0.040548  0.821270        IBM\n",
       "10  0.920984      0.665847  0.629710  Citigroup\n",
       "11  0.553183      0.325510  0.032243     Google\n",
       "12  0.188131      0.481790  0.100462     Google\n",
       "13  0.385827      0.580434  0.918433         LG\n",
       "14  0.178108      0.513070  0.424362         LG\n",
       "15  0.395013      0.562494  0.296710     Google\n",
       "16  0.362863      0.771039  0.488993         LG\n",
       "17  0.886347      0.783568  0.975974  Citigroup\n",
       "18  0.413012      0.137962  0.213591        IBM\n",
       "19  0.324366      0.127771  0.353539  Citigroup\n",
       "20  0.683636      0.426140  0.259138        IBM\n",
       "21  0.364575      0.633548  0.779292         LG\n",
       "22  0.502535      0.760440  0.468546        IBM\n",
       "23  0.405749      0.771449  0.774548     Google\n",
       "24  0.607500      0.247647  0.898718     Google\n",
       "25  0.085131      0.249632  0.695825         LG\n",
       "26  0.553873      0.435629  0.598822        IBM\n",
       "27  0.643550      0.312867  0.752813        IBM\n",
       "28  0.415840      0.036677  0.453450     Google\n",
       "29  0.857720      0.049679  0.042692     Google"
      ]
     },
     "execution_count": 54,
     "metadata": {},
     "output_type": "execute_result"
    }
   ],
   "source": [
    "df['client'] = df['client'].apply(lambda x: clients[int(x*4)])\n",
    "df"
   ]
  },
  {
   "cell_type": "code",
   "execution_count": 55,
   "metadata": {},
   "outputs": [
    {
     "data": {
      "text/html": [
       "<div>\n",
       "<style scoped>\n",
       "    .dataframe tbody tr th:only-of-type {\n",
       "        vertical-align: middle;\n",
       "    }\n",
       "\n",
       "    .dataframe tbody tr th {\n",
       "        vertical-align: top;\n",
       "    }\n",
       "\n",
       "    .dataframe thead th {\n",
       "        text-align: right;\n",
       "    }\n",
       "</style>\n",
       "<table border=\"1\" class=\"dataframe\">\n",
       "  <thead>\n",
       "    <tr style=\"text-align: right;\">\n",
       "      <th></th>\n",
       "      <th>bill</th>\n",
       "      <th>day_of_month</th>\n",
       "      <th>year</th>\n",
       "      <th>client</th>\n",
       "    </tr>\n",
       "  </thead>\n",
       "  <tbody>\n",
       "    <tr>\n",
       "      <th>0</th>\n",
       "      <td>0.798902</td>\n",
       "      <td>0.137357</td>\n",
       "      <td>2019</td>\n",
       "      <td>IBM</td>\n",
       "    </tr>\n",
       "    <tr>\n",
       "      <th>1</th>\n",
       "      <td>0.952091</td>\n",
       "      <td>0.900022</td>\n",
       "      <td>2016</td>\n",
       "      <td>IBM</td>\n",
       "    </tr>\n",
       "    <tr>\n",
       "      <th>2</th>\n",
       "      <td>0.531222</td>\n",
       "      <td>0.779087</td>\n",
       "      <td>2017</td>\n",
       "      <td>Google</td>\n",
       "    </tr>\n",
       "    <tr>\n",
       "      <th>3</th>\n",
       "      <td>0.423680</td>\n",
       "      <td>0.222543</td>\n",
       "      <td>2018</td>\n",
       "      <td>Google</td>\n",
       "    </tr>\n",
       "    <tr>\n",
       "      <th>4</th>\n",
       "      <td>0.396219</td>\n",
       "      <td>0.439980</td>\n",
       "      <td>2017</td>\n",
       "      <td>Google</td>\n",
       "    </tr>\n",
       "    <tr>\n",
       "      <th>5</th>\n",
       "      <td>0.241255</td>\n",
       "      <td>0.274822</td>\n",
       "      <td>2018</td>\n",
       "      <td>LG</td>\n",
       "    </tr>\n",
       "    <tr>\n",
       "      <th>6</th>\n",
       "      <td>0.256555</td>\n",
       "      <td>0.261357</td>\n",
       "      <td>2017</td>\n",
       "      <td>IBM</td>\n",
       "    </tr>\n",
       "    <tr>\n",
       "      <th>7</th>\n",
       "      <td>0.154774</td>\n",
       "      <td>0.968693</td>\n",
       "      <td>2019</td>\n",
       "      <td>Google</td>\n",
       "    </tr>\n",
       "    <tr>\n",
       "      <th>8</th>\n",
       "      <td>0.042938</td>\n",
       "      <td>0.541353</td>\n",
       "      <td>2019</td>\n",
       "      <td>Google</td>\n",
       "    </tr>\n",
       "    <tr>\n",
       "      <th>9</th>\n",
       "      <td>0.281812</td>\n",
       "      <td>0.040548</td>\n",
       "      <td>2019</td>\n",
       "      <td>IBM</td>\n",
       "    </tr>\n",
       "    <tr>\n",
       "      <th>10</th>\n",
       "      <td>0.920984</td>\n",
       "      <td>0.665847</td>\n",
       "      <td>2018</td>\n",
       "      <td>Citigroup</td>\n",
       "    </tr>\n",
       "    <tr>\n",
       "      <th>11</th>\n",
       "      <td>0.553183</td>\n",
       "      <td>0.325510</td>\n",
       "      <td>2016</td>\n",
       "      <td>Google</td>\n",
       "    </tr>\n",
       "    <tr>\n",
       "      <th>12</th>\n",
       "      <td>0.188131</td>\n",
       "      <td>0.481790</td>\n",
       "      <td>2016</td>\n",
       "      <td>Google</td>\n",
       "    </tr>\n",
       "    <tr>\n",
       "      <th>13</th>\n",
       "      <td>0.385827</td>\n",
       "      <td>0.580434</td>\n",
       "      <td>2019</td>\n",
       "      <td>LG</td>\n",
       "    </tr>\n",
       "    <tr>\n",
       "      <th>14</th>\n",
       "      <td>0.178108</td>\n",
       "      <td>0.513070</td>\n",
       "      <td>2017</td>\n",
       "      <td>LG</td>\n",
       "    </tr>\n",
       "    <tr>\n",
       "      <th>15</th>\n",
       "      <td>0.395013</td>\n",
       "      <td>0.562494</td>\n",
       "      <td>2017</td>\n",
       "      <td>Google</td>\n",
       "    </tr>\n",
       "    <tr>\n",
       "      <th>16</th>\n",
       "      <td>0.362863</td>\n",
       "      <td>0.771039</td>\n",
       "      <td>2017</td>\n",
       "      <td>LG</td>\n",
       "    </tr>\n",
       "    <tr>\n",
       "      <th>17</th>\n",
       "      <td>0.886347</td>\n",
       "      <td>0.783568</td>\n",
       "      <td>2019</td>\n",
       "      <td>Citigroup</td>\n",
       "    </tr>\n",
       "    <tr>\n",
       "      <th>18</th>\n",
       "      <td>0.413012</td>\n",
       "      <td>0.137962</td>\n",
       "      <td>2016</td>\n",
       "      <td>IBM</td>\n",
       "    </tr>\n",
       "    <tr>\n",
       "      <th>19</th>\n",
       "      <td>0.324366</td>\n",
       "      <td>0.127771</td>\n",
       "      <td>2017</td>\n",
       "      <td>Citigroup</td>\n",
       "    </tr>\n",
       "    <tr>\n",
       "      <th>20</th>\n",
       "      <td>0.683636</td>\n",
       "      <td>0.426140</td>\n",
       "      <td>2017</td>\n",
       "      <td>IBM</td>\n",
       "    </tr>\n",
       "    <tr>\n",
       "      <th>21</th>\n",
       "      <td>0.364575</td>\n",
       "      <td>0.633548</td>\n",
       "      <td>2019</td>\n",
       "      <td>LG</td>\n",
       "    </tr>\n",
       "    <tr>\n",
       "      <th>22</th>\n",
       "      <td>0.502535</td>\n",
       "      <td>0.760440</td>\n",
       "      <td>2017</td>\n",
       "      <td>IBM</td>\n",
       "    </tr>\n",
       "    <tr>\n",
       "      <th>23</th>\n",
       "      <td>0.405749</td>\n",
       "      <td>0.771449</td>\n",
       "      <td>2019</td>\n",
       "      <td>Google</td>\n",
       "    </tr>\n",
       "    <tr>\n",
       "      <th>24</th>\n",
       "      <td>0.607500</td>\n",
       "      <td>0.247647</td>\n",
       "      <td>2019</td>\n",
       "      <td>Google</td>\n",
       "    </tr>\n",
       "    <tr>\n",
       "      <th>25</th>\n",
       "      <td>0.085131</td>\n",
       "      <td>0.249632</td>\n",
       "      <td>2018</td>\n",
       "      <td>LG</td>\n",
       "    </tr>\n",
       "    <tr>\n",
       "      <th>26</th>\n",
       "      <td>0.553873</td>\n",
       "      <td>0.435629</td>\n",
       "      <td>2018</td>\n",
       "      <td>IBM</td>\n",
       "    </tr>\n",
       "    <tr>\n",
       "      <th>27</th>\n",
       "      <td>0.643550</td>\n",
       "      <td>0.312867</td>\n",
       "      <td>2019</td>\n",
       "      <td>IBM</td>\n",
       "    </tr>\n",
       "    <tr>\n",
       "      <th>28</th>\n",
       "      <td>0.415840</td>\n",
       "      <td>0.036677</td>\n",
       "      <td>2017</td>\n",
       "      <td>Google</td>\n",
       "    </tr>\n",
       "    <tr>\n",
       "      <th>29</th>\n",
       "      <td>0.857720</td>\n",
       "      <td>0.049679</td>\n",
       "      <td>2016</td>\n",
       "      <td>Google</td>\n",
       "    </tr>\n",
       "  </tbody>\n",
       "</table>\n",
       "</div>"
      ],
      "text/plain": [
       "        bill  day_of_month  year     client\n",
       "0   0.798902      0.137357  2019        IBM\n",
       "1   0.952091      0.900022  2016        IBM\n",
       "2   0.531222      0.779087  2017     Google\n",
       "3   0.423680      0.222543  2018     Google\n",
       "4   0.396219      0.439980  2017     Google\n",
       "5   0.241255      0.274822  2018         LG\n",
       "6   0.256555      0.261357  2017        IBM\n",
       "7   0.154774      0.968693  2019     Google\n",
       "8   0.042938      0.541353  2019     Google\n",
       "9   0.281812      0.040548  2019        IBM\n",
       "10  0.920984      0.665847  2018  Citigroup\n",
       "11  0.553183      0.325510  2016     Google\n",
       "12  0.188131      0.481790  2016     Google\n",
       "13  0.385827      0.580434  2019         LG\n",
       "14  0.178108      0.513070  2017         LG\n",
       "15  0.395013      0.562494  2017     Google\n",
       "16  0.362863      0.771039  2017         LG\n",
       "17  0.886347      0.783568  2019  Citigroup\n",
       "18  0.413012      0.137962  2016        IBM\n",
       "19  0.324366      0.127771  2017  Citigroup\n",
       "20  0.683636      0.426140  2017        IBM\n",
       "21  0.364575      0.633548  2019         LG\n",
       "22  0.502535      0.760440  2017        IBM\n",
       "23  0.405749      0.771449  2019     Google\n",
       "24  0.607500      0.247647  2019     Google\n",
       "25  0.085131      0.249632  2018         LG\n",
       "26  0.553873      0.435629  2018        IBM\n",
       "27  0.643550      0.312867  2019        IBM\n",
       "28  0.415840      0.036677  2017     Google\n",
       "29  0.857720      0.049679  2016     Google"
      ]
     },
     "execution_count": 55,
     "metadata": {},
     "output_type": "execute_result"
    }
   ],
   "source": [
    "df['year'] = df['year'].apply(lambda x: int(x*4) + 2016)\n",
    "df"
   ]
  },
  {
   "cell_type": "code",
   "execution_count": 56,
   "metadata": {},
   "outputs": [
    {
     "data": {
      "text/html": [
       "<div>\n",
       "<style scoped>\n",
       "    .dataframe tbody tr th:only-of-type {\n",
       "        vertical-align: middle;\n",
       "    }\n",
       "\n",
       "    .dataframe tbody tr th {\n",
       "        vertical-align: top;\n",
       "    }\n",
       "\n",
       "    .dataframe thead th {\n",
       "        text-align: right;\n",
       "    }\n",
       "</style>\n",
       "<table border=\"1\" class=\"dataframe\">\n",
       "  <thead>\n",
       "    <tr style=\"text-align: right;\">\n",
       "      <th></th>\n",
       "      <th>bill</th>\n",
       "      <th>day_of_month</th>\n",
       "      <th>year</th>\n",
       "      <th>client</th>\n",
       "    </tr>\n",
       "  </thead>\n",
       "  <tbody>\n",
       "    <tr>\n",
       "      <th>0</th>\n",
       "      <td>0.798902</td>\n",
       "      <td>4</td>\n",
       "      <td>2019</td>\n",
       "      <td>IBM</td>\n",
       "    </tr>\n",
       "    <tr>\n",
       "      <th>1</th>\n",
       "      <td>0.952091</td>\n",
       "      <td>27</td>\n",
       "      <td>2016</td>\n",
       "      <td>IBM</td>\n",
       "    </tr>\n",
       "    <tr>\n",
       "      <th>2</th>\n",
       "      <td>0.531222</td>\n",
       "      <td>23</td>\n",
       "      <td>2017</td>\n",
       "      <td>Google</td>\n",
       "    </tr>\n",
       "    <tr>\n",
       "      <th>3</th>\n",
       "      <td>0.423680</td>\n",
       "      <td>6</td>\n",
       "      <td>2018</td>\n",
       "      <td>Google</td>\n",
       "    </tr>\n",
       "    <tr>\n",
       "      <th>4</th>\n",
       "      <td>0.396219</td>\n",
       "      <td>13</td>\n",
       "      <td>2017</td>\n",
       "      <td>Google</td>\n",
       "    </tr>\n",
       "    <tr>\n",
       "      <th>5</th>\n",
       "      <td>0.241255</td>\n",
       "      <td>8</td>\n",
       "      <td>2018</td>\n",
       "      <td>LG</td>\n",
       "    </tr>\n",
       "    <tr>\n",
       "      <th>6</th>\n",
       "      <td>0.256555</td>\n",
       "      <td>7</td>\n",
       "      <td>2017</td>\n",
       "      <td>IBM</td>\n",
       "    </tr>\n",
       "    <tr>\n",
       "      <th>7</th>\n",
       "      <td>0.154774</td>\n",
       "      <td>29</td>\n",
       "      <td>2019</td>\n",
       "      <td>Google</td>\n",
       "    </tr>\n",
       "    <tr>\n",
       "      <th>8</th>\n",
       "      <td>0.042938</td>\n",
       "      <td>16</td>\n",
       "      <td>2019</td>\n",
       "      <td>Google</td>\n",
       "    </tr>\n",
       "    <tr>\n",
       "      <th>9</th>\n",
       "      <td>0.281812</td>\n",
       "      <td>1</td>\n",
       "      <td>2019</td>\n",
       "      <td>IBM</td>\n",
       "    </tr>\n",
       "    <tr>\n",
       "      <th>10</th>\n",
       "      <td>0.920984</td>\n",
       "      <td>19</td>\n",
       "      <td>2018</td>\n",
       "      <td>Citigroup</td>\n",
       "    </tr>\n",
       "    <tr>\n",
       "      <th>11</th>\n",
       "      <td>0.553183</td>\n",
       "      <td>9</td>\n",
       "      <td>2016</td>\n",
       "      <td>Google</td>\n",
       "    </tr>\n",
       "    <tr>\n",
       "      <th>12</th>\n",
       "      <td>0.188131</td>\n",
       "      <td>14</td>\n",
       "      <td>2016</td>\n",
       "      <td>Google</td>\n",
       "    </tr>\n",
       "    <tr>\n",
       "      <th>13</th>\n",
       "      <td>0.385827</td>\n",
       "      <td>17</td>\n",
       "      <td>2019</td>\n",
       "      <td>LG</td>\n",
       "    </tr>\n",
       "    <tr>\n",
       "      <th>14</th>\n",
       "      <td>0.178108</td>\n",
       "      <td>15</td>\n",
       "      <td>2017</td>\n",
       "      <td>LG</td>\n",
       "    </tr>\n",
       "    <tr>\n",
       "      <th>15</th>\n",
       "      <td>0.395013</td>\n",
       "      <td>16</td>\n",
       "      <td>2017</td>\n",
       "      <td>Google</td>\n",
       "    </tr>\n",
       "    <tr>\n",
       "      <th>16</th>\n",
       "      <td>0.362863</td>\n",
       "      <td>23</td>\n",
       "      <td>2017</td>\n",
       "      <td>LG</td>\n",
       "    </tr>\n",
       "    <tr>\n",
       "      <th>17</th>\n",
       "      <td>0.886347</td>\n",
       "      <td>23</td>\n",
       "      <td>2019</td>\n",
       "      <td>Citigroup</td>\n",
       "    </tr>\n",
       "    <tr>\n",
       "      <th>18</th>\n",
       "      <td>0.413012</td>\n",
       "      <td>4</td>\n",
       "      <td>2016</td>\n",
       "      <td>IBM</td>\n",
       "    </tr>\n",
       "    <tr>\n",
       "      <th>19</th>\n",
       "      <td>0.324366</td>\n",
       "      <td>3</td>\n",
       "      <td>2017</td>\n",
       "      <td>Citigroup</td>\n",
       "    </tr>\n",
       "    <tr>\n",
       "      <th>20</th>\n",
       "      <td>0.683636</td>\n",
       "      <td>12</td>\n",
       "      <td>2017</td>\n",
       "      <td>IBM</td>\n",
       "    </tr>\n",
       "    <tr>\n",
       "      <th>21</th>\n",
       "      <td>0.364575</td>\n",
       "      <td>19</td>\n",
       "      <td>2019</td>\n",
       "      <td>LG</td>\n",
       "    </tr>\n",
       "    <tr>\n",
       "      <th>22</th>\n",
       "      <td>0.502535</td>\n",
       "      <td>22</td>\n",
       "      <td>2017</td>\n",
       "      <td>IBM</td>\n",
       "    </tr>\n",
       "    <tr>\n",
       "      <th>23</th>\n",
       "      <td>0.405749</td>\n",
       "      <td>23</td>\n",
       "      <td>2019</td>\n",
       "      <td>Google</td>\n",
       "    </tr>\n",
       "    <tr>\n",
       "      <th>24</th>\n",
       "      <td>0.607500</td>\n",
       "      <td>7</td>\n",
       "      <td>2019</td>\n",
       "      <td>Google</td>\n",
       "    </tr>\n",
       "    <tr>\n",
       "      <th>25</th>\n",
       "      <td>0.085131</td>\n",
       "      <td>7</td>\n",
       "      <td>2018</td>\n",
       "      <td>LG</td>\n",
       "    </tr>\n",
       "    <tr>\n",
       "      <th>26</th>\n",
       "      <td>0.553873</td>\n",
       "      <td>13</td>\n",
       "      <td>2018</td>\n",
       "      <td>IBM</td>\n",
       "    </tr>\n",
       "    <tr>\n",
       "      <th>27</th>\n",
       "      <td>0.643550</td>\n",
       "      <td>9</td>\n",
       "      <td>2019</td>\n",
       "      <td>IBM</td>\n",
       "    </tr>\n",
       "    <tr>\n",
       "      <th>28</th>\n",
       "      <td>0.415840</td>\n",
       "      <td>1</td>\n",
       "      <td>2017</td>\n",
       "      <td>Google</td>\n",
       "    </tr>\n",
       "    <tr>\n",
       "      <th>29</th>\n",
       "      <td>0.857720</td>\n",
       "      <td>1</td>\n",
       "      <td>2016</td>\n",
       "      <td>Google</td>\n",
       "    </tr>\n",
       "  </tbody>\n",
       "</table>\n",
       "</div>"
      ],
      "text/plain": [
       "        bill  day_of_month  year     client\n",
       "0   0.798902             4  2019        IBM\n",
       "1   0.952091            27  2016        IBM\n",
       "2   0.531222            23  2017     Google\n",
       "3   0.423680             6  2018     Google\n",
       "4   0.396219            13  2017     Google\n",
       "5   0.241255             8  2018         LG\n",
       "6   0.256555             7  2017        IBM\n",
       "7   0.154774            29  2019     Google\n",
       "8   0.042938            16  2019     Google\n",
       "9   0.281812             1  2019        IBM\n",
       "10  0.920984            19  2018  Citigroup\n",
       "11  0.553183             9  2016     Google\n",
       "12  0.188131            14  2016     Google\n",
       "13  0.385827            17  2019         LG\n",
       "14  0.178108            15  2017         LG\n",
       "15  0.395013            16  2017     Google\n",
       "16  0.362863            23  2017         LG\n",
       "17  0.886347            23  2019  Citigroup\n",
       "18  0.413012             4  2016        IBM\n",
       "19  0.324366             3  2017  Citigroup\n",
       "20  0.683636            12  2017        IBM\n",
       "21  0.364575            19  2019         LG\n",
       "22  0.502535            22  2017        IBM\n",
       "23  0.405749            23  2019     Google\n",
       "24  0.607500             7  2019     Google\n",
       "25  0.085131             7  2018         LG\n",
       "26  0.553873            13  2018        IBM\n",
       "27  0.643550             9  2019        IBM\n",
       "28  0.415840             1  2017     Google\n",
       "29  0.857720             1  2016     Google"
      ]
     },
     "execution_count": 56,
     "metadata": {},
     "output_type": "execute_result"
    }
   ],
   "source": [
    "df['day_of_month'] = df['day_of_month'].apply(lambda x: int(x*30))\n",
    "df"
   ]
  },
  {
   "cell_type": "code",
   "execution_count": 57,
   "metadata": {},
   "outputs": [
    {
     "data": {
      "text/html": [
       "<div>\n",
       "<style scoped>\n",
       "    .dataframe tbody tr th:only-of-type {\n",
       "        vertical-align: middle;\n",
       "    }\n",
       "\n",
       "    .dataframe tbody tr th {\n",
       "        vertical-align: top;\n",
       "    }\n",
       "\n",
       "    .dataframe thead th {\n",
       "        text-align: right;\n",
       "    }\n",
       "</style>\n",
       "<table border=\"1\" class=\"dataframe\">\n",
       "  <thead>\n",
       "    <tr style=\"text-align: right;\">\n",
       "      <th></th>\n",
       "      <th>bill</th>\n",
       "      <th>day_of_month</th>\n",
       "      <th>year</th>\n",
       "      <th>client</th>\n",
       "    </tr>\n",
       "  </thead>\n",
       "  <tbody>\n",
       "    <tr>\n",
       "      <th>0</th>\n",
       "      <td>17989</td>\n",
       "      <td>4</td>\n",
       "      <td>2019</td>\n",
       "      <td>IBM</td>\n",
       "    </tr>\n",
       "    <tr>\n",
       "      <th>1</th>\n",
       "      <td>19520</td>\n",
       "      <td>27</td>\n",
       "      <td>2016</td>\n",
       "      <td>IBM</td>\n",
       "    </tr>\n",
       "    <tr>\n",
       "      <th>2</th>\n",
       "      <td>15312</td>\n",
       "      <td>23</td>\n",
       "      <td>2017</td>\n",
       "      <td>Google</td>\n",
       "    </tr>\n",
       "    <tr>\n",
       "      <th>3</th>\n",
       "      <td>14236</td>\n",
       "      <td>6</td>\n",
       "      <td>2018</td>\n",
       "      <td>Google</td>\n",
       "    </tr>\n",
       "    <tr>\n",
       "      <th>4</th>\n",
       "      <td>13962</td>\n",
       "      <td>13</td>\n",
       "      <td>2017</td>\n",
       "      <td>Google</td>\n",
       "    </tr>\n",
       "    <tr>\n",
       "      <th>5</th>\n",
       "      <td>12412</td>\n",
       "      <td>8</td>\n",
       "      <td>2018</td>\n",
       "      <td>LG</td>\n",
       "    </tr>\n",
       "    <tr>\n",
       "      <th>6</th>\n",
       "      <td>12565</td>\n",
       "      <td>7</td>\n",
       "      <td>2017</td>\n",
       "      <td>IBM</td>\n",
       "    </tr>\n",
       "    <tr>\n",
       "      <th>7</th>\n",
       "      <td>11547</td>\n",
       "      <td>29</td>\n",
       "      <td>2019</td>\n",
       "      <td>Google</td>\n",
       "    </tr>\n",
       "    <tr>\n",
       "      <th>8</th>\n",
       "      <td>10429</td>\n",
       "      <td>16</td>\n",
       "      <td>2019</td>\n",
       "      <td>Google</td>\n",
       "    </tr>\n",
       "    <tr>\n",
       "      <th>9</th>\n",
       "      <td>12818</td>\n",
       "      <td>1</td>\n",
       "      <td>2019</td>\n",
       "      <td>IBM</td>\n",
       "    </tr>\n",
       "    <tr>\n",
       "      <th>10</th>\n",
       "      <td>19209</td>\n",
       "      <td>19</td>\n",
       "      <td>2018</td>\n",
       "      <td>Citigroup</td>\n",
       "    </tr>\n",
       "    <tr>\n",
       "      <th>11</th>\n",
       "      <td>15531</td>\n",
       "      <td>9</td>\n",
       "      <td>2016</td>\n",
       "      <td>Google</td>\n",
       "    </tr>\n",
       "    <tr>\n",
       "      <th>12</th>\n",
       "      <td>11881</td>\n",
       "      <td>14</td>\n",
       "      <td>2016</td>\n",
       "      <td>Google</td>\n",
       "    </tr>\n",
       "    <tr>\n",
       "      <th>13</th>\n",
       "      <td>13858</td>\n",
       "      <td>17</td>\n",
       "      <td>2019</td>\n",
       "      <td>LG</td>\n",
       "    </tr>\n",
       "    <tr>\n",
       "      <th>14</th>\n",
       "      <td>11781</td>\n",
       "      <td>15</td>\n",
       "      <td>2017</td>\n",
       "      <td>LG</td>\n",
       "    </tr>\n",
       "    <tr>\n",
       "      <th>15</th>\n",
       "      <td>13950</td>\n",
       "      <td>16</td>\n",
       "      <td>2017</td>\n",
       "      <td>Google</td>\n",
       "    </tr>\n",
       "    <tr>\n",
       "      <th>16</th>\n",
       "      <td>13628</td>\n",
       "      <td>23</td>\n",
       "      <td>2017</td>\n",
       "      <td>LG</td>\n",
       "    </tr>\n",
       "    <tr>\n",
       "      <th>17</th>\n",
       "      <td>18863</td>\n",
       "      <td>23</td>\n",
       "      <td>2019</td>\n",
       "      <td>Citigroup</td>\n",
       "    </tr>\n",
       "    <tr>\n",
       "      <th>18</th>\n",
       "      <td>14130</td>\n",
       "      <td>4</td>\n",
       "      <td>2016</td>\n",
       "      <td>IBM</td>\n",
       "    </tr>\n",
       "    <tr>\n",
       "      <th>19</th>\n",
       "      <td>13243</td>\n",
       "      <td>3</td>\n",
       "      <td>2017</td>\n",
       "      <td>Citigroup</td>\n",
       "    </tr>\n",
       "    <tr>\n",
       "      <th>20</th>\n",
       "      <td>16836</td>\n",
       "      <td>12</td>\n",
       "      <td>2017</td>\n",
       "      <td>IBM</td>\n",
       "    </tr>\n",
       "    <tr>\n",
       "      <th>21</th>\n",
       "      <td>13645</td>\n",
       "      <td>19</td>\n",
       "      <td>2019</td>\n",
       "      <td>LG</td>\n",
       "    </tr>\n",
       "    <tr>\n",
       "      <th>22</th>\n",
       "      <td>15025</td>\n",
       "      <td>22</td>\n",
       "      <td>2017</td>\n",
       "      <td>IBM</td>\n",
       "    </tr>\n",
       "    <tr>\n",
       "      <th>23</th>\n",
       "      <td>14057</td>\n",
       "      <td>23</td>\n",
       "      <td>2019</td>\n",
       "      <td>Google</td>\n",
       "    </tr>\n",
       "    <tr>\n",
       "      <th>24</th>\n",
       "      <td>16074</td>\n",
       "      <td>7</td>\n",
       "      <td>2019</td>\n",
       "      <td>Google</td>\n",
       "    </tr>\n",
       "    <tr>\n",
       "      <th>25</th>\n",
       "      <td>10851</td>\n",
       "      <td>7</td>\n",
       "      <td>2018</td>\n",
       "      <td>LG</td>\n",
       "    </tr>\n",
       "    <tr>\n",
       "      <th>26</th>\n",
       "      <td>15538</td>\n",
       "      <td>13</td>\n",
       "      <td>2018</td>\n",
       "      <td>IBM</td>\n",
       "    </tr>\n",
       "    <tr>\n",
       "      <th>27</th>\n",
       "      <td>16435</td>\n",
       "      <td>9</td>\n",
       "      <td>2019</td>\n",
       "      <td>IBM</td>\n",
       "    </tr>\n",
       "    <tr>\n",
       "      <th>28</th>\n",
       "      <td>14158</td>\n",
       "      <td>1</td>\n",
       "      <td>2017</td>\n",
       "      <td>Google</td>\n",
       "    </tr>\n",
       "    <tr>\n",
       "      <th>29</th>\n",
       "      <td>18577</td>\n",
       "      <td>1</td>\n",
       "      <td>2016</td>\n",
       "      <td>Google</td>\n",
       "    </tr>\n",
       "  </tbody>\n",
       "</table>\n",
       "</div>"
      ],
      "text/plain": [
       "     bill  day_of_month  year     client\n",
       "0   17989             4  2019        IBM\n",
       "1   19520            27  2016        IBM\n",
       "2   15312            23  2017     Google\n",
       "3   14236             6  2018     Google\n",
       "4   13962            13  2017     Google\n",
       "5   12412             8  2018         LG\n",
       "6   12565             7  2017        IBM\n",
       "7   11547            29  2019     Google\n",
       "8   10429            16  2019     Google\n",
       "9   12818             1  2019        IBM\n",
       "10  19209            19  2018  Citigroup\n",
       "11  15531             9  2016     Google\n",
       "12  11881            14  2016     Google\n",
       "13  13858            17  2019         LG\n",
       "14  11781            15  2017         LG\n",
       "15  13950            16  2017     Google\n",
       "16  13628            23  2017         LG\n",
       "17  18863            23  2019  Citigroup\n",
       "18  14130             4  2016        IBM\n",
       "19  13243             3  2017  Citigroup\n",
       "20  16836            12  2017        IBM\n",
       "21  13645            19  2019         LG\n",
       "22  15025            22  2017        IBM\n",
       "23  14057            23  2019     Google\n",
       "24  16074             7  2019     Google\n",
       "25  10851             7  2018         LG\n",
       "26  15538            13  2018        IBM\n",
       "27  16435             9  2019        IBM\n",
       "28  14158             1  2017     Google\n",
       "29  18577             1  2016     Google"
      ]
     },
     "execution_count": 57,
     "metadata": {},
     "output_type": "execute_result"
    }
   ],
   "source": [
    "df['bill'] = df['bill'].apply(lambda x: int(x*10000) + 10000)\n",
    "df"
   ]
  },
  {
   "cell_type": "code",
   "execution_count": 58,
   "metadata": {},
   "outputs": [
    {
     "data": {
      "text/html": [
       "<div>\n",
       "<style scoped>\n",
       "    .dataframe tbody tr th:only-of-type {\n",
       "        vertical-align: middle;\n",
       "    }\n",
       "\n",
       "    .dataframe tbody tr th {\n",
       "        vertical-align: top;\n",
       "    }\n",
       "\n",
       "    .dataframe thead th {\n",
       "        text-align: right;\n",
       "    }\n",
       "</style>\n",
       "<table border=\"1\" class=\"dataframe\">\n",
       "  <thead>\n",
       "    <tr style=\"text-align: right;\">\n",
       "      <th></th>\n",
       "      <th>bill</th>\n",
       "      <th>day_of_month</th>\n",
       "      <th>year</th>\n",
       "    </tr>\n",
       "  </thead>\n",
       "  <tbody>\n",
       "    <tr>\n",
       "      <th>count</th>\n",
       "      <td>30.000000</td>\n",
       "      <td>30.000000</td>\n",
       "      <td>30.000000</td>\n",
       "    </tr>\n",
       "    <tr>\n",
       "      <th>mean</th>\n",
       "      <td>14602.000000</td>\n",
       "      <td>13.033333</td>\n",
       "      <td>2017.666667</td>\n",
       "    </tr>\n",
       "    <tr>\n",
       "      <th>std</th>\n",
       "      <td>2477.740851</td>\n",
       "      <td>8.206319</td>\n",
       "      <td>1.124441</td>\n",
       "    </tr>\n",
       "    <tr>\n",
       "      <th>min</th>\n",
       "      <td>10429.000000</td>\n",
       "      <td>1.000000</td>\n",
       "      <td>2016.000000</td>\n",
       "    </tr>\n",
       "    <tr>\n",
       "      <th>25%</th>\n",
       "      <td>12924.250000</td>\n",
       "      <td>7.000000</td>\n",
       "      <td>2017.000000</td>\n",
       "    </tr>\n",
       "    <tr>\n",
       "      <th>50%</th>\n",
       "      <td>14093.500000</td>\n",
       "      <td>13.000000</td>\n",
       "      <td>2017.500000</td>\n",
       "    </tr>\n",
       "    <tr>\n",
       "      <th>75%</th>\n",
       "      <td>15940.000000</td>\n",
       "      <td>19.000000</td>\n",
       "      <td>2019.000000</td>\n",
       "    </tr>\n",
       "    <tr>\n",
       "      <th>max</th>\n",
       "      <td>19520.000000</td>\n",
       "      <td>29.000000</td>\n",
       "      <td>2019.000000</td>\n",
       "    </tr>\n",
       "  </tbody>\n",
       "</table>\n",
       "</div>"
      ],
      "text/plain": [
       "               bill  day_of_month         year\n",
       "count     30.000000     30.000000    30.000000\n",
       "mean   14602.000000     13.033333  2017.666667\n",
       "std     2477.740851      8.206319     1.124441\n",
       "min    10429.000000      1.000000  2016.000000\n",
       "25%    12924.250000      7.000000  2017.000000\n",
       "50%    14093.500000     13.000000  2017.500000\n",
       "75%    15940.000000     19.000000  2019.000000\n",
       "max    19520.000000     29.000000  2019.000000"
      ]
     },
     "execution_count": 58,
     "metadata": {},
     "output_type": "execute_result"
    }
   ],
   "source": [
    "df.describe()"
   ]
  },
  {
   "cell_type": "code",
   "execution_count": 61,
   "metadata": {},
   "outputs": [
    {
     "data": {
      "text/plain": [
       "[17105.0, 14142.833333333334, 15650.666666666666, 12695.833333333334]"
      ]
     },
     "execution_count": 61,
     "metadata": {},
     "output_type": "execute_result"
    }
   ],
   "source": [
    "list(df.groupby('client')['bill'].mean())"
   ]
  },
  {
   "cell_type": "code",
   "execution_count": 62,
   "metadata": {},
   "outputs": [
    {
     "data": {
      "text/plain": [
       "<AxesSubplot:xlabel='client'>"
      ]
     },
     "execution_count": 62,
     "metadata": {},
     "output_type": "execute_result"
    },
    {
     "data": {
      "image/png": "[encoded data removed]",
      "text/plain": [
       "<Figure size 432x288 with 1 Axes>"
      ]
     },
     "metadata": {
      "needs_background": "light"
     },
     "output_type": "display_data"
    }
   ],
   "source": [
    "df.groupby('client')['bill'].mean().plot.bar()"
   ]
  },
  {
   "cell_type": "code",
   "execution_count": 63,
   "metadata": {},
   "outputs": [
    {
     "data": {
      "text/plain": [
       "<AxesSubplot:xlabel='client'>"
      ]
     },
     "execution_count": 63,
     "metadata": {},
     "output_type": "execute_result"
    },
    {
     "data": {
      "image/png": "[encoded data removed]",
      "text/plain": [
       "<Figure size 432x288 with 1 Axes>"
      ]
     },
     "metadata": {
      "needs_background": "light"
     },
     "output_type": "display_data"
    }
   ],
   "source": [
    "df.groupby('client')['bill'].sum().plot.bar()"
   ]
  },
  {
   "cell_type": "code",
   "execution_count": 64,
   "metadata": {},
   "outputs": [
    {
     "data": {
      "text/plain": [
       "<AxesSubplot:ylabel='bill'>"
      ]
     },
     "execution_count": 64,
     "metadata": {},
     "output_type": "execute_result"
    },
    {
     "data": {
      "image/png": "[encoded data removed]",
      "text/plain": [
       "<Figure size 432x288 with 1 Axes>"
      ]
     },
     "metadata": {},
     "output_type": "display_data"
    }
   ],
   "source": [
    "df.groupby('client')['bill'].sum().plot.pie()"
   ]
  },
  {
   "cell_type": "code",
   "execution_count": 65,
   "metadata": {},
   "outputs": [
    {
     "data": {
      "text/plain": [
       "<AxesSubplot:title={'center':'bill'}, xlabel='client'>"
      ]
     },
     "execution_count": 65,
     "metadata": {},
     "output_type": "execute_result"
    },
    {
     "data": {
      "image/png": "[encoded data removed]",
      "text/plain": [
       "<Figure size 432x288 with 1 Axes>"
      ]
     },
     "metadata": {
      "needs_background": "light"
     },
     "output_type": "display_data"
    }
   ],
   "source": [
    "df.boxplot(column='bill', by='client')"
   ]
  },
  {
   "cell_type": "code",
   "execution_count": null,
   "metadata": {},
   "outputs": [],
   "source": []
  },
  {
   "cell_type": "code",
   "execution_count": 69,
   "metadata": {},
   "outputs": [],
   "source": [
    "df.to_csv('file.csv', index=False)"
   ]
  },
  {
   "cell_type": "code",
   "execution_count": 70,
   "metadata": {},
   "outputs": [],
   "source": [
    "df2 = pd.read_csv('file.csv')"
   ]
  },
  {
   "cell_type": "code",
   "execution_count": 71,
   "metadata": {
    "scrolled": true
   },
   "outputs": [
    {
     "data": {
      "text/html": [
       "<div>\n",
       "<style scoped>\n",
       "    .dataframe tbody tr th:only-of-type {\n",
       "        vertical-align: middle;\n",
       "    }\n",
       "\n",
       "    .dataframe tbody tr th {\n",
       "        vertical-align: top;\n",
       "    }\n",
       "\n",
       "    .dataframe thead th {\n",
       "        text-align: right;\n",
       "    }\n",
       "</style>\n",
       "<table border=\"1\" class=\"dataframe\">\n",
       "  <thead>\n",
       "    <tr style=\"text-align: right;\">\n",
       "      <th></th>\n",
       "      <th>bill</th>\n",
       "      <th>day_of_month</th>\n",
       "      <th>year</th>\n",
       "      <th>client</th>\n",
       "    </tr>\n",
       "  </thead>\n",
       "  <tbody>\n",
       "    <tr>\n",
       "      <th>0</th>\n",
       "      <td>17989</td>\n",
       "      <td>4</td>\n",
       "      <td>2019</td>\n",
       "      <td>IBM</td>\n",
       "    </tr>\n",
       "    <tr>\n",
       "      <th>1</th>\n",
       "      <td>19520</td>\n",
       "      <td>27</td>\n",
       "      <td>2016</td>\n",
       "      <td>IBM</td>\n",
       "    </tr>\n",
       "    <tr>\n",
       "      <th>2</th>\n",
       "      <td>15312</td>\n",
       "      <td>23</td>\n",
       "      <td>2017</td>\n",
       "      <td>Google</td>\n",
       "    </tr>\n",
       "    <tr>\n",
       "      <th>3</th>\n",
       "      <td>14236</td>\n",
       "      <td>6</td>\n",
       "      <td>2018</td>\n",
       "      <td>Google</td>\n",
       "    </tr>\n",
       "    <tr>\n",
       "      <th>4</th>\n",
       "      <td>13962</td>\n",
       "      <td>13</td>\n",
       "      <td>2017</td>\n",
       "      <td>Google</td>\n",
       "    </tr>\n",
       "    <tr>\n",
       "      <th>5</th>\n",
       "      <td>12412</td>\n",
       "      <td>8</td>\n",
       "      <td>2018</td>\n",
       "      <td>LG</td>\n",
       "    </tr>\n",
       "    <tr>\n",
       "      <th>6</th>\n",
       "      <td>12565</td>\n",
       "      <td>7</td>\n",
       "      <td>2017</td>\n",
       "      <td>IBM</td>\n",
       "    </tr>\n",
       "    <tr>\n",
       "      <th>7</th>\n",
       "      <td>11547</td>\n",
       "      <td>29</td>\n",
       "      <td>2019</td>\n",
       "      <td>Google</td>\n",
       "    </tr>\n",
       "    <tr>\n",
       "      <th>8</th>\n",
       "      <td>10429</td>\n",
       "      <td>16</td>\n",
       "      <td>2019</td>\n",
       "      <td>Google</td>\n",
       "    </tr>\n",
       "    <tr>\n",
       "      <th>9</th>\n",
       "      <td>12818</td>\n",
       "      <td>1</td>\n",
       "      <td>2019</td>\n",
       "      <td>IBM</td>\n",
       "    </tr>\n",
       "    <tr>\n",
       "      <th>10</th>\n",
       "      <td>19209</td>\n",
       "      <td>19</td>\n",
       "      <td>2018</td>\n",
       "      <td>Citigroup</td>\n",
       "    </tr>\n",
       "    <tr>\n",
       "      <th>11</th>\n",
       "      <td>15531</td>\n",
       "      <td>9</td>\n",
       "      <td>2016</td>\n",
       "      <td>Google</td>\n",
       "    </tr>\n",
       "    <tr>\n",
       "      <th>12</th>\n",
       "      <td>11881</td>\n",
       "      <td>14</td>\n",
       "      <td>2016</td>\n",
       "      <td>Google</td>\n",
       "    </tr>\n",
       "    <tr>\n",
       "      <th>13</th>\n",
       "      <td>13858</td>\n",
       "      <td>17</td>\n",
       "      <td>2019</td>\n",
       "      <td>LG</td>\n",
       "    </tr>\n",
       "    <tr>\n",
       "      <th>14</th>\n",
       "      <td>11781</td>\n",
       "      <td>15</td>\n",
       "      <td>2017</td>\n",
       "      <td>LG</td>\n",
       "    </tr>\n",
       "    <tr>\n",
       "      <th>15</th>\n",
       "      <td>13950</td>\n",
       "      <td>16</td>\n",
       "      <td>2017</td>\n",
       "      <td>Google</td>\n",
       "    </tr>\n",
       "    <tr>\n",
       "      <th>16</th>\n",
       "      <td>13628</td>\n",
       "      <td>23</td>\n",
       "      <td>2017</td>\n",
       "      <td>LG</td>\n",
       "    </tr>\n",
       "    <tr>\n",
       "      <th>17</th>\n",
       "      <td>18863</td>\n",
       "      <td>23</td>\n",
       "      <td>2019</td>\n",
       "      <td>Citigroup</td>\n",
       "    </tr>\n",
       "    <tr>\n",
       "      <th>18</th>\n",
       "      <td>14130</td>\n",
       "      <td>4</td>\n",
       "      <td>2016</td>\n",
       "      <td>IBM</td>\n",
       "    </tr>\n",
       "    <tr>\n",
       "      <th>19</th>\n",
       "      <td>13243</td>\n",
       "      <td>3</td>\n",
       "      <td>2017</td>\n",
       "      <td>Citigroup</td>\n",
       "    </tr>\n",
       "    <tr>\n",
       "      <th>20</th>\n",
       "      <td>16836</td>\n",
       "      <td>12</td>\n",
       "      <td>2017</td>\n",
       "      <td>IBM</td>\n",
       "    </tr>\n",
       "    <tr>\n",
       "      <th>21</th>\n",
       "      <td>13645</td>\n",
       "      <td>19</td>\n",
       "      <td>2019</td>\n",
       "      <td>LG</td>\n",
       "    </tr>\n",
       "    <tr>\n",
       "      <th>22</th>\n",
       "      <td>15025</td>\n",
       "      <td>22</td>\n",
       "      <td>2017</td>\n",
       "      <td>IBM</td>\n",
       "    </tr>\n",
       "    <tr>\n",
       "      <th>23</th>\n",
       "      <td>14057</td>\n",
       "      <td>23</td>\n",
       "      <td>2019</td>\n",
       "      <td>Google</td>\n",
       "    </tr>\n",
       "    <tr>\n",
       "      <th>24</th>\n",
       "      <td>16074</td>\n",
       "      <td>7</td>\n",
       "      <td>2019</td>\n",
       "      <td>Google</td>\n",
       "    </tr>\n",
       "    <tr>\n",
       "      <th>25</th>\n",
       "      <td>10851</td>\n",
       "      <td>7</td>\n",
       "      <td>2018</td>\n",
       "      <td>LG</td>\n",
       "    </tr>\n",
       "    <tr>\n",
       "      <th>26</th>\n",
       "      <td>15538</td>\n",
       "      <td>13</td>\n",
       "      <td>2018</td>\n",
       "      <td>IBM</td>\n",
       "    </tr>\n",
       "    <tr>\n",
       "      <th>27</th>\n",
       "      <td>16435</td>\n",
       "      <td>9</td>\n",
       "      <td>2019</td>\n",
       "      <td>IBM</td>\n",
       "    </tr>\n",
       "    <tr>\n",
       "      <th>28</th>\n",
       "      <td>14158</td>\n",
       "      <td>1</td>\n",
       "      <td>2017</td>\n",
       "      <td>Google</td>\n",
       "    </tr>\n",
       "    <tr>\n",
       "      <th>29</th>\n",
       "      <td>18577</td>\n",
       "      <td>1</td>\n",
       "      <td>2016</td>\n",
       "      <td>Google</td>\n",
       "    </tr>\n",
       "  </tbody>\n",
       "</table>\n",
       "</div>"
      ],
      "text/plain": [
       "     bill  day_of_month  year     client\n",
       "0   17989             4  2019        IBM\n",
       "1   19520            27  2016        IBM\n",
       "2   15312            23  2017     Google\n",
       "3   14236             6  2018     Google\n",
       "4   13962            13  2017     Google\n",
       "5   12412             8  2018         LG\n",
       "6   12565             7  2017        IBM\n",
       "7   11547            29  2019     Google\n",
       "8   10429            16  2019     Google\n",
       "9   12818             1  2019        IBM\n",
       "10  19209            19  2018  Citigroup\n",
       "11  15531             9  2016     Google\n",
       "12  11881            14  2016     Google\n",
       "13  13858            17  2019         LG\n",
       "14  11781            15  2017         LG\n",
       "15  13950            16  2017     Google\n",
       "16  13628            23  2017         LG\n",
       "17  18863            23  2019  Citigroup\n",
       "18  14130             4  2016        IBM\n",
       "19  13243             3  2017  Citigroup\n",
       "20  16836            12  2017        IBM\n",
       "21  13645            19  2019         LG\n",
       "22  15025            22  2017        IBM\n",
       "23  14057            23  2019     Google\n",
       "24  16074             7  2019     Google\n",
       "25  10851             7  2018         LG\n",
       "26  15538            13  2018        IBM\n",
       "27  16435             9  2019        IBM\n",
       "28  14158             1  2017     Google\n",
       "29  18577             1  2016     Google"
      ]
     },
     "execution_count": 71,
     "metadata": {},
     "output_type": "execute_result"
    }
   ],
   "source": [
    "df2"
   ]
  },
  {
   "cell_type": "code",
   "execution_count": 73,
   "metadata": {},
   "outputs": [
    {
     "name": "stdout",
     "output_type": "stream",
     "text": [
      " Volume in drive C has no label.\n",
      " Volume Serial Number is 4EC9-4EBD\n",
      "\n",
      " Directory of C:\\Users\\rsusik\\ml_01\n",
      "\n",
      "04.03.2021  12:15    <DIR>          .\n",
      "04.03.2021  12:15    <DIR>          ..\n",
      "03.03.2021  09:03    <DIR>          .ipynb_checkpoints\n",
      "04.03.2021  12:12               636 file.csv\n",
      "04.03.2021  12:15           122˙066 Introduction.ipynb\n",
      "03.03.2021  09:02             1˙905 robert.susik.zip\n",
      "               3 File(s)        124˙607 bytes\n",
      "               3 Dir(s)  913˙354˙190˙848 bytes free\n"
     ]
    }
   ],
   "source": [
    "!dir"
   ]
  },
  {
   "cell_type": "code",
   "execution_count": 74,
   "metadata": {},
   "outputs": [
    {
     "name": "stdout",
     "output_type": "stream",
     "text": [
      "Collecting openpyxl\n",
      "  Using cached openpyxl-3.0.6-py2.py3-none-any.whl (242 kB)\n",
      "Collecting jdcal\n",
      "  Using cached jdcal-1.4.1-py2.py3-none-any.whl (9.5 kB)\n",
      "Collecting et-xmlfile\n",
      "  Using cached et_xmlfile-1.0.1-py3-none-any.whl\n",
      "Installing collected packages: jdcal, et-xmlfile, openpyxl\n",
      "Successfully installed et-xmlfile-1.0.1 jdcal-1.4.1 openpyxl-3.0.6\n"
     ]
    }
   ],
   "source": [
    "!pip install openpyxl"
   ]
  },
  {
   "cell_type": "code",
   "execution_count": 77,
   "metadata": {},
   "outputs": [],
   "source": [
    "# XLS, XLSX\n",
    "df.to_excel('file.xlsx', index=False)"
   ]
  },
  {
   "cell_type": "code",
   "execution_count": 78,
   "metadata": {},
   "outputs": [],
   "source": [
    "df3 = pd.read_excel('file.xlsx')"
   ]
  },
  {
   "cell_type": "code",
   "execution_count": 79,
   "metadata": {
    "scrolled": true
   },
   "outputs": [
    {
     "data": {
      "text/html": [
       "<div>\n",
       "<style scoped>\n",
       "    .dataframe tbody tr th:only-of-type {\n",
       "        vertical-align: middle;\n",
       "    }\n",
       "\n",
       "    .dataframe tbody tr th {\n",
       "        vertical-align: top;\n",
       "    }\n",
       "\n",
       "    .dataframe thead th {\n",
       "        text-align: right;\n",
       "    }\n",
       "</style>\n",
       "<table border=\"1\" class=\"dataframe\">\n",
       "  <thead>\n",
       "    <tr style=\"text-align: right;\">\n",
       "      <th></th>\n",
       "      <th>bill</th>\n",
       "      <th>day_of_month</th>\n",
       "      <th>year</th>\n",
       "      <th>client</th>\n",
       "    </tr>\n",
       "  </thead>\n",
       "  <tbody>\n",
       "    <tr>\n",
       "      <th>0</th>\n",
       "      <td>17989</td>\n",
       "      <td>4</td>\n",
       "      <td>2019</td>\n",
       "      <td>IBM</td>\n",
       "    </tr>\n",
       "    <tr>\n",
       "      <th>1</th>\n",
       "      <td>19520</td>\n",
       "      <td>27</td>\n",
       "      <td>2016</td>\n",
       "      <td>IBM</td>\n",
       "    </tr>\n",
       "    <tr>\n",
       "      <th>2</th>\n",
       "      <td>15312</td>\n",
       "      <td>23</td>\n",
       "      <td>2017</td>\n",
       "      <td>Google</td>\n",
       "    </tr>\n",
       "    <tr>\n",
       "      <th>3</th>\n",
       "      <td>14236</td>\n",
       "      <td>6</td>\n",
       "      <td>2018</td>\n",
       "      <td>Google</td>\n",
       "    </tr>\n",
       "    <tr>\n",
       "      <th>4</th>\n",
       "      <td>13962</td>\n",
       "      <td>13</td>\n",
       "      <td>2017</td>\n",
       "      <td>Google</td>\n",
       "    </tr>\n",
       "    <tr>\n",
       "      <th>5</th>\n",
       "      <td>12412</td>\n",
       "      <td>8</td>\n",
       "      <td>2018</td>\n",
       "      <td>LG</td>\n",
       "    </tr>\n",
       "    <tr>\n",
       "      <th>6</th>\n",
       "      <td>12565</td>\n",
       "      <td>7</td>\n",
       "      <td>2017</td>\n",
       "      <td>IBM</td>\n",
       "    </tr>\n",
       "    <tr>\n",
       "      <th>7</th>\n",
       "      <td>11547</td>\n",
       "      <td>29</td>\n",
       "      <td>2019</td>\n",
       "      <td>Google</td>\n",
       "    </tr>\n",
       "    <tr>\n",
       "      <th>8</th>\n",
       "      <td>10429</td>\n",
       "      <td>16</td>\n",
       "      <td>2019</td>\n",
       "      <td>Google</td>\n",
       "    </tr>\n",
       "    <tr>\n",
       "      <th>9</th>\n",
       "      <td>12818</td>\n",
       "      <td>1</td>\n",
       "      <td>2019</td>\n",
       "      <td>IBM</td>\n",
       "    </tr>\n",
       "    <tr>\n",
       "      <th>10</th>\n",
       "      <td>19209</td>\n",
       "      <td>19</td>\n",
       "      <td>2018</td>\n",
       "      <td>Citigroup</td>\n",
       "    </tr>\n",
       "    <tr>\n",
       "      <th>11</th>\n",
       "      <td>15531</td>\n",
       "      <td>9</td>\n",
       "      <td>2016</td>\n",
       "      <td>Google</td>\n",
       "    </tr>\n",
       "    <tr>\n",
       "      <th>12</th>\n",
       "      <td>11881</td>\n",
       "      <td>14</td>\n",
       "      <td>2016</td>\n",
       "      <td>Google</td>\n",
       "    </tr>\n",
       "    <tr>\n",
       "      <th>13</th>\n",
       "      <td>13858</td>\n",
       "      <td>17</td>\n",
       "      <td>2019</td>\n",
       "      <td>LG</td>\n",
       "    </tr>\n",
       "    <tr>\n",
       "      <th>14</th>\n",
       "      <td>11781</td>\n",
       "      <td>15</td>\n",
       "      <td>2017</td>\n",
       "      <td>LG</td>\n",
       "    </tr>\n",
       "    <tr>\n",
       "      <th>15</th>\n",
       "      <td>13950</td>\n",
       "      <td>16</td>\n",
       "      <td>2017</td>\n",
       "      <td>Google</td>\n",
       "    </tr>\n",
       "    <tr>\n",
       "      <th>16</th>\n",
       "      <td>13628</td>\n",
       "      <td>23</td>\n",
       "      <td>2017</td>\n",
       "      <td>LG</td>\n",
       "    </tr>\n",
       "    <tr>\n",
       "      <th>17</th>\n",
       "      <td>18863</td>\n",
       "      <td>23</td>\n",
       "      <td>2019</td>\n",
       "      <td>Citigroup</td>\n",
       "    </tr>\n",
       "    <tr>\n",
       "      <th>18</th>\n",
       "      <td>14130</td>\n",
       "      <td>4</td>\n",
       "      <td>2016</td>\n",
       "      <td>IBM</td>\n",
       "    </tr>\n",
       "    <tr>\n",
       "      <th>19</th>\n",
       "      <td>13243</td>\n",
       "      <td>3</td>\n",
       "      <td>2017</td>\n",
       "      <td>Citigroup</td>\n",
       "    </tr>\n",
       "    <tr>\n",
       "      <th>20</th>\n",
       "      <td>16836</td>\n",
       "      <td>12</td>\n",
       "      <td>2017</td>\n",
       "      <td>IBM</td>\n",
       "    </tr>\n",
       "    <tr>\n",
       "      <th>21</th>\n",
       "      <td>13645</td>\n",
       "      <td>19</td>\n",
       "      <td>2019</td>\n",
       "      <td>LG</td>\n",
       "    </tr>\n",
       "    <tr>\n",
       "      <th>22</th>\n",
       "      <td>15025</td>\n",
       "      <td>22</td>\n",
       "      <td>2017</td>\n",
       "      <td>IBM</td>\n",
       "    </tr>\n",
       "    <tr>\n",
       "      <th>23</th>\n",
       "      <td>14057</td>\n",
       "      <td>23</td>\n",
       "      <td>2019</td>\n",
       "      <td>Google</td>\n",
       "    </tr>\n",
       "    <tr>\n",
       "      <th>24</th>\n",
       "      <td>16074</td>\n",
       "      <td>7</td>\n",
       "      <td>2019</td>\n",
       "      <td>Google</td>\n",
       "    </tr>\n",
       "    <tr>\n",
       "      <th>25</th>\n",
       "      <td>10851</td>\n",
       "      <td>7</td>\n",
       "      <td>2018</td>\n",
       "      <td>LG</td>\n",
       "    </tr>\n",
       "    <tr>\n",
       "      <th>26</th>\n",
       "      <td>15538</td>\n",
       "      <td>13</td>\n",
       "      <td>2018</td>\n",
       "      <td>IBM</td>\n",
       "    </tr>\n",
       "    <tr>\n",
       "      <th>27</th>\n",
       "      <td>16435</td>\n",
       "      <td>9</td>\n",
       "      <td>2019</td>\n",
       "      <td>IBM</td>\n",
       "    </tr>\n",
       "    <tr>\n",
       "      <th>28</th>\n",
       "      <td>14158</td>\n",
       "      <td>1</td>\n",
       "      <td>2017</td>\n",
       "      <td>Google</td>\n",
       "    </tr>\n",
       "    <tr>\n",
       "      <th>29</th>\n",
       "      <td>18577</td>\n",
       "      <td>1</td>\n",
       "      <td>2016</td>\n",
       "      <td>Google</td>\n",
       "    </tr>\n",
       "  </tbody>\n",
       "</table>\n",
       "</div>"
      ],
      "text/plain": [
       "     bill  day_of_month  year     client\n",
       "0   17989             4  2019        IBM\n",
       "1   19520            27  2016        IBM\n",
       "2   15312            23  2017     Google\n",
       "3   14236             6  2018     Google\n",
       "4   13962            13  2017     Google\n",
       "5   12412             8  2018         LG\n",
       "6   12565             7  2017        IBM\n",
       "7   11547            29  2019     Google\n",
       "8   10429            16  2019     Google\n",
       "9   12818             1  2019        IBM\n",
       "10  19209            19  2018  Citigroup\n",
       "11  15531             9  2016     Google\n",
       "12  11881            14  2016     Google\n",
       "13  13858            17  2019         LG\n",
       "14  11781            15  2017         LG\n",
       "15  13950            16  2017     Google\n",
       "16  13628            23  2017         LG\n",
       "17  18863            23  2019  Citigroup\n",
       "18  14130             4  2016        IBM\n",
       "19  13243             3  2017  Citigroup\n",
       "20  16836            12  2017        IBM\n",
       "21  13645            19  2019         LG\n",
       "22  15025            22  2017        IBM\n",
       "23  14057            23  2019     Google\n",
       "24  16074             7  2019     Google\n",
       "25  10851             7  2018         LG\n",
       "26  15538            13  2018        IBM\n",
       "27  16435             9  2019        IBM\n",
       "28  14158             1  2017     Google\n",
       "29  18577             1  2016     Google"
      ]
     },
     "execution_count": 79,
     "metadata": {},
     "output_type": "execute_result"
    }
   ],
   "source": [
    "df3"
   ]
  },
  {
   "cell_type": "code",
   "execution_count": 81,
   "metadata": {},
   "outputs": [
    {
     "name": "stdout",
     "output_type": "stream",
     "text": [
      "Collecting xlwt\n",
      "  Using cached xlwt-1.3.0-py2.py3-none-any.whl (99 kB)\n",
      "Installing collected packages: xlwt\n",
      "Successfully installed xlwt-1.3.0\n"
     ]
    }
   ],
   "source": [
    "!pip install xlwt"
   ]
  },
  {
   "cell_type": "code",
   "execution_count": 84,
   "metadata": {},
   "outputs": [
    {
     "name": "stdout",
     "output_type": "stream",
     "text": [
      "Collecting xlrd\n",
      "  Using cached xlrd-2.0.1-py2.py3-none-any.whl (96 kB)\n",
      "Installing collected packages: xlrd\n",
      "Successfully installed xlrd-2.0.1\n"
     ]
    }
   ],
   "source": [
    "!pip install xlrd"
   ]
  },
  {
   "cell_type": "code",
   "execution_count": 82,
   "metadata": {},
   "outputs": [
    {
     "name": "stderr",
     "output_type": "stream",
     "text": [
      "<ipython-input-82-af83cd7f8292>:1: FutureWarning: As the xlwt package is no longer maintained, the xlwt engine will be removed in a future version of pandas. This is the only engine in pandas that supports writing in the xls format. Install openpyxl and write to an xlsx file instead. You can set the option io.excel.xls.writer to 'xlwt' to silence this warning. While this option is deprecated and will also raise a warning, it can be globally set and the warning suppressed.\n",
      "  df.to_excel('file.xls', index=False)\n"
     ]
    }
   ],
   "source": [
    "df.to_excel('file.xls', index=False)"
   ]
  },
  {
   "cell_type": "code",
   "execution_count": 85,
   "metadata": {},
   "outputs": [],
   "source": [
    "df4 = pd.read_excel('file.xls')"
   ]
  },
  {
   "cell_type": "code",
   "execution_count": 86,
   "metadata": {
    "scrolled": true
   },
   "outputs": [
    {
     "data": {
      "text/html": [
       "<div>\n",
       "<style scoped>\n",
       "    .dataframe tbody tr th:only-of-type {\n",
       "        vertical-align: middle;\n",
       "    }\n",
       "\n",
       "    .dataframe tbody tr th {\n",
       "        vertical-align: top;\n",
       "    }\n",
       "\n",
       "    .dataframe thead th {\n",
       "        text-align: right;\n",
       "    }\n",
       "</style>\n",
       "<table border=\"1\" class=\"dataframe\">\n",
       "  <thead>\n",
       "    <tr style=\"text-align: right;\">\n",
       "      <th></th>\n",
       "      <th>bill</th>\n",
       "      <th>day_of_month</th>\n",
       "      <th>year</th>\n",
       "      <th>client</th>\n",
       "    </tr>\n",
       "  </thead>\n",
       "  <tbody>\n",
       "    <tr>\n",
       "      <th>0</th>\n",
       "      <td>17989</td>\n",
       "      <td>4</td>\n",
       "      <td>2019</td>\n",
       "      <td>IBM</td>\n",
       "    </tr>\n",
       "    <tr>\n",
       "      <th>1</th>\n",
       "      <td>19520</td>\n",
       "      <td>27</td>\n",
       "      <td>2016</td>\n",
       "      <td>IBM</td>\n",
       "    </tr>\n",
       "    <tr>\n",
       "      <th>2</th>\n",
       "      <td>15312</td>\n",
       "      <td>23</td>\n",
       "      <td>2017</td>\n",
       "      <td>Google</td>\n",
       "    </tr>\n",
       "    <tr>\n",
       "      <th>3</th>\n",
       "      <td>14236</td>\n",
       "      <td>6</td>\n",
       "      <td>2018</td>\n",
       "      <td>Google</td>\n",
       "    </tr>\n",
       "    <tr>\n",
       "      <th>4</th>\n",
       "      <td>13962</td>\n",
       "      <td>13</td>\n",
       "      <td>2017</td>\n",
       "      <td>Google</td>\n",
       "    </tr>\n",
       "    <tr>\n",
       "      <th>5</th>\n",
       "      <td>12412</td>\n",
       "      <td>8</td>\n",
       "      <td>2018</td>\n",
       "      <td>LG</td>\n",
       "    </tr>\n",
       "    <tr>\n",
       "      <th>6</th>\n",
       "      <td>12565</td>\n",
       "      <td>7</td>\n",
       "      <td>2017</td>\n",
       "      <td>IBM</td>\n",
       "    </tr>\n",
       "    <tr>\n",
       "      <th>7</th>\n",
       "      <td>11547</td>\n",
       "      <td>29</td>\n",
       "      <td>2019</td>\n",
       "      <td>Google</td>\n",
       "    </tr>\n",
       "    <tr>\n",
       "      <th>8</th>\n",
       "      <td>10429</td>\n",
       "      <td>16</td>\n",
       "      <td>2019</td>\n",
       "      <td>Google</td>\n",
       "    </tr>\n",
       "    <tr>\n",
       "      <th>9</th>\n",
       "      <td>12818</td>\n",
       "      <td>1</td>\n",
       "      <td>2019</td>\n",
       "      <td>IBM</td>\n",
       "    </tr>\n",
       "    <tr>\n",
       "      <th>10</th>\n",
       "      <td>19209</td>\n",
       "      <td>19</td>\n",
       "      <td>2018</td>\n",
       "      <td>Citigroup</td>\n",
       "    </tr>\n",
       "    <tr>\n",
       "      <th>11</th>\n",
       "      <td>15531</td>\n",
       "      <td>9</td>\n",
       "      <td>2016</td>\n",
       "      <td>Google</td>\n",
       "    </tr>\n",
       "    <tr>\n",
       "      <th>12</th>\n",
       "      <td>11881</td>\n",
       "      <td>14</td>\n",
       "      <td>2016</td>\n",
       "      <td>Google</td>\n",
       "    </tr>\n",
       "    <tr>\n",
       "      <th>13</th>\n",
       "      <td>13858</td>\n",
       "      <td>17</td>\n",
       "      <td>2019</td>\n",
       "      <td>LG</td>\n",
       "    </tr>\n",
       "    <tr>\n",
       "      <th>14</th>\n",
       "      <td>11781</td>\n",
       "      <td>15</td>\n",
       "      <td>2017</td>\n",
       "      <td>LG</td>\n",
       "    </tr>\n",
       "    <tr>\n",
       "      <th>15</th>\n",
       "      <td>13950</td>\n",
       "      <td>16</td>\n",
       "      <td>2017</td>\n",
       "      <td>Google</td>\n",
       "    </tr>\n",
       "    <tr>\n",
       "      <th>16</th>\n",
       "      <td>13628</td>\n",
       "      <td>23</td>\n",
       "      <td>2017</td>\n",
       "      <td>LG</td>\n",
       "    </tr>\n",
       "    <tr>\n",
       "      <th>17</th>\n",
       "      <td>18863</td>\n",
       "      <td>23</td>\n",
       "      <td>2019</td>\n",
       "      <td>Citigroup</td>\n",
       "    </tr>\n",
       "    <tr>\n",
       "      <th>18</th>\n",
       "      <td>14130</td>\n",
       "      <td>4</td>\n",
       "      <td>2016</td>\n",
       "      <td>IBM</td>\n",
       "    </tr>\n",
       "    <tr>\n",
       "      <th>19</th>\n",
       "      <td>13243</td>\n",
       "      <td>3</td>\n",
       "      <td>2017</td>\n",
       "      <td>Citigroup</td>\n",
       "    </tr>\n",
       "    <tr>\n",
       "      <th>20</th>\n",
       "      <td>16836</td>\n",
       "      <td>12</td>\n",
       "      <td>2017</td>\n",
       "      <td>IBM</td>\n",
       "    </tr>\n",
       "    <tr>\n",
       "      <th>21</th>\n",
       "      <td>13645</td>\n",
       "      <td>19</td>\n",
       "      <td>2019</td>\n",
       "      <td>LG</td>\n",
       "    </tr>\n",
       "    <tr>\n",
       "      <th>22</th>\n",
       "      <td>15025</td>\n",
       "      <td>22</td>\n",
       "      <td>2017</td>\n",
       "      <td>IBM</td>\n",
       "    </tr>\n",
       "    <tr>\n",
       "      <th>23</th>\n",
       "      <td>14057</td>\n",
       "      <td>23</td>\n",
       "      <td>2019</td>\n",
       "      <td>Google</td>\n",
       "    </tr>\n",
       "    <tr>\n",
       "      <th>24</th>\n",
       "      <td>16074</td>\n",
       "      <td>7</td>\n",
       "      <td>2019</td>\n",
       "      <td>Google</td>\n",
       "    </tr>\n",
       "    <tr>\n",
       "      <th>25</th>\n",
       "      <td>10851</td>\n",
       "      <td>7</td>\n",
       "      <td>2018</td>\n",
       "      <td>LG</td>\n",
       "    </tr>\n",
       "    <tr>\n",
       "      <th>26</th>\n",
       "      <td>15538</td>\n",
       "      <td>13</td>\n",
       "      <td>2018</td>\n",
       "      <td>IBM</td>\n",
       "    </tr>\n",
       "    <tr>\n",
       "      <th>27</th>\n",
       "      <td>16435</td>\n",
       "      <td>9</td>\n",
       "      <td>2019</td>\n",
       "      <td>IBM</td>\n",
       "    </tr>\n",
       "    <tr>\n",
       "      <th>28</th>\n",
       "      <td>14158</td>\n",
       "      <td>1</td>\n",
       "      <td>2017</td>\n",
       "      <td>Google</td>\n",
       "    </tr>\n",
       "    <tr>\n",
       "      <th>29</th>\n",
       "      <td>18577</td>\n",
       "      <td>1</td>\n",
       "      <td>2016</td>\n",
       "      <td>Google</td>\n",
       "    </tr>\n",
       "  </tbody>\n",
       "</table>\n",
       "</div>"
      ],
      "text/plain": [
       "     bill  day_of_month  year     client\n",
       "0   17989             4  2019        IBM\n",
       "1   19520            27  2016        IBM\n",
       "2   15312            23  2017     Google\n",
       "3   14236             6  2018     Google\n",
       "4   13962            13  2017     Google\n",
       "5   12412             8  2018         LG\n",
       "6   12565             7  2017        IBM\n",
       "7   11547            29  2019     Google\n",
       "8   10429            16  2019     Google\n",
       "9   12818             1  2019        IBM\n",
       "10  19209            19  2018  Citigroup\n",
       "11  15531             9  2016     Google\n",
       "12  11881            14  2016     Google\n",
       "13  13858            17  2019         LG\n",
       "14  11781            15  2017         LG\n",
       "15  13950            16  2017     Google\n",
       "16  13628            23  2017         LG\n",
       "17  18863            23  2019  Citigroup\n",
       "18  14130             4  2016        IBM\n",
       "19  13243             3  2017  Citigroup\n",
       "20  16836            12  2017        IBM\n",
       "21  13645            19  2019         LG\n",
       "22  15025            22  2017        IBM\n",
       "23  14057            23  2019     Google\n",
       "24  16074             7  2019     Google\n",
       "25  10851             7  2018         LG\n",
       "26  15538            13  2018        IBM\n",
       "27  16435             9  2019        IBM\n",
       "28  14158             1  2017     Google\n",
       "29  18577             1  2016     Google"
      ]
     },
     "execution_count": 86,
     "metadata": {},
     "output_type": "execute_result"
    }
   ],
   "source": [
    "df4"
   ]
  },
  {
   "cell_type": "code",
   "execution_count": 91,
   "metadata": {},
   "outputs": [
    {
     "name": "stdout",
     "output_type": "stream",
     "text": [
      "Collecting tabulate\n",
      "  Downloading tabulate-0.8.9-py3-none-any.whl (25 kB)\n",
      "Installing collected packages: tabulate\n",
      "Successfully installed tabulate-0.8.9\n"
     ]
    }
   ],
   "source": [
    "!pip install tabulate"
   ]
  },
  {
   "cell_type": "code",
   "execution_count": 93,
   "metadata": {
    "scrolled": true
   },
   "outputs": [
    {
     "name": "stdout",
     "output_type": "stream",
     "text": [
      "|    |   bill |   day_of_month |   year | client    |\n",
      "|---:|-------:|---------------:|-------:|:----------|\n",
      "|  0 |  17989 |              4 |   2019 | IBM       |\n",
      "|  1 |  19520 |             27 |   2016 | IBM       |\n",
      "|  2 |  15312 |             23 |   2017 | Google    |\n",
      "|  3 |  14236 |              6 |   2018 | Google    |\n",
      "|  4 |  13962 |             13 |   2017 | Google    |\n",
      "|  5 |  12412 |              8 |   2018 | LG        |\n",
      "|  6 |  12565 |              7 |   2017 | IBM       |\n",
      "|  7 |  11547 |             29 |   2019 | Google    |\n",
      "|  8 |  10429 |             16 |   2019 | Google    |\n",
      "|  9 |  12818 |              1 |   2019 | IBM       |\n",
      "| 10 |  19209 |             19 |   2018 | Citigroup |\n",
      "| 11 |  15531 |              9 |   2016 | Google    |\n",
      "| 12 |  11881 |             14 |   2016 | Google    |\n",
      "| 13 |  13858 |             17 |   2019 | LG        |\n",
      "| 14 |  11781 |             15 |   2017 | LG        |\n",
      "| 15 |  13950 |             16 |   2017 | Google    |\n",
      "| 16 |  13628 |             23 |   2017 | LG        |\n",
      "| 17 |  18863 |             23 |   2019 | Citigroup |\n",
      "| 18 |  14130 |              4 |   2016 | IBM       |\n",
      "| 19 |  13243 |              3 |   2017 | Citigroup |\n",
      "| 20 |  16836 |             12 |   2017 | IBM       |\n",
      "| 21 |  13645 |             19 |   2019 | LG        |\n",
      "| 22 |  15025 |             22 |   2017 | IBM       |\n",
      "| 23 |  14057 |             23 |   2019 | Google    |\n",
      "| 24 |  16074 |              7 |   2019 | Google    |\n",
      "| 25 |  10851 |              7 |   2018 | LG        |\n",
      "| 26 |  15538 |             13 |   2018 | IBM       |\n",
      "| 27 |  16435 |              9 |   2019 | IBM       |\n",
      "| 28 |  14158 |              1 |   2017 | Google    |\n",
      "| 29 |  18577 |              1 |   2016 | Google    |\n"
     ]
    }
   ],
   "source": [
    "print(df.to_markdown())"
   ]
  },
  {
   "cell_type": "code",
   "execution_count": 95,
   "metadata": {},
   "outputs": [],
   "source": [
    "import matplotlib.pyplot as plt"
   ]
  },
  {
   "cell_type": "code",
   "execution_count": 129,
   "metadata": {},
   "outputs": [
    {
     "name": "stdout",
     "output_type": "stream",
     "text": [
      "[-0.25  0.75  1.75  2.75]\n",
      "[7, 8, 6, 5]\n",
      "['Poland', 'Germany', 'France', 'Spain']\n"
     ]
    },
    {
     "data": {
      "text/plain": [
       "<matplotlib.legend.Legend at 0x1910906e130>"
      ]
     },
     "execution_count": 129,
     "metadata": {},
     "output_type": "execute_result"
    },
    {
     "data": {
      "image/png": "[encoded data removed]",
      "text/plain": [
       "<Figure size 432x288 with 1 Axes>"
      ]
     },
     "metadata": {
      "needs_background": "light"
     },
     "output_type": "display_data"
    }
   ],
   "source": [
    "countries = [\"Poland\", \"Germany\", \"France\", \"Spain\"]\n",
    "x2018 = np.arange(len(countries)) - 0.25\n",
    "x2019 = np.arange(len(countries))\n",
    "x2020 = np.arange(len(countries)) + 0.25\n",
    "y2018 = [np.random.randint(2, 15) for _ in range(len(countries))]\n",
    "#y2019 = [np.random.randint(2, 15) for _ in range(len(countries))]\n",
    "#y2020 = [np.random.randint(2, 15) for _ in range(len(countries))]\n",
    "\n",
    "print(x2018)\n",
    "print(y2018)\n",
    "print(countries)\n",
    "\n",
    "plt.bar(x2018, y2018, width=0.2, label='2018', color='r')\n",
    "plt.bar(x2019, y2019, width=0.2, label='2019', color='b')\n",
    "plt.bar(x2020, y2020, width=0.2, label='2020', color='g')\n",
    "plt.xticks(x2019, countries)\n",
    "plt.title(\"Chart title\")\n",
    "plt.xlabel('Countries')\n",
    "plt.ylabel('Y value')\n",
    "plt.legend()"
   ]
  },
  {
   "cell_type": "code",
   "execution_count": 124,
   "metadata": {},
   "outputs": [
    {
     "name": "stdout",
     "output_type": "stream",
     "text": [
      "[-0.25  0.75  1.75  2.75]\n",
      "[0 1 2 3]\n",
      "[0.25 1.25 2.25 3.25]\n"
     ]
    }
   ],
   "source": [
    "print(x2018)\n",
    "print(x2019)\n",
    "print(x2020)"
   ]
  },
  {
   "cell_type": "code",
   "execution_count": 98,
   "metadata": {},
   "outputs": [
    {
     "data": {
      "text/plain": [
       "array([0, 1, 2, 3, 4, 5, 6, 7, 8, 9])"
      ]
     },
     "execution_count": 98,
     "metadata": {},
     "output_type": "execute_result"
    }
   ],
   "source": [
    "np.arange(10)"
   ]
  },
  {
   "cell_type": "code",
   "execution_count": 99,
   "metadata": {},
   "outputs": [
    {
     "data": {
      "text/plain": [
       "array([0, 1, 2, 3, 4, 5, 6, 7, 8, 9])"
      ]
     },
     "execution_count": 99,
     "metadata": {},
     "output_type": "execute_result"
    }
   ],
   "source": [
    "np.array(list(range(10)))"
   ]
  },
  {
   "cell_type": "code",
   "execution_count": 135,
   "metadata": {},
   "outputs": [
    {
     "data": {
      "text/plain": [
       "Text(0.5, 1.0, 'Pie chart')"
      ]
     },
     "execution_count": 135,
     "metadata": {},
     "output_type": "execute_result"
    },
    {
     "data": {
      "image/png": "[encoded data removed]",
      "text/plain": [
       "<Figure size 432x288 with 1 Axes>"
      ]
     },
     "metadata": {},
     "output_type": "display_data"
    }
   ],
   "source": [
    "plt.pie(\n",
    "    [2, 6, 4, 3, 1],\n",
    "    labels=[\"Poland\", \"Germany\", \"France\", \"Spain\", \"Italy\"],\n",
    "    shadow=True,\n",
    "    explode=[0.15, 0, 0, 0, 0]\n",
    ")\n",
    "plt.title(\"Pie chart\")"
   ]
  },
  {
   "cell_type": "code",
   "execution_count": 142,
   "metadata": {},
   "outputs": [
    {
     "data": {
      "text/plain": [
       "Text(0, 0.5, 'Y axis label')"
      ]
     },
     "execution_count": 142,
     "metadata": {},
     "output_type": "execute_result"
    },
    {
     "data": {
      "image/png": "[encoded data removed]",
      "text/plain": [
       "<Figure size 432x288 with 1 Axes>"
      ]
     },
     "metadata": {
      "needs_background": "light"
     },
     "output_type": "display_data"
    }
   ],
   "source": [
    "plt.plot(list(range(50)), np.random.randint(2, 15, 50))\n",
    "plt.title(\"Line chart\")\n",
    "plt.xlabel(\"X axis label\")\n",
    "plt.ylabel(\"Y axis label\")"
   ]
  },
  {
   "cell_type": "code",
   "execution_count": 143,
   "metadata": {},
   "outputs": [
    {
     "data": {
      "text/plain": [
       "array([2, 3])"
      ]
     },
     "execution_count": 143,
     "metadata": {},
     "output_type": "execute_result"
    }
   ],
   "source": [
    "v1 = np.array([2, 3])\n",
    "v1"
   ]
  },
  {
   "cell_type": "code",
   "execution_count": 146,
   "metadata": {},
   "outputs": [
    {
     "data": {
      "text/plain": [
       "<matplotlib.patches.FancyArrow at 0x1910e211c10>"
      ]
     },
     "execution_count": 146,
     "metadata": {},
     "output_type": "execute_result"
    },
    {
     "data": {
      "image/png": "[encoded data removed]",
      "text/plain": [
       "<Figure size 432x288 with 1 Axes>"
      ]
     },
     "metadata": {
      "needs_background": "light"
     },
     "output_type": "display_data"
    }
   ],
   "source": [
    "plt.arrow(0, 0, v1[0], v1[1], head_width=0.15, head_length=0.3)"
   ]
  },
  {
   "cell_type": "code",
   "execution_count": 152,
   "metadata": {},
   "outputs": [
    {
     "data": {
      "text/plain": [
       "(-2.0, 5.0)"
      ]
     },
     "execution_count": 152,
     "metadata": {},
     "output_type": "execute_result"
    },
    {
     "data": {
      "image/png": "[encoded data removed]",
      "text/plain": [
       "<Figure size 432x288 with 1 Axes>"
      ]
     },
     "metadata": {
      "needs_background": "light"
     },
     "output_type": "display_data"
    }
   ],
   "source": [
    "plt.arrow(0, 0, *v1, head_width=0.15, head_length=0.3, color='g', length_includes_head=True)\n",
    "plt.xlim(-1, 5)\n",
    "plt.ylim(-2, 5)"
   ]
  },
  {
   "cell_type": "code",
   "execution_count": 157,
   "metadata": {},
   "outputs": [
    {
     "data": {
      "text/plain": [
       "(-2.0, 5.0)"
      ]
     },
     "execution_count": 157,
     "metadata": {},
     "output_type": "execute_result"
    },
    {
     "data": {
      "image/png": "[encoded data removed]",
      "text/plain": [
       "<Figure size 432x288 with 1 Axes>"
      ]
     },
     "metadata": {
      "needs_background": "light"
     },
     "output_type": "display_data"
    }
   ],
   "source": [
    "v1 = np.array([2, 3])\n",
    "v2 = np.array([2, -1])\n",
    "v3 = v1 + v2\n",
    "plt.arrow(0, 0, *v1, head_width=0.15, head_length=0.3, color='g', length_includes_head=True)\n",
    "plt.arrow(0, 0, *v2, head_width=0.15, head_length=0.3, color='r', length_includes_head=True)\n",
    "plt.arrow(*v1, *v2, head_width=0.15, head_length=0.3, color='r', length_includes_head=True)\n",
    "plt.arrow(*v2, *v1, head_width=0.15, head_length=0.3, color='g', length_includes_head=True)\n",
    "plt.arrow(0, 0, *v3, head_width=0.15, head_length=0.3, color='b', length_includes_head=True)\n",
    "plt.xlim(-1, 5)\n",
    "plt.ylim(-2, 5)"
   ]
  },
  {
   "cell_type": "code",
   "execution_count": null,
   "metadata": {},
   "outputs": [],
   "source": []
  },
  {
   "cell_type": "code",
   "execution_count": null,
   "metadata": {},
   "outputs": [],
   "source": []
  },
  {
   "cell_type": "code",
   "execution_count": null,
   "metadata": {},
   "outputs": [],
   "source": []
  },
  {
   "cell_type": "code",
   "execution_count": null,
   "metadata": {},
   "outputs": [],
   "source": []
  },
  {
   "cell_type": "code",
   "execution_count": null,
   "metadata": {},
   "outputs": [],
   "source": []
  },
  {
   "cell_type": "code",
   "execution_count": null,
   "metadata": {},
   "outputs": [],
   "source": []
  },
  {
   "cell_type": "code",
   "execution_count": null,
   "metadata": {},
   "outputs": [],
   "source": []
  }
 ],
 "metadata": {
  "author": {
   "emails": [
    "robert.susik@p.lodz.pl",
    "rsusik@kis.p.lodz.pl"
   ],
   "name": "Robert Susik"
  },
  "kernelspec": {
   "display_name": "Python 3",
   "language": "python",
   "name": "python3"
  },
  "language_info": {
   "codemirror_mode": {
    "name": "ipython",
    "version": 3
   },
   "file_extension": ".py",
   "mimetype": "text/x-python",
   "name": "python",
   "nbconvert_exporter": "python",
   "pygments_lexer": "ipython3",
   "version": "3.8.1"
  },
  "toc": {
   "base_numbering": 1,
   "nav_menu": {},
   "number_sections": true,
   "sideBar": true,
   "skip_h1_title": false,
   "title_cell": "Table of Contents",
   "title_sidebar": "Contents",
   "toc_cell": false,
   "toc_position": {},
   "toc_section_display": true,
   "toc_window_display": false
  }
 },
 "nbformat": 4,
 "nbformat_minor": 4
}
