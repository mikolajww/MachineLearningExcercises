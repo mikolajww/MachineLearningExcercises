{
 "cells": [
  {
   "cell_type": "markdown",
   "metadata": {},
   "source": [
    "# Machine Learning\n",
    "(02 58 6162 01)\n",
    "## Introduction (2)\n",
    "\n",
    "### Task 1\n",
    "Using pandas library:\n",
    "* Read the data from file. \n",
    "* Calculate the mean of all numerical columns.\n",
    "* Draw a pie chart with the values.\n"
   ]
  },
  {
   "cell_type": "code",
   "execution_count": null,
   "metadata": {},
   "outputs": [],
   "source": [
    "import pandas as pd\n",
    "# ==>> WRITE THE CODE HERE <<=="
   ]
  },
  {
   "cell_type": "markdown",
   "metadata": {},
   "source": [
    "### Task 2\n",
    "For matrix **X** below, display (using numpy package):\n",
    "* 2nd column,\n",
    "* 2nd row,\n",
    "* diagonal,\n",
    "* inverted matrix $X^{-1}$.\n",
    "\n",
    "$$\n",
    "X = \\begin{bmatrix}\n",
    "1 & 2 & 3\\\\\n",
    "4 & 5 & 6\\\\\n",
    "7 & 8 & 9\n",
    "\\end{bmatrix}\n",
    "$$\n"
   ]
  },
  {
   "cell_type": "code",
   "execution_count": null,
   "metadata": {},
   "outputs": [],
   "source": [
    "# ==>> WRITE THE CODE HERE <<=="
   ]
  },
  {
   "cell_type": "markdown",
   "metadata": {},
   "source": [
    "### Task 3\n",
    "Using numpy package solve the below linear equation:\n",
    "\n",
    "$$\n",
    "\\begin{cases}\n",
    "2x + 1y + 3z = 16\\\\\\\\\n",
    "4y + 10z = 20\\\\\\\\\n",
    "8x + 25y - 3z = 304\n",
    "\\end{cases}\n",
    "$$\n",
    "\n",
    "_Hint: $X = A^{-1}B$, where $A$ is the matrix with the coefficients and $B$ is the matrix with results._"
   ]
  },
  {
   "cell_type": "code",
   "execution_count": null,
   "metadata": {},
   "outputs": [],
   "source": [
    "# ==>> WRITE THE CODE HERE <<=="
   ]
  }
 ],
 "metadata": {
  "author": {
   "email": [
    "rsusik@kis.p.lodz.pl",
    "robert.susik@p.lodz.pl"
   ],
   "name": "Robert Susik"
  },
  "kernelspec": {
   "display_name": "Python 3",
   "language": "python",
   "name": "python3"
  },
  "language_info": {
   "codemirror_mode": {
    "name": "ipython",
    "version": 3
   },
   "file_extension": ".py",
   "mimetype": "text/x-python",
   "name": "python",
   "nbconvert_exporter": "python",
   "pygments_lexer": "ipython3",
   "version": "3.8.1"
  },
  "toc": {
   "base_numbering": 1,
   "nav_menu": {},
   "number_sections": true,
   "sideBar": true,
   "skip_h1_title": false,
   "title_cell": "Table of Contents",
   "title_sidebar": "Contents",
   "toc_cell": false,
   "toc_position": {},
   "toc_section_display": true,
   "toc_window_display": false
  }
 },
 "nbformat": 4,
 "nbformat_minor": 4
}
