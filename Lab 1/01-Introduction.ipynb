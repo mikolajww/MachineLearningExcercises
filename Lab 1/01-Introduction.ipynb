{
 "cells": [
  {
   "cell_type": "markdown",
   "metadata": {},
   "source": [
    "# Machine Learning\n",
    "(02 58 6162 01)\n",
    "## Introduction (2)\n",
    "\n",
    "### Task 1\n",
    "Using pandas library:\n",
    "* Read the data from file. \n",
    "* Calculate the mean of all numerical columns.\n",
    "* Draw a pie chart with the values.\n"
   ]
  },
  {
   "cell_type": "code",
   "execution_count": 31,
   "metadata": {},
   "outputs": [
    {
     "name": "stdout",
     "output_type": "stream",
     "text": [
      "Column B      47.377770\n",
      "Column C     444.408526\n",
      "Column D    3024.260597\n",
      "dtype: float64\n"
     ]
    },
    {
     "data": {
      "text/plain": [
       "<matplotlib.axes._subplots.AxesSubplot at 0x1556bbe6be0>"
      ]
     },
     "execution_count": 31,
     "metadata": {},
     "output_type": "execute_result"
    },
    {
     "data": {
      "image/png": "[encoded data removed]",
      "text/plain": [
       "<Figure size 432x288 with 1 Axes>"
      ]
     },
     "metadata": {},
     "output_type": "display_data"
    }
   ],
   "source": [
    "import pandas as pd\n",
    "import matplotlib.pyplot as plt\n",
    "df = pd.read_csv('dataset.csv')\n",
    "print(df.mean())\n",
    "df.mean().plot.pie()"
   ]
  },
  {
   "cell_type": "markdown",
   "metadata": {},
   "source": [
    "### Task 2\n",
    "For matrix **X** below, display (using numpy package):\n",
    "* 2nd column,\n",
    "* 2nd row,\n",
    "* diagonal,\n",
    "* inverted matrix $X^{-1}$.\n",
    "\n",
    "$$\n",
    "X = \\begin{bmatrix}\n",
    "1 & 2 & 3\\\\\n",
    "4 & 5 & 6\\\\\n",
    "7 & 8 & 9\n",
    "\\end{bmatrix}\n",
    "$$\n"
   ]
  },
  {
   "cell_type": "code",
   "execution_count": 30,
   "metadata": {},
   "outputs": [
    {
     "name": "stdout",
     "output_type": "stream",
     "text": [
      "2nd Column [2 5 8]\n",
      "2nd Row [4 5 6]\n",
      "Diagonal [1 5 9]\n",
      "Determinant 0.0\n",
      "\n",
      "[[1 2 3]\n",
      " [4 5 6]\n",
      " [7 8 9]]\n",
      "Inverse [[ 1.         -4.66666667  2.66666667]\n",
      " [-2.          6.33333333 -3.33333333]\n",
      " [ 1.         -2.          1.        ]]\n"
     ]
    }
   ],
   "source": [
    "# ==>> WRITE THE CODE HERE <<==\n",
    "X = np.array([[1, 2, 3], [4, 5, 6], [7, 8, 9]])\n",
    "print(f\"2nd Column {X[:, 1]}\")\n",
    "print(f\"2nd Row {X[1, :]}\")\n",
    "print(f\"Diagonal {X.diagonal()}\")\n",
    "print(f\"Determinant {np.linalg.det(X)}\")\n",
    "#Matrix is singular, can't calculate inverse\n",
    "X2 = np.array([[1, 2, 4], [4, 5, 6], [7, 8, 9]])\n",
    "print()\n",
    "print(X)\n",
    "print(f\"Inverse {np.linalg.inv(X2)}\")"
   ]
  },
  {
   "cell_type": "markdown",
   "metadata": {},
   "source": [
    "### Task 3\n",
    "Using numpy package solve the below linear equation:\n",
    "\n",
    "$$\n",
    "\\begin{cases}\n",
    "2x + 1y + 3z = 16\\\\\\\\\n",
    "4y + 10z = 20\\\\\\\\\n",
    "8x + 25y - 3z = 304\n",
    "\\end{cases}\n",
    "$$\n",
    "\n",
    "_Hint: $X = A^{-1}B$, where $A$ is the matrix with the coefficients and $B$ is the matrix with results._"
   ]
  },
  {
   "cell_type": "code",
   "execution_count": 5,
   "metadata": {},
   "outputs": [
    {
     "data": {
      "text/plain": [
       "array([[ 6.],\n",
       "       [10.],\n",
       "       [-2.]])"
      ]
     },
     "execution_count": 5,
     "metadata": {},
     "output_type": "execute_result"
    }
   ],
   "source": [
    "# ==>> WRITE THE CODE HERE <<==\n",
    "import numpy as np\n",
    "A = np.array([[2, 1, 3], [0, 4, 10], [8, 25, -3]])\n",
    "B = np.array([[16], [20], [304]])\n",
    "X = np.linalg.inv(A) @ B\n",
    "X"
   ]
  },
  {
   "cell_type": "code",
   "execution_count": null,
   "metadata": {},
   "outputs": [],
   "source": []
  }
 ],
 "metadata": {
  "author": {
   "email": [
    "rsusik@kis.p.lodz.pl",
    "robert.susik@p.lodz.pl"
   ],
   "name": "Robert Susik"
  },
  "kernelspec": {
   "display_name": "Python 3",
   "language": "python",
   "name": "python3"
  },
  "language_info": {
   "codemirror_mode": {
    "name": "ipython",
    "version": 3
   },
   "file_extension": ".py",
   "mimetype": "text/x-python",
   "name": "python",
   "nbconvert_exporter": "python",
   "pygments_lexer": "ipython3",
   "version": "3.8.1"
  },
  "toc": {
   "base_numbering": 1,
   "nav_menu": {},
   "number_sections": true,
   "sideBar": true,
   "skip_h1_title": false,
   "title_cell": "Table of Contents",
   "title_sidebar": "Contents",
   "toc_cell": false,
   "toc_position": {},
   "toc_section_display": true,
   "toc_window_display": false
  }
 },
 "nbformat": 4,
 "nbformat_minor": 4
}
