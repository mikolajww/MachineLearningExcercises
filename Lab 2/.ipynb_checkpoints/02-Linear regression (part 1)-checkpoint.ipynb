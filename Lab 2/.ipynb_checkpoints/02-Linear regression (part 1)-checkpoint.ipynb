{
 "cells": [
  {
   "cell_type": "markdown",
   "metadata": {},
   "source": [
    "# Machine Learning\n",
    "\n",
    "## Linear regression (part 1)\n",
    "\n",
    "### Submission\n",
    "\n",
    "<u>Submission:</u>\n",
    "\n",
    "Compress all files into **single zip** archive and submit via Wikamp. See below the content of the archive (replace the `name` and `surname` with proper values):\n",
    "```\n",
    "📂 name.surname.zip\n",
    "+-- 📜 02-Linear regression (part 1).ipynb\n",
    "```\n",
    "\n",
    "<u>Grades</u>\n",
    "\n",
    "| Percentage of all points | mark |\n",
    "| :----                    | ---: |\n",
    "| [0-50)   | 2   |\n",
    "| [50-60)  | 3   |\n",
    "| [60-70)  | 3.5 |\n",
    "| [70-80)  | 4   |\n",
    "| [80-90)  | 4.5 |\n",
    "| [90-100] | 5   |\n",
    "\n",
    "<u>Penalties</u>\n",
    "\n",
    "* `mark - 0.5` if tasks are submitted after laboratory (but less than 7 days); \n",
    "* `mark - 1` if tasks are submitted after one week (>=7 days but < 14 days);\n",
    "* `mark - 1.5` if tasks are submitted later than two weeks (>=14 days).\n",
    "\n",
    "<u>Warning:</u>\n",
    "\n",
    "It is NOT allowed to share your .ipynb file with other students. All students should download the exercise files directly from WIKAMP. Group work is considered as plagiarism.\n",
    "\n",
    "<u>Plagiarism Disclaimer:</u>\n",
    "\n",
    "I hereby declare that this exercise is my own and autonomous work. I am aware of the consequences and I am familiar with the university regulations.\n"
   ]
  },
  {
   "cell_type": "code",
   "execution_count": 1,
   "metadata": {},
   "outputs": [],
   "source": [
    "import numpy as np\n",
    "import matplotlib.pyplot as plt"
   ]
  },
  {
   "cell_type": "markdown",
   "metadata": {},
   "source": [
    "### Task 1. Create training dataset.\n",
    "Create a univariate training dataset. The dataset consists of input data `X` and output data `Y`.\n",
    "\n",
    "- **Step 1:** Create input data `X` of 20 elements in range `1..100` using `np.linspace` function (description below).\n",
    "- **Step 2:** Calculate output data `Y` using below formula:\n",
    "\\begin{equation}\n",
    "y = \\frac{x}{4} + 25\n",
    "\\end{equation}\n",
    "- **Step 3:** Add noise to data. Use `np.random.normal` function with `mean=0` and set `std` to standard deviation of `Y`.\n",
    "\n",
    "See below desctiption of mentioned `numpy` functions:\n",
    "\n",
    "#### **[np.linspace](https://numpy.org/doc/stable/reference/generated/numpy.linspace.html)**\n",
    "\n",
    "\n",
    "```python\n",
    "numpy.linspace(start, stop, num)\n",
    "```\n",
    "\n",
    "Returns `num` evenly spaced samples, calculated over the interval `[start, stop]`.\n",
    "\n",
    "**Parameters**\n",
    "* `start` - The starting value of the sequence.\n",
    "* `stop` - The end value of the sequence.\n",
    "* `num` - Number of samples to generate. Default is 50. Must be non-negative.\n",
    "\n",
    "**Example:**\n",
    "```python\n",
    "np.linspace(2.0, 3.0, num=5)\n",
    "array([2.  , 2.25, 2.5 , 2.75, 3.  ])\n",
    "```\n",
    "\n",
    "\n",
    "#### [np.random.normal](https://numpy.org/doc/stable/reference/random/generated/numpy.random.normal.html)\n",
    "\n",
    "```python\n",
    "random.normal(loc=0.0, scale=1.0, size=None)\n",
    "```\n",
    "\n",
    "Returns random samples from a normal (Gaussian) distribution.\n",
    "\n",
    "**Parameters**\n",
    "* `loc` - Mean (\"centre\") of the distribution.\n",
    "* `scale` - Standard deviation (spread or “width”) of the distribution. Must be non-negative.\n",
    "* `size` - Output shape.\n",
    "\n",
    "**Example:**\n",
    "```python\n",
    "np.random.normal(3, 2.5, size=(2, 4))\n",
    "array([[-4.49401501,  4.00950034, -1.81814867,  7.29718677],   # random\n",
    "       [ 0.39924804,  4.68456316,  4.99394529,  4.84057254]])  # random\n",
    "```"
   ]
  },
  {
   "cell_type": "code",
   "execution_count": 2,
   "metadata": {},
   "outputs": [
    {
     "data": {
      "text/plain": [
       "array([  1.        ,   6.21052632,  11.42105263,  16.63157895,\n",
       "        21.84210526,  27.05263158,  32.26315789,  37.47368421,\n",
       "        42.68421053,  47.89473684,  53.10526316,  58.31578947,\n",
       "        63.52631579,  68.73684211,  73.94736842,  79.15789474,\n",
       "        84.36842105,  89.57894737,  94.78947368, 100.        ])"
      ]
     },
     "execution_count": 2,
     "metadata": {},
     "output_type": "execute_result"
    }
   ],
   "source": [
    "# >>> WRITE YOUR CODE IN THIS CELL <<<\n",
    "X = np.linspace(1, 100, num=20)\n",
    "Y = 0.25 * X + 25 + "
   ]
  },
  {
   "cell_type": "markdown",
   "metadata": {},
   "source": [
    "### Task 2. Display the samples.\n",
    "To display the samples use `plt.scatter` function.\n",
    "\n",
    "Example:\n",
    "```python\n",
    "plt.figure()\n",
    "plt.scatter(X, Y)\n",
    "plt.title('Samples')\n",
    "plt.xlabel('x')\n",
    "plt.ylabel('y')\n",
    "```"
   ]
  },
  {
   "cell_type": "code",
   "execution_count": null,
   "metadata": {},
   "outputs": [],
   "source": [
    "# >>> WRITE YOUR CODE IN THIS CELL <<<\n"
   ]
  },
  {
   "cell_type": "markdown",
   "metadata": {},
   "source": [
    "## Task 3. Write a function.\n",
    "You already know the exact function (it is the same as you used while generating the dataset), but in this task let's imagine you do NOT know the exact function parameters. Assume that you only know that the function is defined by below formula:\n",
    "$$\n",
    "y = ax + b\n",
    "$$.\n",
    "Your task is to implement above function in python.\n"
   ]
  },
  {
   "cell_type": "code",
   "execution_count": null,
   "metadata": {},
   "outputs": [],
   "source": [
    "# >>> WRITE YOUR CODE IN THIS CELL <<<\n"
   ]
  },
  {
   "cell_type": "markdown",
   "metadata": {},
   "source": [
    "## Task 4. Display the output of the function.\n",
    "Set the parameters `a=-0.5`, `b=0` and display the function output at the same chart with samples from task 2.\n",
    "\n",
    "Example:\n",
    "```python\n",
    "plt.figure()\n",
    "plt.title('Function')\n",
    "plt.xlabel('x')\n",
    "plt.ylabel('y')\n",
    "plt.scatter(X, Y)\n",
    "pred = fun(X, -0.5) # the function fun is implemented in previous task\n",
    "plt.plot(X, pred, color='r')\n",
    "```"
   ]
  },
  {
   "cell_type": "code",
   "execution_count": null,
   "metadata": {},
   "outputs": [],
   "source": [
    "# >>> WRITE YOUR CODE IN THIS CELL <<<\n"
   ]
  },
  {
   "cell_type": "markdown",
   "metadata": {},
   "source": [
    "## Task 5. Cost function.\n",
    "\n",
    "Write a cost function that calculates how much the prediction differs from the expected values. The cost function takes two parameters `Yt` (correct values - ground truth) and `Yp` (prediction). Use the Root Mean Squared Error (RMSE) as the metric:\n",
    "$$\n",
    "\\textit{RMSE(Yt, Yp)} = \\sqrt{\\frac{1}{n}\\sum_{i=0}^{n-1}{(\\textit{Yp} - \\textit{Yt})^2}}\n",
    "$$"
   ]
  },
  {
   "cell_type": "code",
   "execution_count": null,
   "metadata": {},
   "outputs": [],
   "source": [
    "# >>> WRITE YOUR CODE IN THIS CELL <<<\n"
   ]
  },
  {
   "cell_type": "markdown",
   "metadata": {},
   "source": [
    "## Task 6. Display the cost function for different values of parameter `a`.\n",
    "Plot the cost function for different values of parameter `a` (set the parameter `b = 0`). Check 20 values in range between -2 and 2.\n",
    "\n",
    "_You will notice that the function drops until particular value and then increases. The point where the function achieves the minimum is the solution._\n",
    "\n",
    "NOTE: Use the `plt.plot` to draw the chart."
   ]
  },
  {
   "cell_type": "code",
   "execution_count": null,
   "metadata": {},
   "outputs": [],
   "source": [
    "# >>> WRITE YOUR CODE IN THIS CELL <<<\n"
   ]
  },
  {
   "cell_type": "markdown",
   "metadata": {},
   "source": [
    "## Task 7. Display the cost function for different values of parameters `a` and `b`.\n",
    "Plot the cost function for different values of parameter `a` and `b`. Use below range:\n",
    "\n",
    "| Variable | Range    |\n",
    "| :------- | -------: |\n",
    "| `a`      | -2..2    |\n",
    "| `b`      | -50..100 |\n",
    "\n",
    "To display this chart use 3D projection. `np.meshgrid` function can be used to generate the coordinates. Example:\n",
    "\n",
    "```python\n",
    "# ...\n",
    "fig = plt.figure()\n",
    "ax = fig.gca(projection='3d')\n",
    "ax.set_xlabel('a')\n",
    "ax.set_ylabel('b')\n",
    "ax.set_zlabel('cost')\n",
    "plt.title(\"Cost function\")\n",
    "A, B = np.meshgrid(A, B)\n",
    "ax.plot_surface(A, B, cost, cmap=\"gist_ncar\")\n",
    "```\n",
    "\n",
    "_NOTE: `%matplotlib notebook` makes the chart interactive._\n"
   ]
  },
  {
   "cell_type": "code",
   "execution_count": null,
   "metadata": {},
   "outputs": [],
   "source": [
    "%matplotlib notebook\n",
    "from mpl_toolkits.mplot3d import Axes3D\n",
    "# >>> WRITE YOUR CODE BELOW <<<\n"
   ]
  },
  {
   "cell_type": "markdown",
   "metadata": {},
   "source": [
    "## Write conclusions\n",
    "Write your conclusions."
   ]
  },
  {
   "cell_type": "code",
   "execution_count": null,
   "metadata": {},
   "outputs": [],
   "source": []
  }
 ],
 "metadata": {
  "author": {
   "emails": [
    "robert.susik@p.lodz.pl",
    "rsusik@kis.p.lodz.pl"
   ],
   "name": "Robert Susik"
  },
  "kernelspec": {
   "display_name": "Python 3",
   "language": "python",
   "name": "python3"
  },
  "language_info": {
   "codemirror_mode": {
    "name": "ipython",
    "version": 3
   },
   "file_extension": ".py",
   "mimetype": "text/x-python",
   "name": "python",
   "nbconvert_exporter": "python",
   "pygments_lexer": "ipython3",
   "version": "3.8.1"
  },
  "toc": {
   "base_numbering": 1,
   "nav_menu": {},
   "number_sections": true,
   "sideBar": true,
   "skip_h1_title": false,
   "title_cell": "Table of Contents",
   "title_sidebar": "Contents",
   "toc_cell": false,
   "toc_position": {},
   "toc_section_display": true,
   "toc_window_display": false
  }
 },
 "nbformat": 4,
 "nbformat_minor": 4
}
