{
 "cells": [
  {
   "cell_type": "markdown",
   "metadata": {},
   "source": [
    "# Machine Learning (laboratory instruction)\n",
    "## Logistic regression\n",
    "\n",
    "### Submission\n",
    "\n",
    "<u>Submission:</u>\n",
    "\n",
    "Compress all files into **single zip** archive and submit via Wikamp. See below the content of the archive (replace the `name` and `surname` with proper values):\n",
    "```\n",
    "📂 name.surname.zip\n",
    "+-- 📜 04-Logistic regression (part 2) - training the model.ipynb\n",
    "+-- 📜 device.npz\n",
    "```\n",
    "\n",
    "<u>Grades</u>\n",
    "\n",
    "| Percentage of all points | mark |\n",
    "| :----                    | ---: |\n",
    "| [0-50)   | 2   |\n",
    "| [50-60)  | 3   |\n",
    "| [60-70)  | 3.5 |\n",
    "| [70-80)  | 4   |\n",
    "| [80-90)  | 4.5 |\n",
    "| [90-100] | 5   |\n",
    "\n",
    "<u>Penalties</u>\n",
    "\n",
    "* `mark - 0.5` if tasks are submitted after laboratory (but less than 7 days); \n",
    "* `mark - 1` if tasks are submitted after one week (>=7 days but < 14 days);\n",
    "* `mark - 1.5` if tasks are submitted later than two weeks (>=14 days).\n",
    "\n",
    "<u>Warning:</u>\n",
    "\n",
    "It is NOT allowed to share your .ipynb file with other students nor Internet. All students should download the exercise files directly from WIKAMP. Group work is considered as plagiarism.\n",
    "\n",
    "<u>Plagiarism Disclaimer:</u>\n",
    "\n",
    "I hereby declare that this exercise is my own and autonomous work. I am aware of the consequences and I am familiar with the university regulations."
   ]
  },
  {
   "cell_type": "markdown",
   "metadata": {},
   "source": [
    "### The goal\n",
    "Implement Logistic regression algorithm and use it for classification problem.\n",
    "\n",
    "\n",
    "### Task 1. Read the dataset from file (*0 points*).\n",
    "\n",
    "Read the dataset from file. \n",
    "This is a dataset that contains information read from sensors of cars' devices. The value 0 indicates that all the devices are original, and 1 means that at least one of the devices was replaced (not authorized).\n",
    "\n",
    "**Tip**: You can use below code to read the data:\n",
    "\n",
    "```python\n",
    "with open('device.npz', 'rb') as f:\n",
    "    data = np.load(f)\n",
    "    x, y = data['x'], data['y']\n",
    "    \n",
    "x_train, x_test, y_train, y_test = sklearn.model_selection.train_test_split(x, y, test_size=0.5, random_state=123, shuffle=True)  \n",
    "```\n"
   ]
  },
  {
   "cell_type": "code",
   "execution_count": 2,
   "metadata": {},
   "outputs": [
    {
     "ename": "NameError",
     "evalue": "name 'sklearn' is not defined",
     "output_type": "error",
     "traceback": [
      "\u001b[1;31m---------------------------------------------------------------------------\u001b[0m",
      "\u001b[1;31mNameError\u001b[0m                                 Traceback (most recent call last)",
      "\u001b[1;32m<ipython-input-2-3f78a7013063>\u001b[0m in \u001b[0;36m<module>\u001b[1;34m\u001b[0m\n\u001b[0;32m      6\u001b[0m     \u001b[0mx\u001b[0m\u001b[1;33m,\u001b[0m \u001b[0my\u001b[0m \u001b[1;33m=\u001b[0m \u001b[0mdata\u001b[0m\u001b[1;33m[\u001b[0m\u001b[1;34m'x'\u001b[0m\u001b[1;33m]\u001b[0m\u001b[1;33m,\u001b[0m \u001b[0mdata\u001b[0m\u001b[1;33m[\u001b[0m\u001b[1;34m'y'\u001b[0m\u001b[1;33m]\u001b[0m\u001b[1;33m\u001b[0m\u001b[1;33m\u001b[0m\u001b[0m\n\u001b[0;32m      7\u001b[0m \u001b[1;33m\u001b[0m\u001b[0m\n\u001b[1;32m----> 8\u001b[1;33m \u001b[0mx_train\u001b[0m\u001b[1;33m,\u001b[0m \u001b[0mx_test\u001b[0m\u001b[1;33m,\u001b[0m \u001b[0my_train\u001b[0m\u001b[1;33m,\u001b[0m \u001b[0my_test\u001b[0m \u001b[1;33m=\u001b[0m \u001b[0msklearn\u001b[0m\u001b[1;33m.\u001b[0m\u001b[0mmodel_selection\u001b[0m\u001b[1;33m.\u001b[0m\u001b[0mtrain_test_split\u001b[0m\u001b[1;33m(\u001b[0m\u001b[0mx\u001b[0m\u001b[1;33m,\u001b[0m \u001b[0my\u001b[0m\u001b[1;33m,\u001b[0m \u001b[0mtest_size\u001b[0m\u001b[1;33m=\u001b[0m\u001b[1;36m0.5\u001b[0m\u001b[1;33m,\u001b[0m \u001b[0mrandom_state\u001b[0m\u001b[1;33m=\u001b[0m\u001b[1;36m123\u001b[0m\u001b[1;33m,\u001b[0m \u001b[0mshuffle\u001b[0m\u001b[1;33m=\u001b[0m\u001b[1;32mTrue\u001b[0m\u001b[1;33m)\u001b[0m\u001b[1;33m\u001b[0m\u001b[1;33m\u001b[0m\u001b[0m\n\u001b[0m",
      "\u001b[1;31mNameError\u001b[0m: name 'sklearn' is not defined"
     ]
    }
   ],
   "source": [
    "# >>> WRITE YOUR CODE BELOW <<<\n",
    "import numpy as np\n",
    "from sklearn import *\n",
    "with open('device.npz', 'rb') as f:\n",
    "    data = np.load(f)\n",
    "    x, y = data['x'], data['y']\n",
    "\n",
    "x_train, x_test, y_train, y_test = sklearn.model_selection.train_test_split(x, y, test_size=0.5, random_state=123, shuffle=True)"
   ]
  },
  {
   "cell_type": "markdown",
   "metadata": {},
   "source": [
    "### Task 1. Implement Logistic function \n",
    "\n",
    "Implement Logistic function (also called Sigmoid function):\n",
    "$$\n",
    "S(x) = \\dfrac{1}{1 + e^{-x}}\n",
    "$$\n",
    "\n",
    "Display the chart of the function in range of -8, 8."
   ]
  },
  {
   "cell_type": "code",
   "execution_count": null,
   "metadata": {},
   "outputs": [],
   "source": [
    "# >>> WRITE YOUR CODE BELOW <<<\n"
   ]
  },
  {
   "cell_type": "markdown",
   "metadata": {},
   "source": [
    "\n",
    "\n"
   ]
  },
  {
   "cell_type": "markdown",
   "metadata": {},
   "source": [
    "### Task 2. Train model.\n",
    "\n",
    "To perform prediction the below formula can be used:\n",
    "\n",
    "$$\n",
    "f(x) = S(x\\theta)\n",
    "$$\n",
    "\n",
    "The returned value gives the probability that the output is 1 or 0. To get the prediction the value should be rounded. We can predict the values 0 and 1 using below formula:\n",
    "    \n",
    "$$\n",
    "\\begin{align}\n",
    "y = \\begin{cases}\n",
    "0&\\text{if $S(x) < 0.5$}\\\\\n",
    "1&\\text{if $S(x) \\ge 0.5$}\\\\\n",
    "\\end{cases}\n",
    "\\end{align}\n",
    "$$\n",
    "\n",
    "To train model in logistic regression we need to use a different cost function (MSE will NOT work here).\n",
    "Because now we have two cases, one when we predict the probability that the sample belongs to class 0 and the second for class 1, the cost function (for one sample) can be defined as:\n",
    "\n",
    "$$\n",
    "\\begin{align}\n",
    "c(\\theta) = \\begin{cases}\n",
    "-log(1 - S(f(x)))&\\text{if $y = 0$}\\\\\n",
    "-log(S(f(x)))&\\text{if $y = 1$}\\\\\n",
    "\\end{cases}\n",
    "\\end{align}\n",
    "$$\n",
    "\n",
    "To calculate it for all samples we can define iterative formula as follows:\n",
    "\n",
    "$$\n",
    "c(\\theta)-\\frac{1}{m}\\sum^m_{i}[t^{(i)}log(S(f(x^{(i)}))) + (1 - t^{(i)})log(1 - S(f(x)))]\n",
    "$$\n",
    "\n",
    "And the vectorized form:\n",
    "\n",
    "\n",
    "$$\n",
    "J(\\theta) = \\frac{1}{m} \\cdot \\left(-t^{T}\\log(h)-(1-t)^{T}\\log(1-h)\\right) \n",
    "$$\n",
    "\n",
    ", where $h = S(x\\theta)$\n",
    "\n",
    "To train the model using Gradient Descent we need to define gradient:\n",
    "\n",
    "\n",
    "$$\n",
    "\\nabla = \\frac{1}{m}x^T(S(x\\theta) - t)\n",
    "$$\n",
    "\n",
    "Note: that the target values are denoted $t$ because $y$ was used in one of above formula.\n",
    "\n"
   ]
  },
  {
   "cell_type": "code",
   "execution_count": null,
   "metadata": {},
   "outputs": [],
   "source": [
    "# >>> WRITE YOUR CODE BELOW <<<\n"
   ]
  },
  {
   "cell_type": "markdown",
   "metadata": {},
   "source": [
    "### Task 3. Results.\n",
    "\n",
    "Plot the train and test loss. Display the accuracy metric."
   ]
  },
  {
   "cell_type": "code",
   "execution_count": null,
   "metadata": {},
   "outputs": [],
   "source": [
    "# >>> WRITE YOUR CODE BELOW <<<\n"
   ]
  }
 ],
 "metadata": {
  "author": {
   "emails": [
    "robert.susik@p.lodz.pl",
    "rsusik@kis.p.lodz.pl"
   ],
   "name": "Robert Susik"
  },
  "kernelspec": {
   "display_name": "Python 3",
   "language": "python",
   "name": "python3"
  },
  "language_info": {
   "codemirror_mode": {
    "name": "ipython",
    "version": 3
   },
   "file_extension": ".py",
   "mimetype": "text/x-python",
   "name": "python",
   "nbconvert_exporter": "python",
   "pygments_lexer": "ipython3",
   "version": "3.8.1"
  },
  "toc": {
   "base_numbering": 1,
   "nav_menu": {},
   "number_sections": true,
   "sideBar": true,
   "skip_h1_title": false,
   "title_cell": "Table of Contents",
   "title_sidebar": "Contents",
   "toc_cell": false,
   "toc_position": {},
   "toc_section_display": true,
   "toc_window_display": true
  }
 },
 "nbformat": 4,
 "nbformat_minor": 4
}
