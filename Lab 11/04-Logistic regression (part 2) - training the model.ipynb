{
 "cells": [
  {
   "cell_type": "markdown",
   "metadata": {},
   "source": [
    "# Machine Learning (laboratory instruction)\n",
    "## Logistic regression\n",
    "\n",
    "### Submission\n",
    "\n",
    "<u>Submission:</u>\n",
    "\n",
    "Compress all files into **single zip** archive and submit via Wikamp. See below the content of the archive (replace the `name` and `surname` with proper values):\n",
    "```\n",
    "📂 name.surname.zip\n",
    "+-- 📜 04-Logistic regression (part 2) - training the model.ipynb\n",
    "+-- 📜 device.npz\n",
    "```\n",
    "\n",
    "<u>Grades</u>\n",
    "\n",
    "| Percentage of all points | mark |\n",
    "| :----                    | ---: |\n",
    "| [0-50)   | 2   |\n",
    "| [50-60)  | 3   |\n",
    "| [60-70)  | 3.5 |\n",
    "| [70-80)  | 4   |\n",
    "| [80-90)  | 4.5 |\n",
    "| [90-100] | 5   |\n",
    "\n",
    "<u>Penalties</u>\n",
    "\n",
    "* `mark - 0.5` if tasks are submitted after laboratory (but less than 7 days); \n",
    "* `mark - 1` if tasks are submitted after one week (>=7 days but < 14 days);\n",
    "* `mark - 1.5` if tasks are submitted later than two weeks (>=14 days).\n",
    "\n",
    "<u>Warning:</u>\n",
    "\n",
    "It is NOT allowed to share your .ipynb file with other students nor Internet. All students should download the exercise files directly from WIKAMP. Group work is considered as plagiarism.\n",
    "\n",
    "<u>Plagiarism Disclaimer:</u>\n",
    "\n",
    "I hereby declare that this exercise is my own and autonomous work. I am aware of the consequences and I am familiar with the university regulations."
   ]
  },
  {
   "cell_type": "markdown",
   "metadata": {},
   "source": [
    "### The goal\n",
    "Implement Logistic regression algorithm and use it for classification problem.\n",
    "\n",
    "\n",
    "### Task 1. Read the dataset from file (*0 points*).\n",
    "\n",
    "Read the dataset from file. \n",
    "This is a dataset that contains information read from sensors of cars' devices. The value 0 indicates that all the devices are original, and 1 means that at least one of the devices was replaced (not authorized).\n",
    "\n",
    "**Tip**: You can use below code to read the data:\n",
    "\n",
    "```python\n",
    "with open('device.npz', 'rb') as f:\n",
    "    data = np.load(f)\n",
    "    x, y = data['x'], data['y']\n",
    "    \n",
    "x_train, x_test, y_train, y_test = sklearn.model_selection.train_test_split(x, y, test_size=0.5, random_state=123, shuffle=True)  \n",
    "```\n"
   ]
  },
  {
   "cell_type": "code",
   "execution_count": 2,
   "metadata": {},
   "outputs": [
    {
     "name": "stdout",
     "output_type": "stream",
     "text": [
      "(500, 100) (500, 100) (500,) (500,)\n"
     ]
    }
   ],
   "source": [
    "# >>> WRITE YOUR CODE BELOW <<<\n",
    "import numpy as np\n",
    "import sklearn\n",
    "from sklearn import *\n",
    "import matplotlib.pyplot as plt\n",
    "\n",
    "with open('device.npz', 'rb') as f:\n",
    "    data = np.load(f)\n",
    "    x, y = data['x'], data['y']\n",
    "\n",
    "x_train, x_test, y_train, y_test = sklearn.model_selection.train_test_split(x, y, test_size=0.5, random_state=123, shuffle=True)\n",
    "print(x_train.shape, x_test.shape, y_train.shape, y_test.shape)"
   ]
  },
  {
   "cell_type": "markdown",
   "metadata": {},
   "source": [
    "### Task 1. Implement Logistic function \n",
    "\n",
    "Implement Logistic function (also called Sigmoid function):\n",
    "$$\n",
    "S(x) = \\dfrac{1}{1 + e^{-x}}\n",
    "$$\n",
    "\n",
    "Display the chart of the function in range of -8, 8."
   ]
  },
  {
   "cell_type": "code",
   "execution_count": 4,
   "metadata": {},
   "outputs": [
    {
     "data": {
      "text/plain": [
       "[<matplotlib.lines.Line2D at 0x180d8aa72e0>]"
      ]
     },
     "execution_count": 4,
     "metadata": {},
     "output_type": "execute_result"
    },
    {
     "data": {
      "image/png": "[encoded data removed]",
      "text/plain": [
       "<Figure size 432x288 with 1 Axes>"
      ]
     },
     "metadata": {
      "needs_background": "light"
     },
     "output_type": "display_data"
    }
   ],
   "source": [
    "# >>> WRITE YOUR CODE BELOW <<<\n",
    "def sigmoid(x):\n",
    "    return 1/(1 + np.exp(-x))\n",
    "\n",
    "x = np.linspace(-8, 8)\n",
    "plt.plot(x, sigmoid(x))"
   ]
  },
  {
   "cell_type": "markdown",
   "metadata": {},
   "source": [
    "\n",
    "\n"
   ]
  },
  {
   "cell_type": "markdown",
   "metadata": {},
   "source": [
    "### Task 2. Train model.\n",
    "\n",
    "To perform prediction the below formula can be used:\n",
    "\n",
    "$$\n",
    "f(x) = S(x\\theta)\n",
    "$$\n",
    "\n",
    "The returned value gives the probability that the output is 1 or 0. To get the prediction the value should be rounded. We can predict the values 0 and 1 using below formula:\n",
    "    \n",
    "$$\n",
    "\\begin{align}\n",
    "y = \\begin{cases}\n",
    "0&\\text{if $S(x\\theta) < 0.5$}\\\\\n",
    "1&\\text{if $S(x\\theta) \\ge 0.5$}\\\\\n",
    "\\end{cases}\n",
    "\\end{align}\n",
    "$$\n",
    "\n",
    "To train model in logistic regression we need to use a different cost function (MSE will NOT work here).\n",
    "Because now we have two cases, one when we predict the probability that the sample belongs to class 0 and the second for class 1, the cost function (for one sample) can be defined as:\n",
    "\n",
    "$$\n",
    "\\begin{align}\n",
    "c(\\theta) = \\begin{cases}\n",
    "-log(1 - f(x))&\\text{if $y = 0$}\\\\\n",
    "-log(f(x))&\\text{if $y = 1$}\\\\\n",
    "\\end{cases}\n",
    "\\end{align}\n",
    "$$\n",
    "\n",
    "To calculate it for all samples we can define iterative formula as follows:\n",
    "\n",
    "$$\n",
    "c(\\theta)-\\frac{1}{m}\\sum^m_{i}[t^{(i)}log(S(f(x^{(i)}))) + (1 - t^{(i)})log(1 - S(f(x)))]\n",
    "$$\n",
    "\n",
    "And the vectorized form:\n",
    "\n",
    "\n",
    "$$\n",
    "c(\\theta) = \\frac{1}{m} \\cdot \\left(-t^{T}\\log(h)-(1-t)^{T}\\log(1-h)\\right) \n",
    "$$\n",
    "\n",
    ", where $h = S(x\\theta)$\n",
    "\n",
    "To train the model using Gradient Descent we need to define gradient:\n",
    "\n",
    "\n",
    "$$\n",
    "\\nabla = \\frac{1}{m}x^T(S(x\\theta) - t)\n",
    "$$\n",
    "\n",
    "Note: that the target values are denoted $t$ because $y$ was used in one of above formula.\n",
    "\n"
   ]
  },
  {
   "cell_type": "code",
   "execution_count": 5,
   "metadata": {},
   "outputs": [],
   "source": [
    "# >>> WRITE YOUR CODE BELOW <<<\n",
    "from numba import njit\n",
    "def to_labels(x, w):\n",
    "    h = sigmoid(x @ w.T)\n",
    "    h[h >= 0.5] = 1\n",
    "    h[h < 0.5] = 0\n",
    "    return h\n",
    "\n",
    "def accuracy(predictions, targets):\n",
    "    return (predictions == targets).sum() / predictions.shape[0]\n",
    "\n",
    "def log_loss(x, w, targets, l = 0):\n",
    "    predictions = sigmoid(x @ w.T)\n",
    "    return (1/x.shape[0]) * np.sum((-targets * np.log(predictions) - (1 - targets) * np.log(1 - predictions))) + l * np.linalg.norm(w)**2\n",
    "\n",
    "def grad(x, w, targets, l = 0):\n",
    "    predictions = sigmoid(x @ w.T)\n",
    "    return (1 / targets.shape[0]) * (x.T @ np.subtract(predictions, targets)) + (2 * l * w)"
   ]
  },
  {
   "cell_type": "markdown",
   "metadata": {},
   "source": [
    "### Task 3. Results.\n",
    "\n",
    "Plot the train and test loss. Display the accuracy metric."
   ]
  },
  {
   "cell_type": "code",
   "execution_count": 7,
   "metadata": {},
   "outputs": [
    {
     "name": "stdout",
     "output_type": "stream",
     "text": [
      "Final error (train): 0.4230667081803644 | Final error (test): 0.47929646553596233 \n",
      "Final weights: [ 3.95344098e-02  3.98365221e-02  1.94348841e-02  3.82600125e-02\n",
      " -4.38785981e-02  6.21853216e-02  1.42468470e-02  4.02450354e-02\n",
      "  9.29256581e-02  7.17916688e-02  4.90766482e-02  1.32066125e-02\n",
      "  5.41804502e-02 -4.01668658e-02  3.46190310e-01  6.29106971e-02\n",
      " -2.56499556e-02  6.38751442e-02 -6.89024521e-02  3.95792833e-02\n",
      " -9.59409507e-02  3.51109311e-02 -6.82231117e-02 -6.74915220e-03\n",
      " -2.23194492e-02  2.90008160e-02  2.47936648e-03  2.96085417e-02\n",
      " -1.41970750e-02 -3.12645911e-02 -9.88272740e-03  3.48119720e-02\n",
      "  6.09404332e-02 -1.92686104e-01  8.30501787e-02  5.81820780e-03\n",
      " -2.81602547e-02  6.13316611e-02  4.24265735e-02 -4.34323341e-05\n",
      " -3.52821508e-02 -3.03292819e-02  4.58542675e-02 -2.25705389e-02\n",
      "  4.85366545e-03 -3.34907374e-02  1.20192749e-02  5.70350160e-02\n",
      "  1.24025406e-01  6.95591966e-02  3.74981480e-02  2.77272769e-02\n",
      "  2.58720818e-02  2.15388476e-02  3.23579734e-02  2.04198359e-02\n",
      " -1.47440649e-04  2.70934217e-02  3.78633082e-02 -5.23434866e-03\n",
      "  2.18023891e-02  2.89857742e-02 -2.71279559e-02  4.35300470e-02\n",
      "  1.69905061e-02  6.08777690e-01 -1.08309533e-02 -4.14714994e-03\n",
      "  2.90643446e-02 -5.75018840e-03 -6.96333798e-03 -2.58634001e-02\n",
      " -2.12420816e-03 -1.70726980e-02  1.74218207e-02 -3.26181127e-02\n",
      "  4.32980393e-02 -1.88591738e-02 -2.54063544e-02  7.11341498e-02\n",
      " -7.41437450e-02 -5.54421606e-02 -3.44740624e-02  3.26526532e-01\n",
      "  3.10827452e-02  3.00104838e-02 -2.23612933e-02 -3.89484000e-02\n",
      " -3.90266996e-02  6.48951802e-02 -4.22920173e-03  3.83187251e-02\n",
      " -8.71454208e-02  4.73588254e-02  5.86759763e-03  3.72831588e-03\n",
      " -5.21942996e-03  7.51092601e-03 -2.85095678e-02 -7.89938352e-02]\n"
     ]
    },
    {
     "data": {
      "image/png": "[encoded data removed]",
      "text/plain": [
       "<Figure size 432x288 with 1 Axes>"
      ]
     },
     "metadata": {
      "needs_background": "light"
     },
     "output_type": "display_data"
    },
    {
     "data": {
      "image/png": "[encoded data removed]",
      "text/plain": [
       "<Figure size 432x288 with 1 Axes>"
      ]
     },
     "metadata": {
      "needs_background": "light"
     },
     "output_type": "display_data"
    }
   ],
   "source": [
    "# >>> WRITE YOUR CODE BELOW <<<\n",
    "#x = np.hstack((np.ones(len(x)).reshape(-1, 1), x))\n",
    "w = np.random.uniform(size=(100,))\n",
    "lr = 1e-3\n",
    "epochs = 50000\n",
    "l = 0.1\n",
    "history = {'train': [], 'test': []}\n",
    "acc = {'train': [], 'test': []}\n",
    "for i in range(epochs):\n",
    "    error = log_loss(x_train, w, y_train, l)\n",
    "    w -= lr * grad(x_train, w, y_train, l)\n",
    "    history['train'].append(error)\n",
    "    labels = to_labels(x_train, w)\n",
    "    acc['train'].append(accuracy(labels, y_train))\n",
    "    \n",
    "    test_error = log_loss(x_test, w, y_test, l)\n",
    "    history['test'].append(test_error)\n",
    "    test_labels = to_labels(x_test, w)\n",
    "    acc['test'].append(accuracy(test_labels, y_test))\n",
    "\n",
    "print(f'Final error (train): {history[\"train\"][-1]} | Final error (test): {history[\"test\"][-1]} ')\n",
    "print(f'Final weights: {w}')\n",
    "plt.plot(history['train'], label='Train Loss')\n",
    "plt.plot(history['test'], label='Test Loss')\n",
    "plt.legend()\n",
    "plt.show()\n",
    "\n",
    "plt.plot(acc['train'], label='Train Accuracy')\n",
    "plt.plot(acc['test'], label='Test Accuracy')\n",
    "plt.legend()\n",
    "plt.show()\n"
   ]
  },
  {
   "cell_type": "code",
   "execution_count": null,
   "metadata": {},
   "outputs": [],
   "source": []
  }
 ],
 "metadata": {
  "author": {
   "emails": [
    "robert.susik@p.lodz.pl",
    "rsusik@kis.p.lodz.pl"
   ],
   "name": "Robert Susik"
  },
  "kernelspec": {
   "display_name": "Python 3",
   "language": "python",
   "name": "python3"
  },
  "language_info": {
   "codemirror_mode": {
    "name": "ipython",
    "version": 3
   },
   "file_extension": ".py",
   "mimetype": "text/x-python",
   "name": "python",
   "nbconvert_exporter": "python",
   "pygments_lexer": "ipython3",
   "version": "3.8.1"
  },
  "toc": {
   "base_numbering": 1,
   "nav_menu": {},
   "number_sections": true,
   "sideBar": true,
   "skip_h1_title": false,
   "title_cell": "Table of Contents",
   "title_sidebar": "Contents",
   "toc_cell": false,
   "toc_position": {},
   "toc_section_display": true,
   "toc_window_display": true
  }
 },
 "nbformat": 4,
 "nbformat_minor": 4
}
