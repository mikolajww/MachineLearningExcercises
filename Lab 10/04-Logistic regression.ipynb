{
 "cells": [
  {
   "cell_type": "markdown",
   "metadata": {},
   "source": [
    "# Machine Learning (laboratory instruction)\n",
    "## Logistic regression\n",
    "\n",
    "### Submission\n",
    "\n",
    "<u>Submission:</u>\n",
    "\n",
    "Compress all files into **single zip** archive and submit via Wikamp. See below the content of the archive (replace the `name` and `surname` with proper values):\n",
    "```\n",
    "📂 name.surname.zip\n",
    "+-- 📜 04-Logistic regression.ipynb\n",
    "+-- 📜 device.npz\n",
    "```\n",
    "\n",
    "<u>Grades</u>\n",
    "\n",
    "| Percentage of all points | mark |\n",
    "| :----                    | ---: |\n",
    "| [0-50)   | 2   |\n",
    "| [50-60)  | 3   |\n",
    "| [60-70)  | 3.5 |\n",
    "| [70-80)  | 4   |\n",
    "| [80-90)  | 4.5 |\n",
    "| [90-100] | 5   |\n",
    "\n",
    "<u>Penalties</u>\n",
    "\n",
    "* `mark - 0.5` if tasks are submitted after laboratory (but less than 7 days); \n",
    "* `mark - 1` if tasks are submitted after one week (>=7 days but < 14 days);\n",
    "* `mark - 1.5` if tasks are submitted later than two weeks (>=14 days).\n",
    "\n",
    "<u>Warning:</u>\n",
    "\n",
    "It is NOT allowed to share your .ipynb file with other students nor Internet. All students should download the exercise files directly from WIKAMP. Group work is considered as plagiarism.\n",
    "\n",
    "<u>Plagiarism Disclaimer:</u>\n",
    "\n",
    "I hereby declare that this exercise is my own and autonomous work. I am aware of the consequences and I am familiar with the university regulations."
   ]
  },
  {
   "cell_type": "markdown",
   "metadata": {},
   "source": [
    "### The goal\n",
    "Apply Logistic regression algorithm to classification problem.\n",
    "\n",
    "\n",
    "### Task 1. Read the dataset from file (*0 points*).\n",
    "\n",
    "Read the dataset from file. \n",
    "This is a dataset that contains information read from sensors of cars' devices. The value 0 indicates that all the devices are original, and 1 means that at least one of the devices was replaced (not authorized).\n",
    "\n",
    "**Tip**: You can use below code to read the data:\n",
    "\n",
    "```python\n",
    "with open('device.npz', 'rb') as f:\n",
    "    data = np.load(f)\n",
    "    x, y = data['x'], data['y']\n",
    "    \n",
    "x_train, x_test, y_train, y_test = sklearn.model_selection.train_test_split(x, y, test_size=0.5, random_state=123, shuffle=True)  \n",
    "```\n",
    "\n",
    "\n"
   ]
  },
  {
   "cell_type": "code",
   "execution_count": 59,
   "metadata": {},
   "outputs": [],
   "source": [
    "# >>> WRITE YOUR CODE BELOW <<<\n",
    "import numpy as np\n",
    "from sklearn import *\n",
    "\n",
    "with open('device.npz', 'rb') as f:\n",
    "    data = np.load(f)\n",
    "    x, y = data['x'], data['y']\n",
    "\n",
    "x_train, x_test, y_train, y_test = sklearn.model_selection.train_test_split(x, y, test_size=0.5, random_state=123, shuffle=True)  "
   ]
  },
  {
   "cell_type": "markdown",
   "metadata": {},
   "source": [
    "### Task 1. Apply Logistic regression algorithm.\n",
    "\n",
    "**Tasks:**\n",
    "1. Use Logistic regression algorithm to perform classification.\n",
    "2. Use Accuracy (and loss) metric to check the model results.\n",
    "3. Explore the parameters of the implementation you use.\n",
    "\n",
    "**Note**: You should use implementation that uses Gradient Descent (or any variant) to train the model.\n",
    "\n",
    "$$\n",
    "\\texttt{Accuracy} = \\frac{T}{N}\n",
    "$$\n",
    "\n",
    "where $T$ - number of correctly classified samples, $N$ - number of all samples.\n"
   ]
  },
  {
   "cell_type": "code",
   "execution_count": 60,
   "metadata": {},
   "outputs": [
    {
     "name": "stdout",
     "output_type": "stream",
     "text": [
      "-- Epoch 1\n",
      "Norm: 455.28, NNZs: 100, Bias: 5.317411, T: 500, Avg. loss: 67.296190\n",
      "Total training time: 0.00 seconds.\n",
      "-- Epoch 2\n",
      "Norm: 385.35, NNZs: 100, Bias: 26.545164, T: 1000, Avg. loss: 45.516712\n",
      "Total training time: 0.00 seconds.\n",
      "-- Epoch 3\n",
      "Norm: 341.39, NNZs: 100, Bias: 48.473075, T: 1500, Avg. loss: 30.765915\n",
      "Total training time: 0.00 seconds.\n",
      "-- Epoch 4\n",
      "Norm: 327.80, NNZs: 100, Bias: 14.926826, T: 2000, Avg. loss: 27.288382\n",
      "Total training time: 0.00 seconds.\n",
      "-- Epoch 5\n",
      "Norm: 291.80, NNZs: 100, Bias: 36.729409, T: 2500, Avg. loss: 21.483379\n",
      "Total training time: 0.00 seconds.\n",
      "-- Epoch 6\n",
      "Norm: 266.60, NNZs: 100, Bias: 40.046822, T: 3000, Avg. loss: 20.189579\n",
      "Total training time: 0.00 seconds.\n",
      "-- Epoch 7\n",
      "Norm: 254.84, NNZs: 100, Bias: 22.036205, T: 3500, Avg. loss: 16.833738\n",
      "Total training time: 0.00 seconds.\n",
      "-- Epoch 8\n",
      "Norm: 234.34, NNZs: 100, Bias: 29.218708, T: 4000, Avg. loss: 14.665223\n",
      "Total training time: 0.00 seconds.\n",
      "-- Epoch 9\n",
      "Norm: 212.25, NNZs: 100, Bias: 27.222763, T: 4500, Avg. loss: 13.012815\n",
      "Total training time: 0.00 seconds.\n",
      "-- Epoch 10\n",
      "Norm: 196.07, NNZs: 100, Bias: 34.018753, T: 5000, Avg. loss: 9.610774\n",
      "Total training time: 0.00 seconds.\n",
      "-- Epoch 11\n",
      "Norm: 187.33, NNZs: 100, Bias: 23.418114, T: 5500, Avg. loss: 11.831135\n",
      "Total training time: 0.00 seconds.\n",
      "-- Epoch 12\n",
      "Norm: 175.21, NNZs: 100, Bias: 23.675921, T: 6000, Avg. loss: 9.991384\n",
      "Total training time: 0.00 seconds.\n",
      "-- Epoch 13\n",
      "Norm: 164.90, NNZs: 100, Bias: 14.896143, T: 6500, Avg. loss: 8.744889\n",
      "Total training time: 0.00 seconds.\n",
      "-- Epoch 14\n",
      "Norm: 157.08, NNZs: 100, Bias: 16.537263, T: 7000, Avg. loss: 8.346527\n",
      "Total training time: 0.00 seconds.\n",
      "-- Epoch 15\n",
      "Norm: 148.76, NNZs: 100, Bias: 20.778573, T: 7500, Avg. loss: 7.249798\n",
      "Total training time: 0.01 seconds.\n",
      "-- Epoch 16\n",
      "Norm: 142.20, NNZs: 100, Bias: 17.812773, T: 8000, Avg. loss: 8.281917\n",
      "Total training time: 0.01 seconds.\n",
      "-- Epoch 17\n",
      "Norm: 138.96, NNZs: 100, Bias: 13.834508, T: 8500, Avg. loss: 7.443486\n",
      "Total training time: 0.01 seconds.\n",
      "-- Epoch 18\n",
      "Norm: 133.52, NNZs: 100, Bias: 15.577791, T: 9000, Avg. loss: 6.432969\n",
      "Total training time: 0.01 seconds.\n",
      "-- Epoch 19\n",
      "Norm: 129.06, NNZs: 100, Bias: 14.808968, T: 9500, Avg. loss: 6.458732\n",
      "Total training time: 0.01 seconds.\n",
      "-- Epoch 20\n",
      "Norm: 123.15, NNZs: 100, Bias: 16.932494, T: 10000, Avg. loss: 5.766560\n",
      "Total training time: 0.01 seconds.\n",
      "-- Epoch 21\n",
      "Norm: 119.11, NNZs: 100, Bias: 17.358408, T: 10500, Avg. loss: 6.388889\n",
      "Total training time: 0.01 seconds.\n",
      "-- Epoch 22\n",
      "Norm: 114.73, NNZs: 100, Bias: 12.847438, T: 11000, Avg. loss: 5.533591\n",
      "Total training time: 0.01 seconds.\n",
      "-- Epoch 23\n",
      "Norm: 110.86, NNZs: 100, Bias: 11.511334, T: 11500, Avg. loss: 5.726287\n",
      "Total training time: 0.01 seconds.\n",
      "-- Epoch 24\n",
      "Norm: 106.96, NNZs: 100, Bias: 15.507499, T: 12000, Avg. loss: 4.948836\n",
      "Total training time: 0.01 seconds.\n",
      "-- Epoch 25\n",
      "Norm: 102.68, NNZs: 100, Bias: 16.021866, T: 12500, Avg. loss: 5.235897\n",
      "Total training time: 0.01 seconds.\n",
      "-- Epoch 26\n",
      "Norm: 99.49, NNZs: 100, Bias: 11.762009, T: 13000, Avg. loss: 5.209558\n",
      "Total training time: 0.01 seconds.\n",
      "-- Epoch 27\n",
      "Norm: 97.01, NNZs: 100, Bias: 12.851901, T: 13500, Avg. loss: 4.515104\n",
      "Total training time: 0.01 seconds.\n",
      "-- Epoch 28\n",
      "Norm: 95.41, NNZs: 100, Bias: 8.328580, T: 14000, Avg. loss: 4.706321\n",
      "Total training time: 0.01 seconds.\n",
      "-- Epoch 29\n",
      "Norm: 90.95, NNZs: 100, Bias: 7.160311, T: 14500, Avg. loss: 4.473193\n",
      "Total training time: 0.01 seconds.\n",
      "-- Epoch 30\n",
      "Norm: 88.33, NNZs: 100, Bias: 8.127950, T: 15000, Avg. loss: 3.908465\n",
      "Total training time: 0.01 seconds.\n",
      "-- Epoch 31\n",
      "Norm: 87.07, NNZs: 100, Bias: 11.411696, T: 15500, Avg. loss: 4.079552\n",
      "Total training time: 0.01 seconds.\n",
      "-- Epoch 32\n",
      "Norm: 85.36, NNZs: 100, Bias: 8.061722, T: 16000, Avg. loss: 3.976141\n",
      "Total training time: 0.01 seconds.\n",
      "-- Epoch 33\n",
      "Norm: 82.24, NNZs: 100, Bias: 11.470510, T: 16500, Avg. loss: 3.692251\n",
      "Total training time: 0.01 seconds.\n",
      "-- Epoch 34\n",
      "Norm: 80.16, NNZs: 100, Bias: 9.085895, T: 17000, Avg. loss: 4.159109\n",
      "Total training time: 0.01 seconds.\n",
      "-- Epoch 35\n",
      "Norm: 77.10, NNZs: 100, Bias: 9.363705, T: 17500, Avg. loss: 3.379649\n",
      "Total training time: 0.01 seconds.\n",
      "-- Epoch 36\n",
      "Norm: 76.02, NNZs: 100, Bias: 6.091890, T: 18000, Avg. loss: 3.205410\n",
      "Total training time: 0.01 seconds.\n",
      "-- Epoch 37\n",
      "Norm: 74.23, NNZs: 100, Bias: 10.495552, T: 18500, Avg. loss: 3.294346\n",
      "Total training time: 0.01 seconds.\n",
      "-- Epoch 38\n",
      "Norm: 72.48, NNZs: 100, Bias: 13.113606, T: 19000, Avg. loss: 3.172343\n",
      "Total training time: 0.01 seconds.\n",
      "-- Epoch 39\n",
      "Norm: 72.46, NNZs: 100, Bias: 7.400014, T: 19500, Avg. loss: 3.371928\n",
      "Total training time: 0.01 seconds.\n",
      "-- Epoch 40\n",
      "Norm: 71.06, NNZs: 100, Bias: 8.044164, T: 20000, Avg. loss: 3.014929\n",
      "Total training time: 0.01 seconds.\n",
      "-- Epoch 41\n",
      "Norm: 69.12, NNZs: 100, Bias: 8.690019, T: 20500, Avg. loss: 2.960677\n",
      "Total training time: 0.01 seconds.\n",
      "-- Epoch 42\n",
      "Norm: 67.39, NNZs: 100, Bias: 7.871158, T: 21000, Avg. loss: 2.868946\n",
      "Total training time: 0.01 seconds.\n",
      "-- Epoch 43\n",
      "Norm: 67.40, NNZs: 100, Bias: 10.563234, T: 21500, Avg. loss: 3.053704\n",
      "Total training time: 0.01 seconds.\n",
      "-- Epoch 44\n",
      "Norm: 65.88, NNZs: 100, Bias: 10.835301, T: 22000, Avg. loss: 2.825170\n",
      "Total training time: 0.01 seconds.\n",
      "-- Epoch 45\n",
      "Norm: 64.90, NNZs: 100, Bias: 9.493157, T: 22500, Avg. loss: 2.839835\n",
      "Total training time: 0.01 seconds.\n",
      "-- Epoch 46\n",
      "Norm: 63.39, NNZs: 100, Bias: 7.955387, T: 23000, Avg. loss: 3.041733\n",
      "Total training time: 0.01 seconds.\n",
      "-- Epoch 47\n",
      "Norm: 62.11, NNZs: 100, Bias: 7.212182, T: 23500, Avg. loss: 2.498109\n",
      "Total training time: 0.01 seconds.\n",
      "-- Epoch 48\n",
      "Norm: 62.44, NNZs: 100, Bias: 6.120776, T: 24000, Avg. loss: 2.551348\n",
      "Total training time: 0.01 seconds.\n",
      "-- Epoch 49\n",
      "Norm: 60.27, NNZs: 100, Bias: 7.435262, T: 24500, Avg. loss: 2.568715\n",
      "Total training time: 0.01 seconds.\n",
      "-- Epoch 50\n",
      "Norm: 58.71, NNZs: 100, Bias: 5.740508, T: 25000, Avg. loss: 2.972088\n",
      "Total training time: 0.01 seconds.\n",
      "-- Epoch 51\n",
      "Norm: 57.67, NNZs: 100, Bias: 7.845405, T: 25500, Avg. loss: 2.411237\n",
      "Total training time: 0.01 seconds.\n",
      "-- Epoch 52\n",
      "Norm: 56.81, NNZs: 100, Bias: 6.974813, T: 26000, Avg. loss: 2.417176\n",
      "Total training time: 0.01 seconds.\n",
      "-- Epoch 53\n",
      "Norm: 55.24, NNZs: 100, Bias: 7.969566, T: 26500, Avg. loss: 2.291536\n",
      "Total training time: 0.01 seconds.\n",
      "-- Epoch 54\n",
      "Norm: 55.08, NNZs: 100, Bias: 7.024652, T: 27000, Avg. loss: 2.402799\n",
      "Total training time: 0.01 seconds.\n",
      "-- Epoch 55\n",
      "Norm: 54.50, NNZs: 100, Bias: 5.974866, T: 27500, Avg. loss: 2.359036\n",
      "Total training time: 0.01 seconds.\n",
      "-- Epoch 56\n",
      "Norm: 54.06, NNZs: 100, Bias: 6.754281, T: 28000, Avg. loss: 2.177607\n",
      "Total training time: 0.01 seconds.\n",
      "-- Epoch 57\n",
      "Norm: 52.48, NNZs: 100, Bias: 5.521119, T: 28500, Avg. loss: 2.284994\n",
      "Total training time: 0.01 seconds.\n",
      "-- Epoch 58\n",
      "Norm: 51.52, NNZs: 100, Bias: 5.351238, T: 29000, Avg. loss: 2.069578\n",
      "Total training time: 0.01 seconds.\n",
      "-- Epoch 59\n",
      "Norm: 50.76, NNZs: 100, Bias: 6.202780, T: 29500, Avg. loss: 2.172111\n",
      "Total training time: 0.01 seconds.\n",
      "-- Epoch 60\n",
      "Norm: 51.03, NNZs: 100, Bias: 4.628715, T: 30000, Avg. loss: 2.065372\n",
      "Total training time: 0.01 seconds.\n",
      "-- Epoch 61\n",
      "Norm: 50.49, NNZs: 100, Bias: 6.322038, T: 30500, Avg. loss: 2.011058\n",
      "Total training time: 0.01 seconds.\n",
      "-- Epoch 62\n",
      "Norm: 49.51, NNZs: 100, Bias: 5.251165, T: 31000, Avg. loss: 1.918264\n",
      "Total training time: 0.01 seconds.\n",
      "-- Epoch 63\n",
      "Norm: 48.51, NNZs: 100, Bias: 7.464526, T: 31500, Avg. loss: 1.750359\n",
      "Total training time: 0.01 seconds.\n",
      "-- Epoch 64\n",
      "Norm: 47.75, NNZs: 100, Bias: 6.295806, T: 32000, Avg. loss: 1.941515\n",
      "Total training time: 0.01 seconds.\n",
      "-- Epoch 65\n",
      "Norm: 47.25, NNZs: 100, Bias: 7.242754, T: 32500, Avg. loss: 1.857119\n",
      "Total training time: 0.01 seconds.\n",
      "-- Epoch 66\n",
      "Norm: 46.78, NNZs: 100, Bias: 6.430721, T: 33000, Avg. loss: 2.035744\n",
      "Total training time: 0.01 seconds.\n",
      "-- Epoch 67\n",
      "Norm: 46.27, NNZs: 100, Bias: 6.718198, T: 33500, Avg. loss: 1.868671\n",
      "Total training time: 0.01 seconds.\n",
      "-- Epoch 68\n",
      "Norm: 45.44, NNZs: 100, Bias: 6.450816, T: 34000, Avg. loss: 1.808558\n",
      "Total training time: 0.01 seconds.\n",
      "Convergence after 68 epochs took 0.01 seconds\n"
     ]
    },
    {
     "data": {
      "text/plain": [
       "SGDClassifier(loss='log', tol=0.01, verbose=True)"
      ]
     },
     "execution_count": 60,
     "metadata": {},
     "output_type": "execute_result"
    }
   ],
   "source": [
    "# >>> WRITE YOUR CODE BELOW <<<\n",
    "clf = sklearn.linear_model.SGDClassifier(loss='log', tol=1e-2, max_iter=1000, verbose=True)\n",
    "clf.fit(x_train, y_train)\n"
   ]
  },
  {
   "cell_type": "code",
   "execution_count": 61,
   "metadata": {},
   "outputs": [
    {
     "name": "stdout",
     "output_type": "stream",
     "text": [
      "Train accuracy: 0.9 \n",
      "Test Accuracy 0.758\n"
     ]
    }
   ],
   "source": [
    "print(f\"Train accuracy: {clf.score(x_train, y_train)} \\nTest Accuracy {clf.score(x_test, y_test)}\")"
   ]
  },
  {
   "cell_type": "code",
   "execution_count": 26,
   "metadata": {},
   "outputs": [],
   "source": [
    "import sys\n",
    "import io\n",
    "import matplotlib.pyplot as plt\n",
    "\n",
    "class StdOutIntercept(object):\n",
    "    def __init__(self, print_loss=False):\n",
    "        self.print_loss = print_loss\n",
    "        \n",
    "    def __enter__(self):\n",
    "        self.old_stdout = sys.stdout\n",
    "        sys.stdout = self.mystdout = io.StringIO()\n",
    "\n",
    "    def __exit__(self, *args, **kwargs):\n",
    "        sys.stdout = self.old_stdout\n",
    "        loss_history = self.mystdout.getvalue()\n",
    "        loss_list = []\n",
    "        for line in loss_history.split('\\n'):\n",
    "            if(len(line.split(\"loss: \")) == 1):\n",
    "                continue\n",
    "            loss_list.append(float(line.split(\"loss: \")[-1]))\n",
    "        plt.figure()\n",
    "        plt.plot(np.arange(len(loss_list)), loss_list)\n",
    "        plt.xlabel(\"Epoch\")\n",
    "        plt.ylabel(\"Loss\")\n",
    "\n",
    "        if self.print_loss:\n",
    "            print(\"=============== Loss Array ===============\")\n",
    "            print(np.array(loss_list))\n",
    "\n",
    "        return True\n"
   ]
  },
  {
   "cell_type": "code",
   "execution_count": 27,
   "metadata": {},
   "outputs": [
    {
     "data": {
      "image/png": "[encoded data removed]",
      "text/plain": [
       "<Figure size 432x288 with 1 Axes>"
      ]
     },
     "metadata": {
      "needs_background": "light"
     },
     "output_type": "display_data"
    }
   ],
   "source": [
    "clf = sklearn.linear_model.SGDClassifier(loss='log', tol=1e-2, max_iter=1000, verbose=True)\n",
    "with StdOutIntercept():\n",
    "    clf.fit(x_train, y_train)"
   ]
  },
  {
   "cell_type": "code",
   "execution_count": 65,
   "metadata": {},
   "outputs": [
    {
     "name": "stdout",
     "output_type": "stream",
     "text": [
      "-------------FITTING MODELS-------------\n"
     ]
    },
    {
     "name": "stderr",
     "output_type": "stream",
     "text": [
      "[Parallel(n_jobs=-1)]: Using backend LokyBackend with 12 concurrent workers.\n",
      "[Parallel(n_jobs=-1)]: Done   1 tasks      | elapsed:    0.0s\n",
      "[Parallel(n_jobs=-1)]: Batch computation too fast (0.0070s.) Setting batch_size=2.\n",
      "[Parallel(n_jobs=-1)]: Done   8 tasks      | elapsed:    0.0s\n",
      "[Parallel(n_jobs=-1)]: Done  17 tasks      | elapsed:    0.0s\n",
      "[Parallel(n_jobs=-1)]: Batch computation too fast (0.0341s.) Setting batch_size=4.\n",
      "[Parallel(n_jobs=-1)]: Done  28 tasks      | elapsed:    0.0s\n",
      "[Parallel(n_jobs=-1)]: Done  50 tasks      | elapsed:    0.0s\n",
      "[Parallel(n_jobs=-1)]: Batch computation too fast (0.1284s.) Setting batch_size=8.\n",
      "[Parallel(n_jobs=-1)]: Done  82 tasks      | elapsed:    0.1s\n",
      "[Parallel(n_jobs=-1)]: Done 126 tasks      | elapsed:    0.3s\n",
      "[Parallel(n_jobs=-1)]: Done 192 tasks      | elapsed:    0.5s\n",
      "[Parallel(n_jobs=-1)]: Done 304 tasks      | elapsed:    1.0s\n",
      "[Parallel(n_jobs=-1)]: Done 424 tasks      | elapsed:    1.4s\n",
      "[Parallel(n_jobs=-1)]: Done 560 tasks      | elapsed:    1.8s\n",
      "[Parallel(n_jobs=-1)]: Done 696 tasks      | elapsed:    2.2s\n",
      "[Parallel(n_jobs=-1)]: Done 848 tasks      | elapsed:    2.6s\n",
      "[Parallel(n_jobs=-1)]: Done 1000 tasks      | elapsed:    3.1s\n",
      "[Parallel(n_jobs=-1)]: Done 1140 tasks      | elapsed:    3.4s\n",
      "[Parallel(n_jobs=-1)]: Done 1175 tasks      | elapsed:    3.5s\n",
      "[Parallel(n_jobs=-1)]: Done 1219 tasks      | elapsed:    3.6s\n",
      "[Parallel(n_jobs=-1)]: Done 1296 out of 1296 | elapsed:    4.1s finished\n",
      "[Parallel(n_jobs=-1)]: Using backend LokyBackend with 12 concurrent workers.\n",
      "[Parallel(n_jobs=-1)]: Done  26 tasks      | elapsed:    0.0s\n"
     ]
    },
    {
     "name": "stdout",
     "output_type": "stream",
     "text": [
      "-------------SCORING MODELS-------------\n",
      "Too many dimensions to plot.\n"
     ]
    },
    {
     "name": "stderr",
     "output_type": "stream",
     "text": [
      "[Parallel(n_jobs=-1)]: Done 1172 tasks      | elapsed:    0.1s\n",
      "[Parallel(n_jobs=-1)]: Done 1296 out of 1296 | elapsed:    0.2s finished\n"
     ]
    }
   ],
   "source": [
    "from parfit import bestFit \n",
    "from sklearn.metrics import roc_auc_score, accuracy_score\n",
    "grid = {\n",
    "    'alpha': [1e-4, 1e-3, 1e-2, 1e-1],\n",
    "    'loss': ['log'],\n",
    "    'tol': [1e-3, 1e-2, 1e-1],\n",
    "    'learning_rate': ['constant', 'optimal', 'adaptive'],\n",
    "    'eta0': [1e-4, 1e-3, 1e-2],\n",
    "    'n_iter_no_change': [5, 10, 20, 50, 100, 500],\n",
    "    'shuffle': [True, False],\n",
    "    'max_iter': [1000]\n",
    "}\n",
    "paramGrid = sklearn.model_selection.ParameterGrid(grid)\n",
    "best_model, best_score, all_models, all_scores = bestFit(SGDClassifier, paramGrid, \\\n",
    "                                                         x_train, y_train, \\\n",
    "                                                         x_test, y_test, \\\n",
    "                                                         metric = accuracy_score, predict_proba=False, scoreLabel='ACC')\n"
   ]
  },
  {
   "cell_type": "code",
   "execution_count": 63,
   "metadata": {},
   "outputs": [
    {
     "name": "stdout",
     "output_type": "stream",
     "text": [
      "{'alpha': 0.0001, 'eta0': 0.001, 'learning_rate': 'adaptive', 'loss': 'log', 'max_iter': 1000, 'n_iter_no_change': 10, 'shuffle': False, 'tol': 0.1} 0.866\n"
     ]
    }
   ],
   "source": [
    "print(best_model, best_score)"
   ]
  },
  {
   "cell_type": "code",
   "execution_count": 64,
   "metadata": {},
   "outputs": [
    {
     "name": "stdout",
     "output_type": "stream",
     "text": [
      "Train accuracy: 0.86 \n",
      "Test Accuracy 0.858\n"
     ]
    },
    {
     "data": {
      "image/png": "[encoded data removed]",
      "text/plain": [
       "<Figure size 432x288 with 1 Axes>"
      ]
     },
     "metadata": {
      "needs_background": "light"
     },
     "output_type": "display_data"
    }
   ],
   "source": [
    "best_model = sklearn.linear_model.SGDClassifier(eta0=0.0001, learning_rate='adaptive', loss='log', \\\n",
    "                                                n_iter_no_change=20, tol=0.01, verbose=True)\n",
    "with StdOutIntercept():\n",
    "    best_model.fit(x_train, y_train)\n",
    "\n",
    "\n",
    "print(f\"Train accuracy: {best_model.score(x_train, y_train)} \\nTest Accuracy {best_model.score(x_test, y_test)}\")"
   ]
  },
  {
   "cell_type": "code",
   "execution_count": 66,
   "metadata": {},
   "outputs": [
    {
     "name": "stdout",
     "output_type": "stream",
     "text": [
      "Train accuracy: 0.896 \n",
      "Test Accuracy 0.84\n"
     ]
    },
    {
     "data": {
      "image/png": "[encoded data removed]",
      "text/plain": [
       "<Figure size 432x288 with 1 Axes>"
      ]
     },
     "metadata": {
      "needs_background": "light"
     },
     "output_type": "display_data"
    }
   ],
   "source": [
    "best_model = sklearn.linear_model.SGDClassifier(eta0=0.0001, learning_rate='constant', loss='log', \\\n",
    "                                                n_iter_no_change=50, tol=0.001, verbose=True)\n",
    "with StdOutIntercept():\n",
    "    best_model.fit(x_train, y_train)\n",
    "\n",
    "\n",
    "print(f\"Train accuracy: {best_model.score(x_train, y_train)} \\nTest Accuracy {best_model.score(x_test, y_test)}\")"
   ]
  },
  {
   "cell_type": "code",
   "execution_count": 67,
   "metadata": {},
   "outputs": [
    {
     "name": "stdout",
     "output_type": "stream",
     "text": [
      "Train accuracy: 0.936 \n",
      "Test Accuracy 0.758\n"
     ]
    },
    {
     "data": {
      "image/png": "[encoded data removed]",
      "text/plain": [
       "<Figure size 432x288 with 1 Axes>"
      ]
     },
     "metadata": {
      "needs_background": "light"
     },
     "output_type": "display_data"
    }
   ],
   "source": [
    "best_model = sklearn.linear_model.SGDClassifier(eta0=0.01, learning_rate='constant', loss='log', \\\n",
    "                                                n_iter_no_change=50, verbose=True)\n",
    "with StdOutIntercept():\n",
    "    best_model.fit(x_train, y_train)\n",
    "\n",
    "\n",
    "print(f\"Train accuracy: {best_model.score(x_train, y_train)} \\nTest Accuracy {best_model.score(x_test, y_test)}\")"
   ]
  },
  {
   "cell_type": "markdown",
   "metadata": {},
   "source": [
    "Optimal configuration ensures highest test score, was achieved with this model\n",
    "```\n",
    "best_model = sklearn.linear_model.SGDClassifier(eta0=0.0001, learning_rate='adaptive', loss='log',\n",
    "                                                n_iter_no_change=20, tol=0.01, verbose=True)\n",
    "```\n",
    "Other tested configs offered higher train accuracy, but lower test accuracy, indicating overfitting."
   ]
  },
  {
   "cell_type": "code",
   "execution_count": null,
   "metadata": {},
   "outputs": [],
   "source": []
  }
 ],
 "metadata": {
  "author": {
   "emails": [
    "robert.susik@p.lodz.pl",
    "rsusik@kis.p.lodz.pl"
   ],
   "name": "Robert Susik"
  },
  "kernelspec": {
   "display_name": "Python 3",
   "language": "python",
   "name": "python3"
  },
  "language_info": {
   "codemirror_mode": {
    "name": "ipython",
    "version": 3
   },
   "file_extension": ".py",
   "mimetype": "text/x-python",
   "name": "python",
   "nbconvert_exporter": "python",
   "pygments_lexer": "ipython3",
   "version": "3.8.1"
  },
  "toc": {
   "base_numbering": 1,
   "nav_menu": {},
   "number_sections": true,
   "sideBar": true,
   "skip_h1_title": false,
   "title_cell": "Table of Contents",
   "title_sidebar": "Contents",
   "toc_cell": false,
   "toc_position": {},
   "toc_section_display": true,
   "toc_window_display": true
  }
 },
 "nbformat": 4,
 "nbformat_minor": 4
}
